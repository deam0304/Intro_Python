{
 "cells": [
  {
   "cell_type": "markdown",
   "metadata": {},
   "source": [
    " <font size=\"5\">\n",
    " <div class=\"alert alert-block alert-info\"> <b>Módulo introdutório de Python - Aula 2<b>\n",
    "     </div>\n",
    "</font> \n",
    " \n",
    " \\vspace{.03in}\n",
    "     \n",
    "    \n",
    "  <font size=\"4\"> Mestrado em Ciência de Dados </font>\n",
    "  \\vspace{.03in}\n",
    "  \n",
    "  \n",
    "  <font size=\"3\"> **Diana Aldea Mendes** </font>\n",
    "  \\vspace{.03in}\n",
    "  <font size=\"3\"> ISCTE-IUL, 5-9 de setembro de 2023 </font>\n",
    "  \\vspace{.03in}\n",
    "   \n",
    "  <font size=\"3\"> *diana.mendes@iscte-iul.pt* </font> \n",
    "  \\vspace{.03in}\n",
    "  \n",
    "      \n",
    "    \n",
    "  <font size=\"5\"><div class=\"alert alert-success\"> <b>Tópicos do dia 2 <b> </div></font>\n",
    "  \\vspace{.03in}\n",
    "  \n",
    " \n",
    " -  <font size=\"4\"> Conditionals and Loops: `if, for, else, while`, Functions </font> \n",
    "  \\vspace{.03in}\n",
    "  \n",
    " \n"
   ]
  },
  {
   "cell_type": "markdown",
   "metadata": {},
   "source": [
    "<font size=\"5\">\n",
    " <div class=\"alert alert-block alert-info\">\n",
    "    <b> Bibliografia</b> \n",
    " </div>\n",
    "</font> \n",
    "\n",
    "1. Paul Deitel, Harvey Deitel, (2020), Intro to Python for Computer Science and Data Science: Learning to Program with AI, Big Data and the Cloud, Pearson Education, Inc.\n",
    "2. Tony Gaddis, (2022), Starting Out with Python, (5th Ed.), Pearson (Chapter 3 and 4)."
   ]
  },
  {
   "cell_type": "markdown",
   "metadata": {},
   "source": [
    "\n",
    "# Conditionals and Loops\n",
    "\n",
    "\n",
    "- In this section, we will cover ``if, else, elif, for, while`` statements. \n",
    "- The comparison and logical operators (``==, <, >, True, False``) we learned in previous day will be useful here.\n",
    "\n"
   ]
  },
  {
   "cell_type": "markdown",
   "metadata": {},
   "source": [
    "## if, elif, else Statements"
   ]
  },
  {
   "cell_type": "markdown",
   "metadata": {},
   "source": [
    "### if Statement"
   ]
  },
  {
   "cell_type": "markdown",
   "metadata": {},
   "source": [
    "In Python the reserved word ``if`` can be used in order to check if a condition is true and to execute the block code.\n",
    "\n",
    "It is very important to respect the **indentation** after the colon ``':'`` (that is a 'tab' measure), otherwise we get a syntax error.\n",
    "\n",
    "```py\n",
    "# syntax\n",
    "if condition:\n",
    "    part of code to run for true condition(s)\n",
    "```"
   ]
  },
  {
   "cell_type": "code",
   "execution_count": 48,
   "metadata": {
    "ExecuteTime": {
     "end_time": "2023-09-06T19:17:15.974535Z",
     "start_time": "2023-09-06T19:17:15.954527Z"
    }
   },
   "outputs": [
    {
     "name": "stdout",
     "output_type": "stream",
     "text": [
      "ana\n"
     ]
    }
   ],
   "source": [
    "# Simple example for 'if' statement\n",
    "\n",
    "if 1 < 2:\n",
    "    print('ana')\n"
   ]
  },
  {
   "cell_type": "code",
   "execution_count": 51,
   "metadata": {
    "ExecuteTime": {
     "end_time": "2023-09-06T19:18:04.618509Z",
     "start_time": "2023-09-06T19:18:04.597501Z"
    }
   },
   "outputs": [
    {
     "name": "stdout",
     "output_type": "stream",
     "text": [
      "A is a positive number\n"
     ]
    }
   ],
   "source": [
    "# Simple example for 'if' statement\n",
    "\n",
    "a = 276 \n",
    "if a > 0:\n",
    "    print('A is a positive number')\n",
    "\n"
   ]
  },
  {
   "cell_type": "markdown",
   "metadata": {},
   "source": [
    "#####################################################################\n",
    "\n",
    "- $a=276$ is greater than 0, the condition was true and the code was executed. \n",
    "- If the stated condition is false, then, we do not see the result. \n",
    "- In order to observe the result of the false condition, we define another block with ``else`` statement."
   ]
  },
  {
   "cell_type": "code",
   "execution_count": 52,
   "metadata": {
    "ExecuteTime": {
     "end_time": "2023-09-06T19:18:46.120380Z",
     "start_time": "2023-09-06T19:18:46.101373Z"
    }
   },
   "outputs": [
    {
     "ename": "IndentationError",
     "evalue": "expected an indented block after 'if' statement on line 4 (4164058679.py, line 5)",
     "output_type": "error",
     "traceback": [
      "\u001b[1;36m  Cell \u001b[1;32mIn[52], line 5\u001b[1;36m\u001b[0m\n\u001b[1;33m    print('A is a positive number')\u001b[0m\n\u001b[1;37m    ^\u001b[0m\n\u001b[1;31mIndentationError\u001b[0m\u001b[1;31m:\u001b[0m expected an indented block after 'if' statement on line 4\n"
     ]
    }
   ],
   "source": [
    "# the same example as before but without indentation\n",
    "\n",
    "a = 276 \n",
    "if a > 0:                   \n",
    "print('A is a positive number')\n"
   ]
  },
  {
   "cell_type": "markdown",
   "metadata": {},
   "source": [
    "### if  else Statement\n",
    "\n",
    "- If condition is true the first block will be executed, if not the else condition will run.\n",
    "\n",
    "```py\n",
    "# syntax\n",
    "if condition:\n",
    "    part of code to run for true conditions\n",
    "else:\n",
    "    part of code to runs for false conditions\n",
    "```"
   ]
  },
  {
   "cell_type": "code",
   "execution_count": 54,
   "metadata": {
    "ExecuteTime": {
     "end_time": "2023-09-06T19:21:02.583702Z",
     "start_time": "2023-09-06T19:21:02.572700Z"
    }
   },
   "outputs": [
    {
     "name": "stdout",
     "output_type": "stream",
     "text": [
      "A is a negative number\n"
     ]
    }
   ],
   "source": [
    "# Example\n",
    "\n",
    "a = -276\n",
    "if a < 0:\n",
    "    print('A is a negative number')\n",
    "else:\n",
    "    print('A is a positive number')"
   ]
  },
  {
   "cell_type": "markdown",
   "metadata": {
    "ExecuteTime": {
     "start_time": "2020-09-07T22:00:21.123Z"
    }
   },
   "source": [
    " \n",
    " The condition above was false, so, the else block was executed.\n",
    " \n",
    " If our condition has more than two different situations, than we can use _elif_."
   ]
  },
  {
   "cell_type": "markdown",
   "metadata": {},
   "source": [
    "### if elif else Statement\n",
    "\n",
    "- Possibility to decide between multiple conditions. For this purpose we use ``elif`` statement (add on to ``if`` and ``else``).\n",
    "\n",
    "```py\n",
    "# syntax\n",
    "if condition:\n",
    "    code\n",
    "elif condition:\n",
    "    code\n",
    "else:\n",
    "    code\n",
    "\n",
    "```"
   ]
  },
  {
   "cell_type": "code",
   "execution_count": 55,
   "metadata": {
    "ExecuteTime": {
     "end_time": "2023-09-06T19:22:43.950364Z",
     "start_time": "2023-09-06T19:22:43.934365Z"
    }
   },
   "outputs": [
    {
     "name": "stdout",
     "output_type": "stream",
     "text": [
      "A is a negative number\n"
     ]
    }
   ],
   "source": [
    "# Example\n",
    "\n",
    "a = -10\n",
    "if a > 0:\n",
    "    print('A is a positive number')\n",
    "elif a < 0:\n",
    "    print('A is a negative number')\n",
    "else:\n",
    "    print('A is zero')"
   ]
  },
  {
   "cell_type": "markdown",
   "metadata": {},
   "source": [
    "### if else Statement Short Hand\n",
    "\n",
    "```py\n",
    "# syntax\n",
    "code if condition else code\n",
    "```"
   ]
  },
  {
   "cell_type": "code",
   "execution_count": 56,
   "metadata": {
    "ExecuteTime": {
     "end_time": "2023-09-06T19:23:37.303119Z",
     "start_time": "2023-09-06T19:23:37.288093Z"
    }
   },
   "outputs": [
    {
     "name": "stdout",
     "output_type": "stream",
     "text": [
      "A is positive\n"
     ]
    }
   ],
   "source": [
    "# the same as before, but using short hand syntax\n",
    "a = 3\n",
    "print('A is positive') if a > 0 else print('A is negative') "
   ]
  },
  {
   "cell_type": "markdown",
   "metadata": {},
   "source": [
    "### Nested Conditions\n",
    "\n",
    "Conditions can be nested (one condition only will be executed if other condition it is true (for example))\n",
    "\n",
    "```py\n",
    "# syntax\n",
    "if condition:\n",
    "    code\n",
    "    if condition:\n",
    "    code\n",
    "```\n"
   ]
  },
  {
   "cell_type": "code",
   "execution_count": 57,
   "metadata": {
    "ExecuteTime": {
     "end_time": "2023-09-06T19:24:51.663082Z",
     "start_time": "2023-09-06T19:24:51.642576Z"
    }
   },
   "outputs": [
    {
     "name": "stdout",
     "output_type": "stream",
     "text": [
      "A is a positive number\n"
     ]
    }
   ],
   "source": [
    "# Example\n",
    "\n",
    "a = 11\n",
    "if a > 0:\n",
    "    if a % 2 == 0:\n",
    "        print('A is a positive and even integer')\n",
    "    else:\n",
    "        print('A is a positive number')\n",
    "elif a == 0:\n",
    "    print('A is zero')\n",
    "else:\n",
    "    print('A is a negative number')\n"
   ]
  },
  {
   "cell_type": "markdown",
   "metadata": {},
   "source": [
    "####################################################################################\n",
    "\n",
    "The nested condition can be avoid (they are more time consuming) if we use logical operator ``and, or``.\n",
    "\n",
    "```py\n",
    "# syntax\n",
    "if condition and condition:\n",
    "    code\n",
    "```\n",
    "```py\n",
    "# syntax\n",
    "if condition or condition:\n",
    "    code\n",
    "```"
   ]
  },
  {
   "cell_type": "code",
   "execution_count": null,
   "metadata": {
    "ExecuteTime": {
     "end_time": "2023-09-06T10:39:08.208768Z",
     "start_time": "2023-09-06T10:39:08.193009Z"
    }
   },
   "outputs": [],
   "source": [
    "# Example\n",
    "\n",
    "a = 10\n",
    "if a > 0 and a % 2 == 0:\n",
    "        print('A is an even and positive integer')\n",
    "elif a > 0 and a % 2 != 0:\n",
    "     print('A is a positive integer')\n",
    "elif a == 0:\n",
    "    print('A is zero')\n",
    "else:\n",
    "    print('A is negative')"
   ]
  },
  {
   "cell_type": "code",
   "execution_count": 58,
   "metadata": {
    "ExecuteTime": {
     "end_time": "2023-09-06T19:28:01.825845Z",
     "start_time": "2023-09-06T19:28:01.801829Z"
    }
   },
   "outputs": [
    {
     "name": "stdout",
     "output_type": "stream",
     "text": [
      "Access denied!\n"
     ]
    }
   ],
   "source": [
    "# Example\n",
    "\n",
    "user = 'Diana'\n",
    "access_level = 1\n",
    "if user == 'admin' or access_level >= 4:\n",
    "        print('Access granted!')\n",
    "else:\n",
    "    print('Access denied!')"
   ]
  },
  {
   "cell_type": "markdown",
   "metadata": {},
   "source": [
    "\n",
    "\n",
    "\n",
    "\n"
   ]
  },
  {
   "cell_type": "markdown",
   "metadata": {},
   "source": [
    "##  Loops"
   ]
  },
  {
   "cell_type": "markdown",
   "metadata": {},
   "source": [
    "Loops/Cycles corresponds to repetitive tasks. Python programming language provides two type of loops, namely:\n",
    "\n",
    "1. ``while`` loop\n",
    "2. ``for`` loop"
   ]
  },
  {
   "cell_type": "markdown",
   "metadata": {},
   "source": [
    "### While Loop\n",
    "\n",
    "- We use the reserved word ``while`` to make a while loop. \n",
    "- For this loop a block of statements will be repeated until a given condition is satisfied. \n",
    "- When the condition becomes false, the lines of code after the loop will be continued to be executed.\n",
    "\n",
    "```py\n",
    "  # syntax\n",
    "while condition:\n",
    "    code \n",
    "```"
   ]
  },
  {
   "cell_type": "code",
   "execution_count": 59,
   "metadata": {
    "ExecuteTime": {
     "end_time": "2023-09-06T19:29:56.152516Z",
     "start_time": "2023-09-06T19:29:56.136505Z"
    }
   },
   "outputs": [
    {
     "name": "stdout",
     "output_type": "stream",
     "text": [
      "0\n",
      "1\n",
      "2\n",
      "3\n",
      "4\n",
      "5\n",
      "6\n"
     ]
    }
   ],
   "source": [
    "# Example\n",
    "\n",
    "x = 0\n",
    "while x < 7:\n",
    "    print(x)\n",
    "    x = x + 1"
   ]
  },
  {
   "cell_type": "markdown",
   "metadata": {},
   "source": [
    "The condition becomes false when x is 6, which means that, at this point, the loop stops.\n",
    "\n",
    "We are interested to run block of code for the case when the condition it is no longer true. For this situation we can use ``else`` statement.\n",
    "\n",
    "```py\n",
    "  # syntax\n",
    "while condition:\n",
    "    code \n",
    "else:\n",
    "    code \n",
    "```"
   ]
  },
  {
   "cell_type": "code",
   "execution_count": 60,
   "metadata": {
    "ExecuteTime": {
     "end_time": "2023-09-06T19:30:37.938486Z",
     "start_time": "2023-09-06T19:30:37.923486Z"
    }
   },
   "outputs": [
    {
     "name": "stdout",
     "output_type": "stream",
     "text": [
      "0\n",
      "1\n",
      "2\n",
      "3\n",
      "4\n",
      "5\n",
      "6\n",
      "7\n"
     ]
    }
   ],
   "source": [
    "# Example\n",
    "\n",
    "x = 0\n",
    "while x < 7:\n",
    "    print(x)\n",
    "    x = x + 1\n",
    "else:\n",
    "    print(x)"
   ]
  },
  {
   "cell_type": "markdown",
   "metadata": {},
   "source": [
    "### Break and Continue - Part 1\n",
    "\n",
    "- ``break``: We use break when we want to stop the loop.\n",
    "\n",
    "```py\n",
    "# syntax\n",
    "while condition_1:\n",
    "    code \n",
    "    if condition_2:\n",
    "        break\n",
    "```"
   ]
  },
  {
   "cell_type": "code",
   "execution_count": 63,
   "metadata": {
    "ExecuteTime": {
     "end_time": "2023-09-06T19:32:04.008189Z",
     "start_time": "2023-09-06T19:32:03.985184Z"
    }
   },
   "outputs": [
    {
     "name": "stdout",
     "output_type": "stream",
     "text": [
      "0\n",
      "1\n",
      "2\n",
      "3\n",
      "4\n",
      "5\n",
      "6\n",
      "7\n",
      "8\n"
     ]
    }
   ],
   "source": [
    "# Example\n",
    "\n",
    "x = 0\n",
    "while x < 12:\n",
    "    print(x)\n",
    "    x = x + 1\n",
    "    if x == 9:\n",
    "        break"
   ]
  },
  {
   "cell_type": "markdown",
   "metadata": {},
   "source": [
    "\n",
    "### For Loop\n",
    "\n",
    "The ``for`` researved word it is used to define a ``for`` loop.\n",
    "\n",
    "A ``for`` Loop is applied in order to iterate over a sequence (list, tuple, dictionary, set, string).\n",
    "\n",
    "It is the main Loop in any iterative process (mathematical difference equations, economic modeling, etc)\n",
    "\n",
    "- ``for`` loop with list\n",
    "\n",
    "```py\n",
    "# syntax\n",
    "for iterator in list:\n",
    "    code \n",
    "```\n",
    "\n",
    "- ``for`` loop with string\n",
    "\n",
    "```py\n",
    "# syntax\n",
    "for iterator in string:\n",
    "    code \n",
    "```\n",
    "\n",
    "- ``for`` loop with tuple\n",
    "\n",
    "```py\n",
    "# syntax\n",
    "for iterator in tuple:\n",
    "    code \n",
    "```\n",
    "- ``for`` loop with dictionary\n",
    "  \n",
    "```py\n",
    "  # syntax\n",
    "for iterator in dictionary:\n",
    "    code \n",
    "```\n",
    "\n",
    "- ``for`` loop with sets\n",
    "\n",
    "```py\n",
    "# syntax\n",
    "for iterator in sets:\n",
    "    code\n",
    "```"
   ]
  },
  {
   "cell_type": "code",
   "execution_count": 65,
   "metadata": {
    "ExecuteTime": {
     "end_time": "2023-09-06T19:33:47.243184Z",
     "start_time": "2023-09-06T19:33:47.226153Z"
    }
   },
   "outputs": [
    {
     "name": "stdout",
     "output_type": "stream",
     "text": [
      "3\n",
      "6\n",
      "9\n"
     ]
    }
   ],
   "source": [
    "# Example\n",
    "\n",
    "#list_1 = [0, 1, 2, 3, 4, 5]\n",
    "for x in [3,6,9]: \n",
    "    print(x)       "
   ]
  },
  {
   "cell_type": "code",
   "execution_count": 66,
   "metadata": {
    "ExecuteTime": {
     "end_time": "2023-09-06T19:35:54.421874Z",
     "start_time": "2023-09-06T19:35:54.414867Z"
    }
   },
   "outputs": [
    {
     "name": "stdout",
     "output_type": "stream",
     "text": [
      "[1, 4, 9, 16]\n"
     ]
    }
   ],
   "source": [
    "# for loop example 2\n",
    "\n",
    "xx = [1,2,3,4]\n",
    "out = []\n",
    "for item in xx:\n",
    "    out.append(item**2)\n",
    "print(out)\n"
   ]
  },
  {
   "cell_type": "code",
   "execution_count": 67,
   "metadata": {
    "ExecuteTime": {
     "end_time": "2023-09-06T19:37:03.071748Z",
     "start_time": "2023-09-06T19:37:03.057753Z"
    },
    "run_control": {
     "marked": true
    }
   },
   "outputs": [
    {
     "data": {
      "text/plain": [
       "[1156, 3249, 54756, 443556]"
      ]
     },
     "execution_count": 67,
     "metadata": {},
     "output_type": "execute_result"
    }
   ],
   "source": [
    "# smart computing, the same as for loop example 2\n",
    "xx=[34, 57, 234, 666]\n",
    "[item**2 for item in xx]"
   ]
  },
  {
   "cell_type": "code",
   "execution_count": null,
   "metadata": {
    "ExecuteTime": {
     "end_time": "2023-09-06T10:40:30.323416Z",
     "start_time": "2023-09-06T10:40:30.312409Z"
    }
   },
   "outputs": [],
   "source": [
    "# Example\n",
    "\n",
    "string_1 = 'Data_Science'\n",
    "for letra in string_1:\n",
    "    print(letra)"
   ]
  },
  {
   "cell_type": "code",
   "execution_count": null,
   "metadata": {
    "ExecuteTime": {
     "end_time": "2023-09-06T10:40:33.804098Z",
     "start_time": "2023-09-06T10:40:33.784098Z"
    }
   },
   "outputs": [],
   "source": [
    "# Example\n",
    "\n",
    "tuple_1 = (0,1,2,3,4,5)\n",
    "for number in tuple_1:\n",
    "    print('10')"
   ]
  },
  {
   "cell_type": "code",
   "execution_count": null,
   "metadata": {
    "ExecuteTime": {
     "end_time": "2023-09-06T10:40:35.282759Z",
     "start_time": "2023-09-06T10:40:35.272754Z"
    }
   },
   "outputs": [],
   "source": [
    "# define dictionary\n",
    "dictionary_1 = {\n",
    "    'first_name':'ana',\n",
    "    'last_name':'silva',\n",
    "    'age':22,\n",
    "    'country':'Spain',\n",
    "    'info_skills':['JavaScript', 'Julia', 'R', 'MongoDB', 'Python', 'Excel'],\n",
    "    }\n",
    "\n",
    "for key in dictionary_1:\n",
    "    print(key)\n",
    "\n",
    "for key, value in dictionary_1.items():\n",
    "    print(key, value) # this way we get both keys and values printed out"
   ]
  },
  {
   "cell_type": "code",
   "execution_count": null,
   "metadata": {
    "ExecuteTime": {
     "end_time": "2023-09-06T10:40:36.709106Z",
     "start_time": "2023-09-06T10:40:36.704085Z"
    }
   },
   "outputs": [],
   "source": [
    "# Example\n",
    "\n",
    "set_1 = {'Facebook', 'Google', 'Microsoft', 'Apple', 'IBM', 'Oracle', 'Amazon'}\n",
    "for company in set_1:\n",
    "    print(company)"
   ]
  },
  {
   "cell_type": "markdown",
   "metadata": {},
   "source": [
    "\n",
    "### The Range Function\n",
    "\n",
    "The ``range()`` function is used to loop through a set of code a certain number of times. \n",
    "\n",
    "The ``range(start,end, step)`` takes three parameters: starting value, ending value and increment. \n",
    "\n",
    "By default it starts from 0 and the increment is 1. The range sequence needs at least 1 argument (end) to be defined.\n",
    "\n",
    "```py\n",
    "# syntax\n",
    "for iterator in range(start, end, increment):\n",
    "```\n"
   ]
  },
  {
   "cell_type": "code",
   "execution_count": null,
   "metadata": {
    "ExecuteTime": {
     "end_time": "2023-09-06T10:41:09.238022Z",
     "start_time": "2023-09-06T10:41:09.224025Z"
    }
   },
   "outputs": [],
   "source": [
    "# Example 1\n",
    "\n",
    "list_2 = list(range(15)) \n",
    "print(list_2) \n",
    "set_2 = set(range(1, 11))    # 2 arguments indicate start and end of the sequence, step set to default 1\n",
    "print(set_2) "
   ]
  },
  {
   "cell_type": "code",
   "execution_count": null,
   "metadata": {
    "ExecuteTime": {
     "end_time": "2023-09-06T10:41:10.851080Z",
     "start_time": "2023-09-06T10:41:10.832051Z"
    }
   },
   "outputs": [],
   "source": [
    "# Example 2\n",
    "\n",
    "list_3 = list(range(0,15,3))\n",
    "print(list_3) \n",
    "set_3 = set(range(0,15,3))\n",
    "print(set_3) "
   ]
  },
  {
   "cell_type": "code",
   "execution_count": null,
   "metadata": {
    "ExecuteTime": {
     "end_time": "2023-09-06T10:44:44.021481Z",
     "start_time": "2023-09-06T10:44:44.008772Z"
    }
   },
   "outputs": [],
   "source": [
    "for i in range(-20, 20):\n",
    "    print(i**3,  end=\", \")"
   ]
  },
  {
   "cell_type": "markdown",
   "metadata": {},
   "source": [
    "### Nested For Loop\n",
    "\n",
    "We can write loops inside a loop.\n",
    "\n",
    "```py\n",
    "# syntax\n",
    "for x in y:\n",
    "    for t in s:\n",
    "        code\n",
    "```"
   ]
  },
  {
   "cell_type": "code",
   "execution_count": null,
   "metadata": {
    "ExecuteTime": {
     "end_time": "2023-09-06T10:44:52.300729Z",
     "start_time": "2023-09-06T10:44:52.287728Z"
    }
   },
   "outputs": [],
   "source": [
    "# Example\n",
    "\n",
    "hr_1 = {\n",
    "    'first_name': 'Ana',\n",
    "    'last_name': 'Silva',\n",
    "    'age': 23,\n",
    "    'country': 'Spain',\n",
    "    'skills': ['JavaScript', 'R', 'Julia', 'MongoDB', 'Python','Excel'],\n",
    "    }\n",
    "for key in hr_1:\n",
    "    if key == 'skills':\n",
    "        for skill in hr_1['skills']:\n",
    "            print(skill)"
   ]
  },
  {
   "cell_type": "markdown",
   "metadata": {},
   "source": [
    "\n",
    "### For Else\n",
    "\n",
    "If we want to execute some message when the loop ends, we use else.\n",
    "\n",
    "```py\n",
    "# syntax\n",
    "for iterator in range(start, end, increment):\n",
    "    do something\n",
    "else:\n",
    "    print('The loop ended')\n",
    "```"
   ]
  },
  {
   "cell_type": "code",
   "execution_count": null,
   "metadata": {
    "ExecuteTime": {
     "end_time": "2023-09-06T10:45:00.337231Z",
     "start_time": "2023-09-06T10:45:00.319893Z"
    }
   },
   "outputs": [],
   "source": [
    "for number in range(11):\n",
    "    print(number)   # prints 0 to 10, not including 11\n",
    "else:\n",
    "    print('The loop stops at', number)"
   ]
  },
  {
   "cell_type": "markdown",
   "metadata": {},
   "source": [
    "# Functions\n",
    "\n",
    "- Until now we only applied built-in Python functions (print, type, append, etc). \n",
    "\n",
    "- In what follows we are going to **define/construct our proper functions**. \n",
    "\n",
    "- A function is a reusable block of code (programming statements) designed to perform a certain task. \n",
    "\n",
    "- To define a function, Python provides the ``def`` keyword. \n",
    "\n",
    "- To use/call a function we access the function name (the function block of code is executed only if we call it).\n",
    "\n",
    "- Once again we have to respect the indentation (space) after the : symbol. \n",
    "- Usually, we choose sugestive names for our functions. \n",
    "- If we define several function (for a certain subject) we can construct a modules, and perhaps a small library.\n",
    "\n",
    "\n",
    "```py\n",
    "# syntax\n",
    "\n",
    "# Declaring a function\n",
    "def function_name():\n",
    "    codes\n",
    "    \n",
    "\n",
    "# Calling a function\n",
    "function_name()\n",
    "```"
   ]
  },
  {
   "cell_type": "code",
   "execution_count": 3,
   "metadata": {
    "ExecuteTime": {
     "end_time": "2023-09-07T17:48:30.817688Z",
     "start_time": "2023-09-07T17:48:30.803688Z"
    }
   },
   "outputs": [],
   "source": [
    "# Example\n",
    "def hello_world():              # define a function were the function name is hello_world\n",
    "    print('Hello world today!')       # code to be executed\n",
    "    \n",
    "# so, anytime we call hello_word() function, the string 'Hello world' will be printed on the screen"
   ]
  },
  {
   "cell_type": "code",
   "execution_count": 4,
   "metadata": {
    "ExecuteTime": {
     "end_time": "2023-09-07T17:48:33.636524Z",
     "start_time": "2023-09-07T17:48:33.616529Z"
    }
   },
   "outputs": [
    {
     "name": "stdout",
     "output_type": "stream",
     "text": [
      "Hello world today!\n"
     ]
    }
   ],
   "source": [
    "hello_world()"
   ]
  },
  {
   "cell_type": "code",
   "execution_count": 5,
   "metadata": {
    "ExecuteTime": {
     "end_time": "2023-09-07T17:51:11.526598Z",
     "start_time": "2023-09-07T17:51:11.519593Z"
    }
   },
   "outputs": [],
   "source": [
    "# Example: Square root computation function\n",
    "def sum_of_squares(lst):\n",
    "    \"Computes the sum of squares of elements in the list given as parameter\"\n",
    "    s=0\n",
    "    for x in lst:\n",
    "        s += x**2\n",
    "    return s\n"
   ]
  },
  {
   "cell_type": "code",
   "execution_count": 6,
   "metadata": {
    "ExecuteTime": {
     "end_time": "2023-09-07T17:51:32.644463Z",
     "start_time": "2023-09-07T17:51:32.604459Z"
    }
   },
   "outputs": [
    {
     "data": {
      "text/plain": [
       "204"
      ]
     },
     "execution_count": 6,
     "metadata": {},
     "output_type": "execute_result"
    }
   ],
   "source": [
    "sum_of_squares([1,2,3,4,5,6,7,8])\n"
   ]
  },
  {
   "cell_type": "code",
   "execution_count": 7,
   "metadata": {
    "ExecuteTime": {
     "end_time": "2023-09-07T17:52:51.691835Z",
     "start_time": "2023-09-07T17:52:51.623838Z"
    }
   },
   "outputs": [
    {
     "data": {
      "text/plain": [
       "333328333350000"
      ]
     },
     "execution_count": 7,
     "metadata": {},
     "output_type": "execute_result"
    }
   ],
   "source": [
    "list5=list(range(0,100000))\n",
    "sum_of_squares(list5)"
   ]
  },
  {
   "cell_type": "code",
   "execution_count": 8,
   "metadata": {
    "ExecuteTime": {
     "end_time": "2023-09-07T17:53:48.845705Z",
     "start_time": "2023-09-07T17:53:48.834712Z"
    }
   },
   "outputs": [],
   "source": [
    "# Example: circle area function\n",
    "\n",
    "def area_of_circle (r):\n",
    "    PI = 3.14\n",
    "    area = PI * r ** 2\n",
    "    return area\n",
    "\n"
   ]
  },
  {
   "cell_type": "code",
   "execution_count": 9,
   "metadata": {
    "ExecuteTime": {
     "end_time": "2023-09-07T17:54:07.365678Z",
     "start_time": "2023-09-07T17:54:07.345686Z"
    }
   },
   "outputs": [
    {
     "name": "stdout",
     "output_type": "stream",
     "text": [
      "314.0\n",
      "512498.24000000005\n"
     ]
    }
   ],
   "source": [
    "print(area_of_circle(10))\n",
    "print(area_of_circle(404))"
   ]
  },
  {
   "cell_type": "code",
   "execution_count": 10,
   "metadata": {
    "ExecuteTime": {
     "end_time": "2023-09-07T17:55:09.740497Z",
     "start_time": "2023-09-07T17:55:09.721493Z"
    }
   },
   "outputs": [
    {
     "name": "stdout",
     "output_type": "stream",
     "text": [
      "Age:  84\n"
     ]
    }
   ],
   "source": [
    "# Example with 2 parameters (entries in the function input)\n",
    "\n",
    "def calculate_age (current_year, birth_year):\n",
    "    age = current_year - birth_year\n",
    "    return age;\n",
    "\n",
    "print('Age: ', calculate_age(2023, 1939))"
   ]
  },
  {
   "cell_type": "code",
   "execution_count": 11,
   "metadata": {
    "ExecuteTime": {
     "end_time": "2023-09-07T17:57:14.772459Z",
     "start_time": "2023-09-07T17:57:14.749936Z"
    }
   },
   "outputs": [
    {
     "name": "stdout",
     "output_type": "stream",
     "text": [
      "even\n",
      "True\n",
      "False\n"
     ]
    }
   ],
   "source": [
    "# Example of function that returns a boolean (True or False)\n",
    "\n",
    "def even_nr (n):\n",
    "    if n % 2 == 0:\n",
    "        print('even')\n",
    "        return True     \n",
    "    return False\n",
    "\n",
    "print(even_nr(1022334)) \n",
    "print(even_nr(66571)) "
   ]
  },
  {
   "cell_type": "code",
   "execution_count": 12,
   "metadata": {
    "ExecuteTime": {
     "end_time": "2023-09-07T17:58:25.011857Z",
     "start_time": "2023-09-07T17:58:23.651910Z"
    }
   },
   "outputs": [
    {
     "ename": "NameError",
     "evalue": "name 'log' is not defined",
     "output_type": "error",
     "traceback": [
      "\u001b[1;31m---------------------------------------------------------------------------\u001b[0m",
      "\u001b[1;31mNameError\u001b[0m                                 Traceback (most recent call last)",
      "Cell \u001b[1;32mIn[12], line 1\u001b[0m\n\u001b[1;32m----> 1\u001b[0m \u001b[43mlog\u001b[49m(\u001b[38;5;241m23\u001b[39m)\n",
      "\u001b[1;31mNameError\u001b[0m: name 'log' is not defined"
     ]
    }
   ],
   "source": [
    "log(23)"
   ]
  },
  {
   "cell_type": "code",
   "execution_count": 13,
   "metadata": {
    "ExecuteTime": {
     "end_time": "2023-09-07T17:59:15.310843Z",
     "start_time": "2023-09-07T17:59:15.304851Z"
    }
   },
   "outputs": [],
   "source": [
    "import math"
   ]
  },
  {
   "cell_type": "code",
   "execution_count": 14,
   "metadata": {
    "ExecuteTime": {
     "end_time": "2023-09-07T17:59:34.457079Z",
     "start_time": "2023-09-07T17:59:34.441064Z"
    }
   },
   "outputs": [
    {
     "data": {
      "text/plain": [
       "3.1354942159291497"
      ]
     },
     "execution_count": 14,
     "metadata": {},
     "output_type": "execute_result"
    }
   ],
   "source": [
    "math.log(23)"
   ]
  },
  {
   "cell_type": "code",
   "execution_count": null,
   "metadata": {},
   "outputs": [],
   "source": [
    "math."
   ]
  },
  {
   "cell_type": "code",
   "execution_count": null,
   "metadata": {},
   "outputs": [],
   "source": []
  },
  {
   "cell_type": "code",
   "execution_count": null,
   "metadata": {},
   "outputs": [],
   "source": []
  },
  {
   "cell_type": "code",
   "execution_count": null,
   "metadata": {},
   "outputs": [],
   "source": []
  },
  {
   "cell_type": "code",
   "execution_count": null,
   "metadata": {},
   "outputs": [],
   "source": []
  },
  {
   "cell_type": "markdown",
   "metadata": {},
   "source": [
    "\n",
    "\n",
    "# Exercises: Day 2\n",
    "\n",
    "1.  Compare the values of my_age and your_age using ``if … else``. Who is older (me or you)? Use input(“Enter your age: ”) to get the age as input. \n",
    "2.  Get two numbers from the user using input prompt. If a is greater than b return a is greater than b, if a is less b return a is smaller than b, else a is equal to b. \n",
    "3.  Write a code which gives grade to students according to theirs scores:\n",
    "    ```sh\n",
    "    80-100, A\n",
    "    70-89, B\n",
    "    60-69, C\n",
    "    50-59, D\n",
    "    0-49, F\n",
    "    ```\n",
    "5. The following list contains some fruits:\n",
    "    ```sh\n",
    "    fruits = ['banana', 'orange', 'mango', 'lemon']\n",
    "    ```\n",
    "    If a fruit doesn't exist in the list add the fruit to the list and print the modified list. If the fruit exists print('That fruit already exist in the list').\n",
    "    \n",
    "6. Iterate 0 to 10 using for loop, do the same using while loop.\n",
    "\n",
    "7. Iterate through the list, \n",
    "```sh\n",
    "['Python', 'Numpy','Pandas','Django', 'Flask'] \n",
    "```\n",
    "using a for loop and print out the items.\n",
    "\n",
    "8. Use for loop to iterate from 0 to 100 and print only odd numbers.\n",
    "\n",
    "9. Use for loop to iterate from 0 to 100 and print the sum of all evens and the sum of all odds.\n",
    "    \n",
    "10. Temperature in °C can be converted to °F using this formula: °F = (°C x 9/5) + 32. Write a function which converts °C to °F, _convert_celsius_to-fahrenheit_.\n",
    "\n",
    "11. Quadratic equation is calculated as follows: ax² + bx + c = 0. Write a function which calculates solution set of a quadratic equation, _solve_quadratic_eqn_.\n",
    "\n",
    "12. Declare a function named sum_of_odds. It takes a number parameter and it adds all the odd numbers in that range."
   ]
  },
  {
   "cell_type": "code",
   "execution_count": null,
   "metadata": {},
   "outputs": [],
   "source": []
  },
  {
   "cell_type": "code",
   "execution_count": null,
   "metadata": {},
   "outputs": [],
   "source": []
  }
 ],
 "metadata": {
  "anaconda-cloud": {},
  "hide_input": false,
  "kernelspec": {
   "display_name": "Python 3 (ipykernel)",
   "language": "python",
   "name": "python3"
  },
  "language_info": {
   "codemirror_mode": {
    "name": "ipython",
    "version": 3
   },
   "file_extension": ".py",
   "mimetype": "text/x-python",
   "name": "python",
   "nbconvert_exporter": "python",
   "pygments_lexer": "ipython3",
   "version": "3.10.9"
  },
  "latex_envs": {
   "LaTeX_envs_menu_present": true,
   "autoclose": false,
   "autocomplete": true,
   "bibliofile": "biblio.bib",
   "cite_by": "apalike",
   "current_citInitial": 1,
   "eqLabelWithNumbers": true,
   "eqNumInitial": 1,
   "hotkeys": {
    "equation": "Ctrl-E",
    "itemize": "Ctrl-I"
   },
   "labels_anchors": false,
   "latex_user_defs": false,
   "report_style_numbering": false,
   "user_envs_cfg": false
  },
  "nbTranslate": {
   "displayLangs": [
    "*"
   ],
   "hotkey": "alt-t",
   "langInMainMenu": true,
   "sourceLang": "en",
   "targetLang": "fr",
   "useGoogleTranslate": true
  },
  "toc": {
   "base_numbering": 1,
   "nav_menu": {},
   "number_sections": true,
   "sideBar": true,
   "skip_h1_title": false,
   "title_cell": "Table of Contents",
   "title_sidebar": "Contents",
   "toc_cell": false,
   "toc_position": {},
   "toc_section_display": true,
   "toc_window_display": false
  },
  "varInspector": {
   "cols": {
    "lenName": 16,
    "lenType": 16,
    "lenVar": 40
   },
   "kernels_config": {
    "python": {
     "delete_cmd_postfix": "",
     "delete_cmd_prefix": "del ",
     "library": "var_list.py",
     "varRefreshCmd": "print(var_dic_list())"
    },
    "r": {
     "delete_cmd_postfix": ") ",
     "delete_cmd_prefix": "rm(",
     "library": "var_list.r",
     "varRefreshCmd": "cat(var_dic_list()) "
    }
   },
   "types_to_exclude": [
    "module",
    "function",
    "builtin_function_or_method",
    "instance",
    "_Feature"
   ],
   "window_display": false
  }
 },
 "nbformat": 4,
 "nbformat_minor": 1
}
