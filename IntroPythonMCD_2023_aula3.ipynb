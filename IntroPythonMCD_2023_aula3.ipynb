{
 "cells": [
  {
   "cell_type": "markdown",
   "metadata": {},
   "source": [
    "  <font size=\"5\">\n",
    " <div class=\"alert alert-block alert-info\"> <b>Módulo introdutório de Python - Aula 3<b>\n",
    "     </div>\n",
    "</font> \n",
    " \n",
    " \\vspace{.1in}\n",
    "     \n",
    "    \n",
    "  <font size=\"4\"> Mestrado em Ciência de Dados </font>\n",
    "  \\vspace{.03in}\n",
    "  \n",
    "  \n",
    "  <font size=\"3\"> **Diana Aldea Mendes** </font>\n",
    "     \\vspace{.02in}\n",
    "  <font size=\"3\">ISCTE-IUL, 5-9 de setembro de 2023 </font>\n",
    "  \\vspace{.03in}\n",
    "  \n",
    "   \n",
    "  <font size=\"3\"> *diana.mendes@iscte-iul.pt* </font> \n",
    "  \\vspace{.03in}\n",
    "\n"
   ]
  },
  {
   "cell_type": "markdown",
   "metadata": {},
   "source": [
    "<font size=\"5\"> \n",
    "    <div class=\"alert alert-warning\" role=\"alert\"> Today topics </div> </font> \n",
    "  \\vspace{.03in}\n",
    "  \n",
    " - **Numpy**\n",
    "    * Installing and importing NumPy\n",
    "    * Numpy ndarray\n",
    "    * Creation routines\n",
    "    * Random\n",
    "    * Reshape\n",
    "    * Operations\n",
    "    * Indexing and Selection\n",
    "    * Boolean Indexing\n",
    "    * Concatenation and splitting\n",
    "    * Universal Array Functions\n",
    "    * Load and Save to file\n",
    " "
   ]
  },
  {
   "cell_type": "markdown",
   "metadata": {},
   "source": [
    "<div class=\"alert alert-block alert-info\">\n",
    "<font size=\"4\"> <b>Bibliografia <b>  </font> \n",
    "    </div>\n",
    " \n",
    " \\vspace{.04in}\n",
    "    \n",
    "(1) Wes McKinney (2022), Python for Data Analysis, Third Edition, O’Reilly Media, Inc. \n",
    "(book and code: https://wesmckinney.com/book/, https://github.com/wesm/pydata-book/) \n",
    "\n",
    "(2) Python Documentation (https://docs.python.org/3/)    \n",
    "\n",
    "(3) Jake VanderPlas (2016), Python Data Science Handbook, O’Reilly Media, Inc. (disponível em https://colab.research.google.com/github/jakevdp/PythonDataScienceHandbook/blob/master/notebooks/Index.ipynb) \n",
    "\n",
    "(4) Matt Harrison and Theodore Petrou (2020), Pandas 1.x Cookbook, Second Edition, Packt>.\n",
    "(https://github.com/PacktPublishing/Pandas-Cookbook-Second-Edition)\n"
   ]
  },
  {
   "cell_type": "markdown",
   "metadata": {},
   "source": [
    "#  Numpy "
   ]
  },
  {
   "cell_type": "markdown",
   "metadata": {},
   "source": [
    "\n",
    "- **NumPy** is the fundamental package for scientific computing with Python. \n",
    "- It contains among other things: a powerful N-dimensional array object, functions and routines, tools for integrating C/C++ and Fortran code, useful linear algebra, Fourier transform, and random number capabilities.\n",
    "- https://numpy.org/\n",
    "\n",
    "- Base data structure in numpy: **array**\n",
    "- Note that, the elements of an array can be:\n",
    "    - integer numbers, \n",
    "    - real numbers (float type), \n",
    "    - strings ('ABC', 'Nuno', 'lisboa'),\n",
    "    - boolean (True, False),\n",
    "    - mixed elements (for example: numbers and strings)\n",
    "    - date objects\n",
    "    \n",
    "- Each array has attributes \n",
    "    - ``ndim`` (the number of dimensions),\n",
    "    - ``shape`` (the size of each dimension), and \n",
    "    - ``size`` (the total size of the array = sum of all entries in the array)\n",
    "\n"
   ]
  },
  {
   "cell_type": "markdown",
   "metadata": {},
   "source": [
    "## Installing and Importing\n",
    "To install:\n",
    "\n",
    "`conda install numpy`\n",
    "\n",
    "or\n",
    "\n",
    "`pip install numpy`"
   ]
  },
  {
   "cell_type": "code",
   "execution_count": null,
   "metadata": {
    "ExecuteTime": {
     "end_time": "2023-09-07T14:30:46.556554Z",
     "start_time": "2023-09-07T14:30:46.541537Z"
    }
   },
   "outputs": [],
   "source": [
    "# call the package/library with 'import'\n",
    "# we have to mention the package name when we call modules and functions from numpy\n",
    "# we will associate a short and easy calling name to the package - canonical name or alias.\n",
    "# usually this short name is 'np'\n",
    "\n",
    "import numpy as np"
   ]
  },
  {
   "cell_type": "markdown",
   "metadata": {},
   "source": [
    "## One-dimensional arrays"
   ]
  },
  {
   "cell_type": "code",
   "execution_count": null,
   "metadata": {
    "ExecuteTime": {
     "end_time": "2023-09-07T14:33:59.851468Z",
     "start_time": "2023-09-07T14:33:59.828471Z"
    }
   },
   "outputs": [],
   "source": [
    "# Arrays can be \"n\"-dimensional --but most commonly one, two or three dimensional\n",
    "# we define a 1-dimensional array (vector/list) with numpy 'np' and buil-in function 'array'\n",
    "\n",
    "a_list =[2,3,4]\n",
    "a = np.array(a_list)\n",
    "a\n"
   ]
  },
  {
   "cell_type": "code",
   "execution_count": null,
   "metadata": {
    "ExecuteTime": {
     "end_time": "2023-09-07T14:34:00.880289Z",
     "start_time": "2023-09-07T14:34:00.873265Z"
    }
   },
   "outputs": [],
   "source": [
    "# the same\n",
    "a=np.array([2,3,4])\n",
    "a"
   ]
  },
  {
   "cell_type": "code",
   "execution_count": null,
   "metadata": {
    "ExecuteTime": {
     "end_time": "2023-09-07T14:34:08.955724Z",
     "start_time": "2023-09-07T14:34:08.937701Z"
    }
   },
   "outputs": [],
   "source": [
    "help(np.array)"
   ]
  },
  {
   "cell_type": "code",
   "execution_count": null,
   "metadata": {
    "ExecuteTime": {
     "end_time": "2023-09-07T14:36:13.243874Z",
     "start_time": "2023-09-07T14:36:13.226902Z"
    }
   },
   "outputs": [],
   "source": [
    "### Array or list ???? Which are the differences???\n",
    "# visualize the 1-dim array a\n",
    "# visualize the list a_list\n",
    "print(a)\n",
    "print(a_list)"
   ]
  },
  {
   "cell_type": "code",
   "execution_count": null,
   "metadata": {
    "ExecuteTime": {
     "end_time": "2022-02-02T18:21:31.173423Z",
     "start_time": "2022-02-02T18:21:31.156186Z"
    }
   },
   "outputs": [],
   "source": [
    "# type of elements (entries) in the array 'a'\n",
    "a.dtype"
   ]
  },
  {
   "cell_type": "code",
   "execution_count": null,
   "metadata": {
    "ExecuteTime": {
     "end_time": "2023-09-07T14:37:04.581593Z",
     "start_time": "2023-09-07T14:37:04.570566Z"
    }
   },
   "outputs": [],
   "source": [
    "# shape of the array\n",
    "a.shape"
   ]
  },
  {
   "cell_type": "code",
   "execution_count": null,
   "metadata": {
    "ExecuteTime": {
     "end_time": "2023-09-07T14:37:30.111877Z",
     "start_time": "2023-09-07T14:37:30.097903Z"
    }
   },
   "outputs": [],
   "source": [
    "# dimension of the array\n",
    "a.ndim"
   ]
  },
  {
   "cell_type": "code",
   "execution_count": null,
   "metadata": {
    "ExecuteTime": {
     "end_time": "2023-09-07T14:38:17.224701Z",
     "start_time": "2023-09-07T14:38:17.210701Z"
    }
   },
   "outputs": [],
   "source": [
    "# max and min value of array a\n",
    "a.max(), a.min()"
   ]
  },
  {
   "cell_type": "code",
   "execution_count": null,
   "metadata": {
    "ExecuteTime": {
     "end_time": "2023-09-07T14:39:03.894924Z",
     "start_time": "2023-09-07T14:39:03.873898Z"
    }
   },
   "outputs": [],
   "source": [
    "a.mean(), a.sum(), a.cumsum()"
   ]
  },
  {
   "cell_type": "markdown",
   "metadata": {},
   "source": [
    "########################################################################\n",
    "\n",
    "- Only one type of elements it is permited in an array\n",
    "- When there are several types, Python/Numpy will project all elements to the most general type (cast, casting)\n",
    "\n",
    "\n",
    "- Num array só pode existir um tipo de elementos !!!!\n",
    "- Em caso de conflitos de tipo, o ambiente vai fazer uma projeção para um tipo conhecido ('cast') - o mais geral possível.\n"
   ]
  },
  {
   "cell_type": "code",
   "execution_count": null,
   "metadata": {
    "ExecuteTime": {
     "end_time": "2023-09-07T14:43:12.387825Z",
     "start_time": "2023-09-07T14:43:12.378849Z"
    }
   },
   "outputs": [],
   "source": [
    "np.array([1,2,\"a\", 3])\n",
    "# we have integer numbers and a string - will atualize all elements to strings"
   ]
  },
  {
   "cell_type": "code",
   "execution_count": null,
   "metadata": {
    "ExecuteTime": {
     "end_time": "2023-09-07T14:43:52.123843Z",
     "start_time": "2023-09-07T14:43:52.105845Z"
    }
   },
   "outputs": [],
   "source": [
    "np.array([1.2,1,2,3])\n",
    "# actualize integer and float to float"
   ]
  },
  {
   "cell_type": "markdown",
   "metadata": {},
   "source": [
    "## Multidimensional Arrays"
   ]
  },
  {
   "cell_type": "code",
   "execution_count": null,
   "metadata": {
    "ExecuteTime": {
     "end_time": "2023-09-07T14:44:31.108021Z",
     "start_time": "2023-09-07T14:44:31.098017Z"
    }
   },
   "outputs": [],
   "source": [
    "# define a matrix (of type (2x3) - 2 lines and 3 columns) or a 2-dim array \n",
    "# each line elements are inside (), two lines are separated by ','\n",
    "\n",
    "b = np.array([(1.5, 2, 3), (4, 5, 6)])\n",
    "print(b)"
   ]
  },
  {
   "cell_type": "code",
   "execution_count": null,
   "metadata": {
    "ExecuteTime": {
     "end_time": "2023-09-07T14:45:03.020192Z",
     "start_time": "2023-09-07T14:45:03.009187Z"
    }
   },
   "outputs": [],
   "source": [
    "# shape of the array\n",
    "b.shape"
   ]
  },
  {
   "cell_type": "code",
   "execution_count": null,
   "metadata": {
    "ExecuteTime": {
     "end_time": "2023-09-07T14:45:14.750221Z",
     "start_time": "2023-09-07T14:45:14.729219Z"
    }
   },
   "outputs": [],
   "source": [
    "b.ndim"
   ]
  },
  {
   "cell_type": "code",
   "execution_count": null,
   "metadata": {
    "ExecuteTime": {
     "end_time": "2023-09-07T14:46:05.246825Z",
     "start_time": "2023-09-07T14:46:05.233740Z"
    },
    "scrolled": true
   },
   "outputs": [],
   "source": [
    "# A unitary 3-dimensional array (in this case of type (2x3x4)) can be defined with 'np.ones'\n",
    "ones_array = np.ones((2, 3, 4), dtype=float)\n",
    "print(ones_array)\n",
    "\n"
   ]
  },
  {
   "cell_type": "code",
   "execution_count": null,
   "metadata": {
    "ExecuteTime": {
     "end_time": "2023-09-07T14:47:09.360493Z",
     "start_time": "2023-09-07T14:47:09.345464Z"
    }
   },
   "outputs": [],
   "source": [
    "ones_array.ndim"
   ]
  },
  {
   "cell_type": "code",
   "execution_count": null,
   "metadata": {
    "ExecuteTime": {
     "end_time": "2023-09-07T14:46:50.101766Z",
     "start_time": "2023-09-07T14:46:50.097788Z"
    }
   },
   "outputs": [],
   "source": [
    "# Eye matrix (kind of Identity matrix from linear algebra - but can be defined for any order)\n",
    "I=np.eye(3,5)\n",
    "print(I)"
   ]
  },
  {
   "cell_type": "markdown",
   "metadata": {},
   "source": [
    "## Creation routines\n",
    "\n",
    "- Several form to define arrays with built-in functions\n",
    "\n",
    "- `arrange(a,b,c)`\n",
    "    - first index - a: start of sequence\n",
    "    - second index - b: end of sequence, exclusive\n",
    "    - third index - c: step\n",
    "- `linspace(k, l, m)`\n",
    "    - first index - k: start of sequence\n",
    "    - second index - l: end of sequence, exclusive\n",
    "    - third index - m: number of elements in the sequence"
   ]
  },
  {
   "cell_type": "code",
   "execution_count": null,
   "metadata": {
    "ExecuteTime": {
     "end_time": "2023-09-07T14:50:51.882080Z",
     "start_time": "2023-09-07T14:50:51.866056Z"
    }
   },
   "outputs": [],
   "source": [
    "# use np.arrange to define an array\n",
    "\n",
    "np.arange(10, 330, 5)"
   ]
  },
  {
   "cell_type": "code",
   "execution_count": null,
   "metadata": {
    "ExecuteTime": {
     "end_time": "2023-09-07T14:53:00.420934Z",
     "start_time": "2023-09-07T14:53:00.409917Z"
    }
   },
   "outputs": [],
   "source": [
    "# in 'linspace' function, specify number of elements instead of step-size\n",
    "\n",
    "np.linspace(0, 9, 88)"
   ]
  },
  {
   "cell_type": "code",
   "execution_count": null,
   "metadata": {
    "ExecuteTime": {
     "end_time": "2023-09-07T14:56:12.672447Z",
     "start_time": "2023-09-07T14:56:12.658361Z"
    }
   },
   "outputs": [],
   "source": [
    "# Empty array\n",
    "\n",
    "emptyArray = np.empty((3,2))\n",
    "print(emptyArray)"
   ]
  },
  {
   "cell_type": "code",
   "execution_count": null,
   "metadata": {
    "ExecuteTime": {
     "end_time": "2023-09-07T14:56:47.025536Z",
     "start_time": "2023-09-07T14:56:47.008507Z"
    }
   },
   "outputs": [],
   "source": [
    "# Example: define an array by using range function\n",
    "np.array([range(i,i+2) for i in [1,3,5,7]])"
   ]
  },
  {
   "cell_type": "code",
   "execution_count": null,
   "metadata": {
    "ExecuteTime": {
     "end_time": "2023-09-07T14:57:23.901196Z",
     "start_time": "2023-09-07T14:57:23.890195Z"
    }
   },
   "outputs": [],
   "source": [
    "# null matrix or null two-dimensional array, all entries are zero\n",
    "np.zeros((2,3,4))"
   ]
  },
  {
   "cell_type": "code",
   "execution_count": null,
   "metadata": {
    "ExecuteTime": {
     "end_time": "2023-09-07T14:57:35.092156Z",
     "start_time": "2023-09-07T14:57:35.074126Z"
    }
   },
   "outputs": [],
   "source": [
    "## the same as before, but with integer entries\n",
    "np.zeros((2,3,4), dtype='int')"
   ]
  },
  {
   "cell_type": "code",
   "execution_count": null,
   "metadata": {
    "ExecuteTime": {
     "end_time": "2023-09-07T14:58:13.609110Z",
     "start_time": "2023-09-07T14:58:13.593083Z"
    }
   },
   "outputs": [],
   "source": [
    "## diagonal matrix\n",
    "np.diag([1, 2, 3, 4])"
   ]
  },
  {
   "cell_type": "markdown",
   "metadata": {},
   "source": [
    "### Example"
   ]
  },
  {
   "cell_type": "code",
   "execution_count": null,
   "metadata": {},
   "outputs": [],
   "source": [
    "L = range(1000)\n",
    "%timeit [i**2 for i in L]"
   ]
  },
  {
   "cell_type": "code",
   "execution_count": null,
   "metadata": {},
   "outputs": [],
   "source": [
    "a = np.arange(1000)\n",
    "%timeit a**2"
   ]
  },
  {
   "cell_type": "markdown",
   "metadata": {},
   "source": [
    "## Operations with arrays"
   ]
  },
  {
   "cell_type": "code",
   "execution_count": null,
   "metadata": {
    "ExecuteTime": {
     "end_time": "2023-09-07T15:55:40.794485Z",
     "start_time": "2023-09-07T15:55:40.777487Z"
    }
   },
   "outputs": [],
   "source": [
    "# simple operations with arrays\n",
    "\n",
    "a = np.array([5, 6, 7, 8])\n",
    "b = np.arange(4, 20, 4)\n",
    "print('a=', a)\n",
    "print('b=', b)\n"
   ]
  },
  {
   "cell_type": "code",
   "execution_count": null,
   "metadata": {
    "ExecuteTime": {
     "end_time": "2023-09-07T15:55:41.324738Z",
     "start_time": "2023-09-07T15:55:41.304713Z"
    }
   },
   "outputs": [],
   "source": [
    "# sum or difference \n",
    "print('sum=', a - b)"
   ]
  },
  {
   "cell_type": "code",
   "execution_count": null,
   "metadata": {
    "ExecuteTime": {
     "end_time": "2023-09-07T15:55:41.928830Z",
     "start_time": "2023-09-07T15:55:41.911833Z"
    }
   },
   "outputs": [],
   "source": [
    "# multiply each entry by a number\n",
    "print(2*b)"
   ]
  },
  {
   "cell_type": "code",
   "execution_count": null,
   "metadata": {
    "ExecuteTime": {
     "end_time": "2023-09-07T15:55:42.537097Z",
     "start_time": "2023-09-07T15:55:42.528123Z"
    }
   },
   "outputs": [],
   "source": [
    "print(10*np.sin(a))"
   ]
  },
  {
   "cell_type": "markdown",
   "metadata": {},
   "source": [
    "## Random numbers and Reshape function"
   ]
  },
  {
   "cell_type": "code",
   "execution_count": null,
   "metadata": {
    "ExecuteTime": {
     "end_time": "2023-09-07T15:57:08.513133Z",
     "start_time": "2023-09-07T15:57:08.498174Z"
    }
   },
   "outputs": [],
   "source": [
    "# Create uniform random variable 'x' (1-dim array)\n",
    "\n",
    "\n",
    "x = np.random.uniform(1, 10, 20)\n",
    "\n",
    "x\n"
   ]
  },
  {
   "cell_type": "code",
   "execution_count": null,
   "metadata": {
    "ExecuteTime": {
     "end_time": "2023-09-07T15:58:38.222486Z",
     "start_time": "2023-09-07T15:58:38.202455Z"
    }
   },
   "outputs": [],
   "source": [
    "## random integer entries, values between 1 and 100, 2-dim array\n",
    "y = np.random.randint(1,100,(5,3))\n",
    "y"
   ]
  },
  {
   "cell_type": "code",
   "execution_count": null,
   "metadata": {
    "ExecuteTime": {
     "end_time": "2023-09-07T15:59:39.017022Z",
     "start_time": "2023-09-07T15:59:39.001346Z"
    }
   },
   "outputs": [],
   "source": [
    "import numpy.random as npr\n",
    "# To isolate the randomness for sensitivity analysis (or for reproducibility) use a seed value\n",
    "# run several times and observe the variables c and d\n",
    "\n",
    "for i in range(0,7):\n",
    "    c = npr.randint(20, size=10)\n",
    "    print(\"c=\", i, \"=\", c)\n",
    "    \n",
    "print('\\n')\n",
    "\n"
   ]
  },
  {
   "cell_type": "code",
   "execution_count": null,
   "metadata": {
    "ExecuteTime": {
     "end_time": "2023-09-07T15:59:34.294036Z",
     "start_time": "2023-09-07T15:59:34.288036Z"
    }
   },
   "outputs": [],
   "source": [
    "\n",
    "for i in range(0,7):\n",
    "    npr.seed(42)\n",
    "    d = npr.randint(20, size=10)\n",
    "    print(\"d=\", i, \"=\", d)"
   ]
  },
  {
   "cell_type": "markdown",
   "metadata": {},
   "source": [
    "### Reshape"
   ]
  },
  {
   "cell_type": "code",
   "execution_count": null,
   "metadata": {
    "ExecuteTime": {
     "end_time": "2023-09-07T16:00:05.070947Z",
     "start_time": "2023-09-07T16:00:05.057947Z"
    }
   },
   "outputs": [],
   "source": [
    "# reshape an array (from 1-dim array of type (1x15) to 2-dim array of type (3x5))\n",
    "data = npr.randint(10, size=15)\n",
    "print(\"data=\", data)\n",
    "data_1 = data.reshape(3,5)\n",
    "print(\"data_1=\", data_1)"
   ]
  },
  {
   "cell_type": "code",
   "execution_count": null,
   "metadata": {
    "ExecuteTime": {
     "end_time": "2023-09-07T16:01:16.164630Z",
     "start_time": "2023-09-07T16:01:16.154632Z"
    }
   },
   "outputs": [],
   "source": [
    "arr5 = np.random.randint(100,size=(3,4))\n",
    "arr5"
   ]
  },
  {
   "cell_type": "code",
   "execution_count": null,
   "metadata": {
    "ExecuteTime": {
     "end_time": "2023-09-07T16:01:23.106162Z",
     "start_time": "2023-09-07T16:01:23.097136Z"
    }
   },
   "outputs": [],
   "source": [
    "arr5.shape"
   ]
  },
  {
   "cell_type": "code",
   "execution_count": null,
   "metadata": {
    "ExecuteTime": {
     "end_time": "2023-09-07T16:01:26.184889Z",
     "start_time": "2023-09-07T16:01:26.167865Z"
    }
   },
   "outputs": [],
   "source": [
    "arr5.reshape(-1)"
   ]
  },
  {
   "cell_type": "code",
   "execution_count": null,
   "metadata": {
    "ExecuteTime": {
     "end_time": "2023-09-07T16:02:19.037373Z",
     "start_time": "2023-09-07T16:02:19.017377Z"
    }
   },
   "outputs": [],
   "source": [
    "arr5.reshape(4,3)"
   ]
  },
  {
   "cell_type": "code",
   "execution_count": null,
   "metadata": {
    "ExecuteTime": {
     "end_time": "2023-09-07T16:02:42.246181Z",
     "start_time": "2023-09-07T16:02:42.233185Z"
    }
   },
   "outputs": [],
   "source": [
    "arr5.reshape(2,6)"
   ]
  },
  {
   "cell_type": "code",
   "execution_count": null,
   "metadata": {
    "ExecuteTime": {
     "end_time": "2023-09-07T16:02:43.015590Z",
     "start_time": "2023-09-07T16:02:42.992898Z"
    }
   },
   "outputs": [],
   "source": [
    "arr5.reshape(3,6)"
   ]
  },
  {
   "cell_type": "markdown",
   "metadata": {},
   "source": [
    "#### Review Example"
   ]
  },
  {
   "cell_type": "code",
   "execution_count": null,
   "metadata": {
    "ExecuteTime": {
     "end_time": "2023-09-07T16:06:42.627412Z",
     "start_time": "2023-09-07T16:06:42.617528Z"
    }
   },
   "outputs": [],
   "source": [
    "x3 = np.array([(1,-1),('abc','www'),(2.34,0.55),(0,True)])\n",
    "print('x3=', x3)\n",
    "print(\"x3 ndim: \", x3.ndim)\n",
    "print(\"x3 shape:\", x3.shape)\n",
    "print(\"x3 size: \", x3.size)\n",
    "print(\"dtype:\", x3.dtype)  \n",
    "print('reshaped_array=', x3.reshape(2,4))"
   ]
  },
  {
   "cell_type": "markdown",
   "metadata": {},
   "source": [
    "## Indexing and slicing"
   ]
  },
  {
   "cell_type": "markdown",
   "metadata": {},
   "source": [
    "#################################################################################\n",
    "\n",
    "**Array Indexing**: Accessing Single Elements and Sub-arrays (Similar to list indexing).\n",
    "\n",
    "**Indexing in NumPy** : in a one-dimensional array, the  𝑖-𝑡ℎ  value (counting from **zero**) can be accessed by specifying the desired index in **square brackets**!\n",
    "\n",
    "- ``a[n], a[-n]`` - forward and backward indexing\n",
    "-  ``x[start:stop:step]`` - slicing"
   ]
  },
  {
   "cell_type": "code",
   "execution_count": null,
   "metadata": {
    "ExecuteTime": {
     "end_time": "2023-09-07T16:11:27.430355Z",
     "start_time": "2023-09-07T16:11:27.424352Z"
    }
   },
   "outputs": [],
   "source": [
    "# define an 1-dim array\n",
    "a=np.linspace(3, 36, 12)\n",
    "a"
   ]
  },
  {
   "cell_type": "code",
   "execution_count": null,
   "metadata": {
    "ExecuteTime": {
     "end_time": "2023-09-07T16:11:28.454650Z",
     "start_time": "2023-09-07T16:11:28.448040Z"
    }
   },
   "outputs": [],
   "source": [
    "# first element of 'a' (of index 0) (from the left)\n",
    "a[0]"
   ]
  },
  {
   "cell_type": "code",
   "execution_count": null,
   "metadata": {
    "ExecuteTime": {
     "end_time": "2023-09-07T16:11:30.072944Z",
     "start_time": "2023-09-07T16:11:30.055942Z"
    }
   },
   "outputs": [],
   "source": [
    "# the second element backward (counting from the end)\n",
    "a[-2]"
   ]
  },
  {
   "cell_type": "code",
   "execution_count": null,
   "metadata": {
    "ExecuteTime": {
     "end_time": "2023-09-07T16:11:31.839587Z",
     "start_time": "2023-09-07T16:11:31.824560Z"
    }
   },
   "outputs": [],
   "source": [
    "# range chosen [2, 5) (do not include element of index 5)\n",
    "a[2:5]"
   ]
  },
  {
   "cell_type": "code",
   "execution_count": null,
   "metadata": {
    "ExecuteTime": {
     "end_time": "2023-09-07T16:11:38.179701Z",
     "start_time": "2023-09-07T16:11:38.160705Z"
    }
   },
   "outputs": [],
   "source": [
    "# every second element from zero to index 6\n",
    "a[:6:2]  "
   ]
  },
  {
   "cell_type": "code",
   "execution_count": null,
   "metadata": {
    "ExecuteTime": {
     "end_time": "2023-09-07T16:11:39.826455Z",
     "start_time": "2023-09-07T16:11:39.816455Z"
    }
   },
   "outputs": [],
   "source": [
    "# reverse array a\n",
    "bai=a[::-1]\n",
    "bai"
   ]
  },
  {
   "cell_type": "code",
   "execution_count": null,
   "metadata": {
    "ExecuteTime": {
     "end_time": "2023-09-07T16:11:59.984872Z",
     "start_time": "2023-09-07T16:11:59.967874Z"
    }
   },
   "outputs": [],
   "source": [
    "# another example\n",
    "x = np.arange(10)\n",
    "x\n",
    "x[:5]  # first five elements\n",
    "x[5:]  # elements after index 5\n",
    "x[4:7]  # middle sub-array\n",
    "x[::2]  # every other element\n",
    "x[1::2]  # every other element, starting at index 1\n",
    "x[::-1]  # all elements, reversed\n",
    "x[5::-2]  # reversed every other from index 5"
   ]
  },
  {
   "cell_type": "markdown",
   "metadata": {},
   "source": [
    "###################################################################################\n",
    "\n",
    "- In a multi-dimensional array, items can be accessed using a **comma-separated tuple of indices**: `x[n,m]`"
   ]
  },
  {
   "cell_type": "code",
   "execution_count": null,
   "metadata": {
    "ExecuteTime": {
     "end_time": "2023-09-07T16:13:14.203646Z",
     "start_time": "2023-09-07T16:13:14.184643Z"
    }
   },
   "outputs": [],
   "source": [
    "np.random.seed(0)\n",
    "x2 = np.random.randint(10, size=(3, 4))  # Two-dimensional array\n",
    "x2"
   ]
  },
  {
   "cell_type": "code",
   "execution_count": null,
   "metadata": {
    "ExecuteTime": {
     "end_time": "2023-09-07T16:13:15.096728Z",
     "start_time": "2023-09-07T16:13:15.075938Z"
    }
   },
   "outputs": [],
   "source": [
    "# isolate element from line 3 and column 1, which means with index 2 and 0\n",
    "x2[0:2, 0:2]"
   ]
  },
  {
   "cell_type": "code",
   "execution_count": null,
   "metadata": {
    "ExecuteTime": {
     "end_time": "2023-09-07T16:13:17.699560Z",
     "start_time": "2023-09-07T16:13:17.679560Z"
    }
   },
   "outputs": [],
   "source": [
    "# last element from line 3 (line 3 has index 2)\n",
    "x2[2, -1]"
   ]
  },
  {
   "cell_type": "code",
   "execution_count": null,
   "metadata": {
    "ExecuteTime": {
     "end_time": "2023-09-07T16:13:29.523978Z",
     "start_time": "2023-09-07T16:13:29.513151Z"
    }
   },
   "outputs": [],
   "source": [
    "# Values can also be modified using any of the above index notation:\n",
    "# substitute the first element (value '5') by a new element of value '12'\n",
    "x2[0, 0] = 12\n",
    "x2"
   ]
  },
  {
   "cell_type": "markdown",
   "metadata": {},
   "source": [
    "### Accessing array rows and columns**\n",
    "\n",
    "- One commonly needed routine is accessing of *single rows or columns* of an array.\n",
    "\n",
    "- This can be done by combining **indexing and slicing**, using an empty slice marked by a single colon (``:``):"
   ]
  },
  {
   "cell_type": "code",
   "execution_count": null,
   "metadata": {
    "ExecuteTime": {
     "end_time": "2023-09-07T16:14:29.293606Z",
     "start_time": "2023-09-07T16:14:29.288602Z"
    }
   },
   "outputs": [],
   "source": [
    "# extract (2x2) subarray\n",
    "x2_sub = x2[:2, :2]\n",
    "print(x2_sub)"
   ]
  },
  {
   "cell_type": "code",
   "execution_count": null,
   "metadata": {
    "ExecuteTime": {
     "end_time": "2023-09-07T16:14:30.115154Z",
     "start_time": "2023-09-07T16:14:30.096181Z"
    }
   },
   "outputs": [],
   "source": [
    "x2[:2, :3]  # two rows, three columns\n"
   ]
  },
  {
   "cell_type": "code",
   "execution_count": null,
   "metadata": {
    "ExecuteTime": {
     "end_time": "2023-09-07T16:14:31.026312Z",
     "start_time": "2023-09-07T16:14:31.016282Z"
    }
   },
   "outputs": [],
   "source": [
    "x2[:3, ::2]  # all rows, every other column\n"
   ]
  },
  {
   "cell_type": "code",
   "execution_count": null,
   "metadata": {
    "ExecuteTime": {
     "end_time": "2023-09-07T16:14:31.833620Z",
     "start_time": "2023-09-07T16:14:31.823623Z"
    }
   },
   "outputs": [],
   "source": [
    "# invert elements position inthe 2-dim array x2\n",
    "x2[::-1, ::-1]"
   ]
  },
  {
   "cell_type": "markdown",
   "metadata": {},
   "source": [
    "### Boolean Indexing"
   ]
  },
  {
   "cell_type": "code",
   "execution_count": null,
   "metadata": {
    "ExecuteTime": {
     "end_time": "2023-09-07T16:08:50.531552Z",
     "start_time": "2023-09-07T16:08:50.526549Z"
    }
   },
   "outputs": [],
   "source": [
    "names = np.array([\"Maria\", \"James\", \"Sarah\", \"Peter\"])\n",
    "grades = np.array([4,15,11,9])"
   ]
  },
  {
   "cell_type": "code",
   "execution_count": null,
   "metadata": {
    "ExecuteTime": {
     "end_time": "2023-09-07T16:08:51.181611Z",
     "start_time": "2023-09-07T16:08:51.160580Z"
    }
   },
   "outputs": [],
   "source": [
    "positive = grades > 10\n",
    "positive"
   ]
  },
  {
   "cell_type": "code",
   "execution_count": null,
   "metadata": {
    "ExecuteTime": {
     "end_time": "2023-09-07T16:08:51.759767Z",
     "start_time": "2023-09-07T16:08:51.752765Z"
    }
   },
   "outputs": [],
   "source": [
    "grades[names != \"Maria\"]"
   ]
  },
  {
   "cell_type": "markdown",
   "metadata": {},
   "source": [
    " ###############################################################################\n",
    " \n",
    "## Concatenation, stacking and splitting \n",
    "\n",
    "- **Concatenation**, or **joining** of two arrays in NumPy, is primarily accomplished using the routines ``np.concatenate``\n",
    "\n",
    "- ``np.concatenate`` takes a tuple or list of arrays as its first argument.\n",
    "\n",
    "- We can **stack** 2 arrays vertically and horizontaly by using the buil-in functions: ``np.vstack`` and ``np.hstack``.\n",
    "    \n",
    "    \n",
    "\n",
    "- The opposite of concatenation is **splitting**, which is implemented by the functions ``np.split``, ``np.hsplit``, and ``np.vsplit``.  \n",
    "\n"
   ]
  },
  {
   "cell_type": "code",
   "execution_count": null,
   "metadata": {
    "ExecuteTime": {
     "end_time": "2023-09-07T16:16:53.860565Z",
     "start_time": "2023-09-07T16:16:53.849515Z"
    }
   },
   "outputs": [],
   "source": [
    "x3 = np.array([1, 2, 3, 99, 99, 3, 2, 1])\n",
    "y3 = np.array([2, -2, 1, 0, 8, 1, 5, 7])\n",
    "\n",
    "# join/concatenate the elements of the 2 arrays (x3 and y3)\n",
    "z3 = np.concatenate((x3, y3), axis=0)\n",
    "print(\"z3=\", z3)\n"
   ]
  },
  {
   "cell_type": "code",
   "execution_count": null,
   "metadata": {
    "ExecuteTime": {
     "end_time": "2023-09-07T16:17:41.133162Z",
     "start_time": "2023-09-07T16:17:41.120940Z"
    }
   },
   "outputs": [],
   "source": [
    "arr_a = np.arange(0,4)\n",
    "arr_b = np.arange(-4,0)\n",
    "arr_a, arr_b"
   ]
  },
  {
   "cell_type": "code",
   "execution_count": null,
   "metadata": {
    "ExecuteTime": {
     "end_time": "2023-09-07T16:17:41.827433Z",
     "start_time": "2023-09-07T16:17:41.816481Z"
    }
   },
   "outputs": [],
   "source": [
    "np.vstack((arr_a,arr_b))"
   ]
  },
  {
   "cell_type": "code",
   "execution_count": null,
   "metadata": {
    "ExecuteTime": {
     "end_time": "2023-09-07T16:18:10.862566Z",
     "start_time": "2023-09-07T16:18:10.856537Z"
    }
   },
   "outputs": [],
   "source": [
    "np.hstack((arr_a,arr_b))"
   ]
  },
  {
   "cell_type": "code",
   "execution_count": null,
   "metadata": {
    "ExecuteTime": {
     "end_time": "2023-09-07T16:22:23.237027Z",
     "start_time": "2023-09-07T16:22:23.225950Z"
    }
   },
   "outputs": [],
   "source": [
    "x = np.array([[1, 2, 3, 99], [3, 2, 1, 3]])\n",
    "# split x into 3 sub-arrays\n",
    "x1, x2 = np.split(x, 2, axis=0)\n",
    "print(x1, x2)\n",
    "x3, x4 = np.split(x, 2, axis=1)\n",
    "print(x3, x4)"
   ]
  },
  {
   "cell_type": "code",
   "execution_count": null,
   "metadata": {},
   "outputs": [],
   "source": [
    "help(np.split)"
   ]
  },
  {
   "cell_type": "markdown",
   "metadata": {},
   "source": [
    "## Universal functions "
   ]
  },
  {
   "cell_type": "markdown",
   "metadata": {},
   "source": [
    "##################################################################################\n",
    "\n",
    "The following table lists the **arithmetic operators** implemented in NumPy:\n",
    "\n",
    "| Operator\t    | Equivalent ufunc    | Description                           |\n",
    "|---------------|---------------------|---------------------------------------|\n",
    "|``+``          |``np.add``           |Addition (e.g., ``1 + 1 = 2``)         |\n",
    "|``-``          |``np.subtract``      |Subtraction (e.g., ``3 - 2 = 1``)      |\n",
    "|``-``          |``np.negative``      |Unary negation (e.g., ``-2``)          |\n",
    "|``*``          |``np.multiply``      |Multiplication (e.g., ``2 * 3 = 6``)   |\n",
    "|``/``          |``np.divide``        |Division (e.g., ``3 / 2 = 1.5``)       |\n",
    "|``//``         |``np.floor_divide``  |Floor division (e.g., ``3 // 2 = 1``)  |\n",
    "|``**``         |``np.power``         |Exponentiation (e.g., ``2 ** 3 = 8``)  |\n",
    "|``%``          |``np.mod``           |Modulus/remainder (e.g., ``9 % 4 = 1``)|"
   ]
  },
  {
   "cell_type": "code",
   "execution_count": null,
   "metadata": {
    "ExecuteTime": {
     "end_time": "2023-09-07T16:24:37.401288Z",
     "start_time": "2023-09-07T16:24:37.384518Z"
    }
   },
   "outputs": [],
   "source": [
    "# Basic operations (+, -, *, /, %)\n",
    "x = np.array([[1, 2, 3], [2, 3, 4]])\n",
    "y = np.array([[1, 4, 9], [2, 3, -2]])\n",
    "\n",
    "# Add two array\n",
    "add = np.add(x, y)\n",
    "print(add)\n",
    "\n",
    "# Subtract two array\n",
    "sub = np.subtract(x, y)\n",
    "print(sub)\n",
    "\n",
    "# Multiply two array\n",
    "mul = np.multiply(x, y)\n",
    "print(mul)\n",
    "\n",
    "# Divide x, y\n",
    "div = np.divide(x,y)\n",
    "print(div)\n",
    "\n",
    "# Calculated the remainder of x and y\n",
    "rem = np.remainder(x, y)\n",
    "print(rem)"
   ]
  },
  {
   "cell_type": "code",
   "execution_count": null,
   "metadata": {
    "ExecuteTime": {
     "end_time": "2023-09-07T16:24:42.461456Z",
     "start_time": "2023-09-07T16:24:42.448416Z"
    }
   },
   "outputs": [],
   "source": [
    "x*y"
   ]
  },
  {
   "cell_type": "code",
   "execution_count": null,
   "metadata": {
    "ExecuteTime": {
     "end_time": "2023-09-07T16:24:44.511614Z",
     "start_time": "2023-09-07T16:24:44.504381Z"
    }
   },
   "outputs": [],
   "source": [
    "# Elementwise product of matrices (2-dim arrays)\n",
    "\n",
    "A = np.array([[1, 1], [0, 1]])\n",
    "B = np.array([[2, 0], [3, 4]])\n",
    "print(A * B)\n",
    "np.multiply(A, B)"
   ]
  },
  {
   "cell_type": "code",
   "execution_count": null,
   "metadata": {},
   "outputs": [],
   "source": []
  },
  {
   "cell_type": "markdown",
   "metadata": {},
   "source": [
    "### Trigonometric function, exponentials, log"
   ]
  },
  {
   "cell_type": "code",
   "execution_count": null,
   "metadata": {
    "ExecuteTime": {
     "end_time": "2023-09-07T16:25:11.792221Z",
     "start_time": "2023-09-07T16:25:11.784221Z"
    }
   },
   "outputs": [],
   "source": [
    "theta = np.linspace(0, np.pi, 3)\n",
    "print(\"theta      = \", theta)\n",
    "print(\"sin(theta) = \", np.sin(theta))\n",
    "print(\"cos(theta) = \", np.cos(theta))\n",
    "print(\"tan(theta) = \", np.tan(theta))"
   ]
  },
  {
   "cell_type": "code",
   "execution_count": null,
   "metadata": {
    "ExecuteTime": {
     "end_time": "2023-09-07T16:25:12.444860Z",
     "start_time": "2023-09-07T16:25:12.439839Z"
    }
   },
   "outputs": [],
   "source": [
    "x = [1, 2, 3]\n",
    "print(\"x     =\", x)\n",
    "print(\"e^x   =\", np.exp(x))\n",
    "print(\"2^x   =\", np.exp2(x))\n",
    "print(\"3^x   =\", np.power(3, x))"
   ]
  },
  {
   "cell_type": "code",
   "execution_count": null,
   "metadata": {
    "ExecuteTime": {
     "end_time": "2023-09-07T16:25:13.203316Z",
     "start_time": "2023-09-07T16:25:13.184214Z"
    }
   },
   "outputs": [],
   "source": [
    "x = [1, 2, 4, 10]\n",
    "print(\"x        =\", x)\n",
    "print(\"ln(x)    =\", np.log(x))\n",
    "print(\"log2(x)  =\", np.log2(x))\n",
    "print(\"log10(x) =\", np.log10(x))"
   ]
  },
  {
   "cell_type": "markdown",
   "metadata": {},
   "source": [
    "## Sorting arrays"
   ]
  },
  {
   "cell_type": "code",
   "execution_count": null,
   "metadata": {
    "ExecuteTime": {
     "end_time": "2023-09-07T16:26:00.768532Z",
     "start_time": "2023-09-07T16:26:00.752562Z"
    }
   },
   "outputs": [],
   "source": [
    "# To return a sorted version of the array without modifying the input, you can use 'np.sort':\n",
    "x = np.array([2, 1, 4, 3, 5])\n",
    "np.sort(x)"
   ]
  },
  {
   "cell_type": "code",
   "execution_count": null,
   "metadata": {
    "ExecuteTime": {
     "end_time": "2023-09-07T16:26:02.783400Z",
     "start_time": "2023-09-07T16:26:02.767390Z"
    }
   },
   "outputs": [],
   "source": [
    "# A related function is argsort, which instead returns the indices of the sorted elements:\n",
    "x = np.array([2, 1, 4, 3, 5])\n",
    "i = np.argsort(x)\n",
    "print(i)"
   ]
  },
  {
   "cell_type": "code",
   "execution_count": null,
   "metadata": {
    "ExecuteTime": {
     "end_time": "2023-09-07T16:26:08.905159Z",
     "start_time": "2023-09-07T16:26:08.896164Z"
    }
   },
   "outputs": [],
   "source": [
    "rand = np.random.RandomState(42)\n",
    "X = rand.randint(0, 10, (4, 6))\n",
    "print(X)"
   ]
  },
  {
   "cell_type": "code",
   "execution_count": null,
   "metadata": {
    "ExecuteTime": {
     "end_time": "2023-09-07T16:26:10.186229Z",
     "start_time": "2023-09-07T16:26:10.167230Z"
    }
   },
   "outputs": [],
   "source": [
    "# sort each column of X (axis=0)\n",
    "np.sort(X, axis=0)"
   ]
  },
  {
   "cell_type": "code",
   "execution_count": null,
   "metadata": {
    "ExecuteTime": {
     "end_time": "2023-09-07T16:26:11.799409Z",
     "start_time": "2023-09-07T16:26:11.784383Z"
    }
   },
   "outputs": [],
   "source": [
    "# sort each row of X (axis=1)\n",
    "np.sort(X, axis=1)"
   ]
  }
 ],
 "metadata": {
  "anaconda-cloud": {},
  "hide_input": false,
  "kernelspec": {
   "display_name": "Python 3 (ipykernel)",
   "language": "python",
   "name": "python3"
  },
  "language_info": {
   "codemirror_mode": {
    "name": "ipython",
    "version": 3
   },
   "file_extension": ".py",
   "mimetype": "text/x-python",
   "name": "python",
   "nbconvert_exporter": "python",
   "pygments_lexer": "ipython3",
   "version": "3.10.9"
  },
  "latex_envs": {
   "LaTeX_envs_menu_present": true,
   "autoclose": false,
   "autocomplete": true,
   "bibliofile": "biblio.bib",
   "cite_by": "apalike",
   "current_citInitial": 1,
   "eqLabelWithNumbers": true,
   "eqNumInitial": 1,
   "hotkeys": {
    "equation": "Ctrl-E",
    "itemize": "Ctrl-I"
   },
   "labels_anchors": false,
   "latex_user_defs": false,
   "report_style_numbering": false,
   "user_envs_cfg": false
  },
  "nbTranslate": {
   "displayLangs": [
    "*"
   ],
   "hotkey": "alt-t",
   "langInMainMenu": true,
   "sourceLang": "en",
   "targetLang": "fr",
   "useGoogleTranslate": true
  },
  "toc": {
   "base_numbering": 1,
   "nav_menu": {},
   "number_sections": true,
   "sideBar": true,
   "skip_h1_title": false,
   "title_cell": "Table of Contents",
   "title_sidebar": "Contents",
   "toc_cell": false,
   "toc_position": {},
   "toc_section_display": true,
   "toc_window_display": false
  },
  "varInspector": {
   "cols": {
    "lenName": 16,
    "lenType": 16,
    "lenVar": 40
   },
   "kernels_config": {
    "python": {
     "delete_cmd_postfix": "",
     "delete_cmd_prefix": "del ",
     "library": "var_list.py",
     "varRefreshCmd": "print(var_dic_list())"
    },
    "r": {
     "delete_cmd_postfix": ") ",
     "delete_cmd_prefix": "rm(",
     "library": "var_list.r",
     "varRefreshCmd": "cat(var_dic_list()) "
    }
   },
   "types_to_exclude": [
    "module",
    "function",
    "builtin_function_or_method",
    "instance",
    "_Feature"
   ],
   "window_display": false
  }
 },
 "nbformat": 4,
 "nbformat_minor": 1
}
