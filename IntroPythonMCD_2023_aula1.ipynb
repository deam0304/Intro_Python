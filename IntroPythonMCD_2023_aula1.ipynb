{
 "cells": [
  {
   "cell_type": "markdown",
   "metadata": {},
   "source": [
    "<font size=\"5\">\n",
    " <div class=\"alert alert-block alert-info\"> <b>Módulo introdutório de Python - Aula 1<b>\n",
    "     </div>\n",
    "</font> \n",
    " \n",
    " \\vspace{.1in}\n",
    "     \n",
    "    \n",
    "  <font size=\"4\"> Mestrado em Ciência de Dados </font>\n",
    "  \\vspace{.03in}\n",
    "  \n",
    "  \n",
    "  <font size=\"3\"> **Diana Aldea Mendes** </font>\n",
    "     \\vspace{.02in}\n",
    "  <font size=\"3\">ISCTE-IUL, 5-9 de setembro de 2023 </font>\n",
    "  \\vspace{.03in}\n",
    "  \n",
    "   \n",
    "  <font size=\"3\"> *diana.mendes@iscte-iul.pt* </font> \n",
    "  \\vspace{.03in}\n",
    "  \n",
    "    \n",
    " \n"
   ]
  },
  {
   "cell_type": "markdown",
   "metadata": {},
   "source": [
    "<font size=\"4\">\n",
    " <div class=\"alert alert-success\">\n",
    "    <b> Bibliografia</b> \n",
    " </div>\n",
    "</font> \n",
    "\n",
    "1. Paul Deitel, Harvey Deitel, (2020), Intro to Python for Computer Science and Data Science: Learning to Program with AI, Big Data and the Cloud, Pearson Education, Inc.\n",
    "2. Al Sweigart, (2020), Automate the boring stuff with Python: Practical Programming for Beginners (2nd Edition), No Starch Press, Inc.\n",
    "3. Tony Gaddis, (2022), Starting Out with Python, (5th Ed.), Pearson.\n"
   ]
  },
  {
   "cell_type": "markdown",
   "metadata": {},
   "source": [
    " <font size=\"5\"> \n",
    "    <div class=\"alert alert-warning\" role=\"alert\"> Tópicos do dia </div> </font> \n",
    "  \\vspace{.03in}\n",
    "  \n",
    " - Como Instalar Python?\n",
    " - Qual é o melhor ambiente de trabalho (IDE /code editor)?\n",
    "     - VS Code, Jupyter Notebook, PyCharm, Google Colab\n",
    " - Introdução ao Python \n",
    "     - Variáveis\n",
    "     - Operações\n",
    "  \n",
    "  ###############################################################################"
   ]
  },
  {
   "cell_type": "markdown",
   "metadata": {},
   "source": [
    "# Introdução\n",
    "\n",
    "- **Python** é uma linguagem de programção simples e versátil (*open-source, high-level, multi-paradigm*)\n",
    "- Cada vez mais utilizada no ensino, investigação, banco, saúde, indústria, etc.\n",
    "- **Anaconda** é o distribuídor mais popular do Python. \n",
    "- A instalação via **Anaconda** contém os seguintes: o *Python, Spyder, Orange, Qt Console, Anaconda Prompt, Jupyter Notebook, Visual Studio Code*, etc\n",
    "- O terminal de Anacando permite correr o Python diretamente.\n",
    "- Também permite instalar novas bibliotecas (packages) que não estão disponíveis em Anaconda por default. \n",
    "- Para instalar novas bibliotecas, usa-se a função `pip` (Python package manager)\n",
    "\n"
   ]
  },
  {
   "cell_type": "markdown",
   "metadata": {},
   "source": [
    "\n",
    "- O **IPython** (**Jupyter Notebook**) é um ambiente interactivo para a utilização da linguagem Python como ferramenta de cálculo, visualização, e elaboração de programas (pequenos).\n",
    "- Para abrir o Jupyter Notebook\n",
    "    - Abrir Anaconda Navigator\n",
    "    - Launch Jupyter Notebook\n",
    "- Os ficheiros (em Jupyter) tem a extensão `.ipynb` e chamam-se *Notebooks*\n",
    "- No Jupyter Notebook, a interacção faz-se através de um interface muito simples suportado por um **browser**, que por sua vez comunica com um **kernel** que disponibiliza um interpretador de Python. \n",
    "\n",
    "- No contexto da programação de maior escala usamos o ambiente **Spyder** (IDE - Integrated Development Environment). \n",
    "- Os ficheiros (em Spyder) chamam-se *scripts* e tem a extensão `.py`\n",
    "\n"
   ]
  },
  {
   "cell_type": "markdown",
   "metadata": {},
   "source": [
    "**Módulos/Bibliotecas/*Libraries/Packages* de base:**\n",
    "\n",
    "* numpy/scipy (contas básicas, vetores, arrays)\n",
    "* statmodels (estatística)\n",
    "* pandas (Data frames, manipulação de dados)\n",
    "* prophet (forecasting - previsão de séries temporais)\n",
    "* scikit-learn (ML - Machine Learning, Regressão, clustering - nível básico e intermédio)\n",
    "* matplotlib (representações gráficas)\n",
    "* seaborn (representações gráficas)\n",
    "* keras/tensorflow (Machine Learning, Deep Learning, Text mining, Reinforcement learning - nível avançado)\n",
    "* PyTorch (Machine Learning)\n",
    "* Beautiful Soup (web scraping)\n",
    "\n",
    "- Os módulos são bibliotecas de código. Podem ser usados recorrendo ao comando ``import``\n",
    "- Por exemplo, inserindo ``import numpy``, o Python recebe a informação que a biblioteca `numpy` vai ser usada.\n",
    "\n",
    "\n",
    "\n",
    "- Abreviação padrão usada para bibliotecas (Canonical names)\n",
    "\n",
    "- Use a palavra chave `as` para importar a biblioteca com a sua abreviação padrão\n",
    "- Para importar uma biblioteca, deve escrever o seguinte ``import`` _nome_biblioteca_ ``as`` _abreviação_\n",
    "\n",
    "| Module              | Canonical Name |\n",
    "| :------------------ | :------------- |\n",
    "| numpy               | np             |\n",
    "| pandas              | pd             |\n",
    "| scipy               | sp             |\n",
    "| scipy.stats         | stats          |\n",
    "| matplotlib.pyplot   | plt            |\n",
    "| statsmodels.api     | sm             |\n",
    "| statsmodels.tsa.api | tsa            |\n",
    "\n"
   ]
  },
  {
   "cell_type": "markdown",
   "metadata": {},
   "source": [
    "## Conceitos básicos"
   ]
  },
  {
   "cell_type": "markdown",
   "metadata": {},
   "source": [
    "- Cada retângulo/caixa onde escrevemos o nosso input (que podem ser linhas de código ou texto) no Jupyter Notebook chama-se **cell/célula**.\n",
    "\n",
    "- No *Menu* se escolhemos **Markdown**, então vamos inserir na célula texto normal (em Português/Inglês) ou fórmulas matemáticas em LaTeX (*é a opção usada nesta célula*).\n",
    "\n",
    "- No *Menu* se escolhemos **Code**, então vamos inserir na célula comandos na linguagem Python.\n",
    "\n",
    "- Para executar/correr o conteúdo de uma célula, basta carregar no **Run**, no Menu. O output aparece na linha seguinte.\n",
    "\n",
    "- De forma equivalente, carregando **Shift+Enter**, vamos correr a célula corrente\n",
    "- O python contem milhares de **funções pré-definidas** (blocos de códigos construídos com um objetivo, que são chamados para executar o tal objetivo, pelo intermédio de um nome chave/simbólico), para simplificar e tornar mais eficiente o nosso trabalho.\n",
    "\n",
    "- Uma das funções pré-definidas de Python mais importantes e úteis é a função **print()**. \n",
    "- Serve para mostrar no output o conteúdo da informação definida em ().\n",
    "- Para pedir **ajuda/informação** acerca as funções pré-definidas (built-in functions) em Python, usar: ``help(nome_função)`` ou ``nome_função?`` \n",
    "- Por exemplo: ``help(len)`` vai fornecer informações sobre a função `` len`` (comprimento de um objeto)\n",
    "- **Tab-completion**: para obter todos os atributos de um certo objeto (por exemplo o que posso fazer com uma lista?)\n",
    "- Basta escrever o nome do objeto. e carregar na tecla TAB: ``nome_do_objeto.<TAB>``\n"
   ]
  },
  {
   "cell_type": "markdown",
   "metadata": {},
   "source": [
    "### Inserir Comentários"
   ]
  },
  {
   "cell_type": "code",
   "execution_count": 1,
   "metadata": {
    "ExecuteTime": {
     "end_time": "2023-09-06T17:15:45.799487Z",
     "start_time": "2023-09-06T17:15:45.782483Z"
    }
   },
   "outputs": [],
   "source": [
    "# os comentários começam com '#'\n",
    "# os comentários não são executáveis (não tem output) \n",
    "# isto é um comentário"
   ]
  },
  {
   "cell_type": "code",
   "execution_count": 2,
   "metadata": {
    "ExecuteTime": {
     "end_time": "2023-09-06T17:15:46.266334Z",
     "start_time": "2023-09-06T17:15:46.259327Z"
    }
   },
   "outputs": [
    {
     "data": {
      "text/plain": [
       "' Explicação de como aprendemos Python'"
      ]
     },
     "execution_count": 2,
     "metadata": {},
     "output_type": "execute_result"
    }
   ],
   "source": [
    "# informações/explicações sobre os comandos Python que podem ser visualizados no output apresentam-se \n",
    "# entre aspas triplas ''' '''\n",
    "''' Explicação de como aprendemos Python'''"
   ]
  },
  {
   "cell_type": "markdown",
   "metadata": {},
   "source": [
    "### Inserir texto e fórmulas"
   ]
  },
  {
   "cell_type": "markdown",
   "metadata": {},
   "source": [
    "#########################################################################################\n",
    "\n",
    "Exemplo de fórmulas matemáticas, usando LaTeX (editor de texto mais usado ao nível mundial)\n",
    "\n",
    "Agora escrevo uma equação $\\LaTeX$ inline : $x = Ax+b^2$\n",
    "\n",
    "E agora uma equação numa linha nova, centrada no meio da página: $$x = Ax + b$$\n",
    "\n",
    "##########################################################################################\n",
    "\n",
    "- Portanto, no mesmo ficheiro (Notebook) podemos ter texto, fórmulas, linhas de comandos, tabela, gráficos, simulações, etc, o que torna o Jupyter Notebook extremamente versátil. \n",
    "- Mais, podemos definir vários *kernels* (núcleos), um para cada linguagem de programação: Python, R, Julia, Matlab, etc..."
   ]
  },
  {
   "cell_type": "markdown",
   "metadata": {},
   "source": [
    "### Versão Python"
   ]
  },
  {
   "cell_type": "code",
   "execution_count": 3,
   "metadata": {
    "ExecuteTime": {
     "end_time": "2023-09-06T17:15:47.323951Z",
     "start_time": "2023-09-06T17:15:47.304951Z"
    }
   },
   "outputs": [
    {
     "name": "stdout",
     "output_type": "stream",
     "text": [
      "O meu Python tem a versão 3.10.9 | packaged by Anaconda, Inc. | (main, Mar  1 2023, 18:18:15) [MSC v.1916 64 bit (AMD64)]\n"
     ]
    }
   ],
   "source": [
    "# vamos ver qual versão de Python está instalada no nosso computador\n",
    "import sys\n",
    "print(\"O meu Python tem a versão\", sys.version)"
   ]
  },
  {
   "cell_type": "markdown",
   "metadata": {},
   "source": [
    "#  Tipos de Dados / Estruturas de dados/ Objetos / Variáveis\n",
    "\n",
    "- Números inteiros, reais, complexos\n",
    "- Booleanos\n",
    "- Sequências (strings), texto e imagens\n",
    "- Vetores, Listas, Dicionários, Tuples, Conjuntos\n",
    "\n"
   ]
  },
  {
   "cell_type": "markdown",
   "metadata": {},
   "source": [
    "## Números reais e operações\n",
    "\n",
    "Temos as seguintes operações\n",
    "\n",
    "| Operação | Descrição |\n",
    "| :------: | :---------: |\n",
    "| +        |Adição|\n",
    "| -        |Subtração|\n",
    "| *        |Multiplicação|\n",
    "| /        |Divisão|\n",
    "| %        |Módulo / resto|\n",
    "| **       |Expoente/Potência|\n",
    "| //       |Divisão inteira|\n",
    "\n"
   ]
  },
  {
   "cell_type": "code",
   "execution_count": 4,
   "metadata": {
    "ExecuteTime": {
     "end_time": "2023-09-06T17:15:47.888768Z",
     "start_time": "2023-09-06T17:15:47.874738Z"
    }
   },
   "outputs": [
    {
     "data": {
      "text/plain": [
       "33"
      ]
     },
     "execution_count": 4,
     "metadata": {},
     "output_type": "execute_result"
    }
   ],
   "source": [
    "33"
   ]
  },
  {
   "cell_type": "code",
   "execution_count": 5,
   "metadata": {
    "ExecuteTime": {
     "end_time": "2023-09-06T17:15:48.093770Z",
     "start_time": "2023-09-06T17:15:48.075768Z"
    }
   },
   "outputs": [
    {
     "data": {
      "text/plain": [
       "int"
      ]
     },
     "execution_count": 5,
     "metadata": {},
     "output_type": "execute_result"
    }
   ],
   "source": [
    "type(33)"
   ]
  },
  {
   "cell_type": "code",
   "execution_count": 6,
   "metadata": {
    "ExecuteTime": {
     "end_time": "2023-09-06T17:15:48.312861Z",
     "start_time": "2023-09-06T17:15:48.295836Z"
    }
   },
   "outputs": [
    {
     "data": {
      "text/plain": [
       "16809758"
      ]
     },
     "execution_count": 6,
     "metadata": {},
     "output_type": "execute_result"
    }
   ],
   "source": [
    "# consola como calculadora\n",
    "# comando que representa uma operação matemática\n",
    "24567777-3**5+20000-7777776"
   ]
  },
  {
   "cell_type": "code",
   "execution_count": 7,
   "metadata": {
    "ExecuteTime": {
     "end_time": "2023-09-06T17:15:48.514475Z",
     "start_time": "2023-09-06T17:15:48.504473Z"
    }
   },
   "outputs": [
    {
     "name": "stdout",
     "output_type": "stream",
     "text": [
      "2\n"
     ]
    },
    {
     "data": {
      "text/plain": [
       "4.0"
      ]
     },
     "execution_count": 7,
     "metadata": {},
     "output_type": "execute_result"
    }
   ],
   "source": [
    "# números reais e operações aritméticas básicas\n",
    "print (1 + 1)  # adição\n",
    "1 * 3  # multiplicação\n",
    "1/2   # divisão\n",
    "2 ** 4   # potência\n",
    "5 % 2  # módulo (o que sobra quando dividimos x por y, o resto)\n",
    "3 // 2  # divisão inteira \n",
    "# o resultado é o maior numéro inteiro maior que o resultado\n",
    "(-2 + 3) * (15 + 5)/5   # operações combinadas"
   ]
  },
  {
   "cell_type": "code",
   "execution_count": 8,
   "metadata": {
    "ExecuteTime": {
     "end_time": "2023-09-06T17:15:48.716247Z",
     "start_time": "2023-09-06T17:15:48.701243Z"
    }
   },
   "outputs": [],
   "source": [
    "# nota-se que no output só aparece o resultado da última operação/expressão\n",
    "# para visualizar cada uma das operações, temos de inserir cada operação numa célula distinta e fazer Run"
   ]
  },
  {
   "cell_type": "code",
   "execution_count": 9,
   "metadata": {
    "ExecuteTime": {
     "end_time": "2023-09-06T17:15:48.934863Z",
     "start_time": "2023-09-06T17:15:48.929848Z"
    }
   },
   "outputs": [
    {
     "data": {
      "text/plain": [
       "2.392264150943397"
      ]
     },
     "execution_count": 9,
     "metadata": {},
     "output_type": "execute_result"
    }
   ],
   "source": [
    "(-2.5 + 3.12) * (15 + 5.45)/5.3"
   ]
  },
  {
   "cell_type": "code",
   "execution_count": 10,
   "metadata": {
    "ExecuteTime": {
     "end_time": "2023-09-06T17:15:49.168231Z",
     "start_time": "2023-09-06T17:15:49.156202Z"
    }
   },
   "outputs": [],
   "source": [
    "# de forma equivalente podemos usar a função pré-definida print() para obter todos os outputs em simultâneo"
   ]
  },
  {
   "cell_type": "code",
   "execution_count": 11,
   "metadata": {
    "ExecuteTime": {
     "end_time": "2023-09-06T17:15:49.355705Z",
     "start_time": "2023-09-06T17:15:49.339703Z"
    }
   },
   "outputs": [
    {
     "name": "stdout",
     "output_type": "stream",
     "text": [
      "1 + 1 = 2\n",
      "2\n",
      "1 * 3 = 3\n",
      "0.5\n",
      "2**4 =  16\n",
      "1\n",
      "3 // 2= 1\n",
      "(-2 + 3) * (15 + 5)/5 = 4.0\n"
     ]
    }
   ],
   "source": [
    "# o comando \"print\", neste caso, afixa as operações/expressões e também os resultados das operações no output\n",
    "\n",
    "print('1 + 1 =', 1 + 1)\n",
    "print(1 + 1)\n",
    "print('1 * 3 =', 1 * 3)\n",
    "print(1/2)\n",
    "print('2**4 = ', 2**4)\n",
    "print(5 % 2)\n",
    "print('3 // 2=', 3 // 2)  \n",
    "print('(-2 + 3) * (15 + 5)/5 =', (-2 + 3) * (15 + 5)/5)"
   ]
  },
  {
   "cell_type": "code",
   "execution_count": 12,
   "metadata": {
    "ExecuteTime": {
     "end_time": "2023-09-06T17:15:49.572902Z",
     "start_time": "2023-09-06T17:15:49.565901Z"
    }
   },
   "outputs": [
    {
     "data": {
      "text/plain": [
       "3.25"
      ]
     },
     "execution_count": 12,
     "metadata": {},
     "output_type": "execute_result"
    }
   ],
   "source": [
    "# divisão\n",
    "13/4"
   ]
  },
  {
   "cell_type": "code",
   "execution_count": 13,
   "metadata": {
    "ExecuteTime": {
     "end_time": "2023-09-06T17:15:49.789641Z",
     "start_time": "2023-09-06T17:15:49.767892Z"
    }
   },
   "outputs": [
    {
     "data": {
      "text/plain": [
       "3"
      ]
     },
     "execution_count": 13,
     "metadata": {},
     "output_type": "execute_result"
    }
   ],
   "source": [
    "# divisão inteira\n",
    "13//4"
   ]
  },
  {
   "cell_type": "code",
   "execution_count": 14,
   "metadata": {
    "ExecuteTime": {
     "end_time": "2023-09-06T17:15:50.008261Z",
     "start_time": "2023-09-06T17:15:50.002265Z"
    }
   },
   "outputs": [
    {
     "data": {
      "text/plain": [
       "1"
      ]
     },
     "execution_count": 14,
     "metadata": {},
     "output_type": "execute_result"
    }
   ],
   "source": [
    "# resto de uma divisão\n",
    "13%4"
   ]
  },
  {
   "cell_type": "code",
   "execution_count": 15,
   "metadata": {
    "ExecuteTime": {
     "end_time": "2023-09-06T17:15:50.709692Z",
     "start_time": "2023-09-06T17:15:50.229722Z"
    }
   },
   "outputs": [
    {
     "ename": "ZeroDivisionError",
     "evalue": "division by zero",
     "output_type": "error",
     "traceback": [
      "\u001b[1;31m---------------------------------------------------------------------------\u001b[0m",
      "\u001b[1;31mZeroDivisionError\u001b[0m                         Traceback (most recent call last)",
      "Cell \u001b[1;32mIn[15], line 2\u001b[0m\n\u001b[0;32m      1\u001b[0m \u001b[38;5;66;03m# divisão por zero\u001b[39;00m\n\u001b[1;32m----> 2\u001b[0m \u001b[38;5;241;43m13\u001b[39;49m\u001b[38;5;241;43m/\u001b[39;49m\u001b[38;5;241;43m0\u001b[39;49m\n",
      "\u001b[1;31mZeroDivisionError\u001b[0m: division by zero"
     ]
    }
   ],
   "source": [
    "# divisão por zero\n",
    "13/0"
   ]
  },
  {
   "cell_type": "code",
   "execution_count": null,
   "metadata": {
    "ExecuteTime": {
     "end_time": "2023-09-06T17:15:50.716696Z",
     "start_time": "2023-09-06T17:15:50.716696Z"
    }
   },
   "outputs": [],
   "source": [
    "'diana'+ 23"
   ]
  },
  {
   "cell_type": "code",
   "execution_count": null,
   "metadata": {
    "ExecuteTime": {
     "end_time": "2023-09-06T17:15:50.727232Z",
     "start_time": "2023-09-06T17:15:50.726224Z"
    }
   },
   "outputs": [],
   "source": [
    "int(3.14)"
   ]
  },
  {
   "cell_type": "code",
   "execution_count": 16,
   "metadata": {
    "ExecuteTime": {
     "end_time": "2023-09-06T17:15:50.960053Z",
     "start_time": "2023-09-06T17:15:50.891945Z"
    }
   },
   "outputs": [
    {
     "ename": "ValueError",
     "evalue": "invalid literal for int() with base 10: '3.14'",
     "output_type": "error",
     "traceback": [
      "\u001b[1;31m---------------------------------------------------------------------------\u001b[0m",
      "\u001b[1;31mValueError\u001b[0m                                Traceback (most recent call last)",
      "Cell \u001b[1;32mIn[16], line 1\u001b[0m\n\u001b[1;32m----> 1\u001b[0m \u001b[38;5;28;43mint\u001b[39;49m\u001b[43m(\u001b[49m\u001b[38;5;124;43m'\u001b[39;49m\u001b[38;5;124;43m3.14\u001b[39;49m\u001b[38;5;124;43m'\u001b[39;49m\u001b[43m)\u001b[49m\n",
      "\u001b[1;31mValueError\u001b[0m: invalid literal for int() with base 10: '3.14'"
     ]
    }
   ],
   "source": [
    "int('3.14')"
   ]
  },
  {
   "cell_type": "code",
   "execution_count": 17,
   "metadata": {
    "ExecuteTime": {
     "end_time": "2023-09-06T17:15:51.408425Z",
     "start_time": "2023-09-06T17:15:51.396419Z"
    }
   },
   "outputs": [
    {
     "ename": "NameError",
     "evalue": "name 'tipe' is not defined",
     "output_type": "error",
     "traceback": [
      "\u001b[1;31m---------------------------------------------------------------------------\u001b[0m",
      "\u001b[1;31mNameError\u001b[0m                                 Traceback (most recent call last)",
      "Cell \u001b[1;32mIn[17], line 1\u001b[0m\n\u001b[1;32m----> 1\u001b[0m \u001b[43mtipe\u001b[49m(\u001b[38;5;241m3.14\u001b[39m)\n",
      "\u001b[1;31mNameError\u001b[0m: name 'tipe' is not defined"
     ]
    }
   ],
   "source": [
    "tipe(3.14)"
   ]
  },
  {
   "cell_type": "code",
   "execution_count": 18,
   "metadata": {
    "ExecuteTime": {
     "end_time": "2023-09-06T17:15:51.625907Z",
     "start_time": "2023-09-06T17:15:51.620907Z"
    }
   },
   "outputs": [],
   "source": [
    "# Quando ocorre um erro (error or exception), o Python para a execução e gera uma mensagem de erro.\n",
    "# A última linha da mensagem de erro informa acerca o tipo de erro cometido (neste caso - divisão por zero)\n"
   ]
  },
  {
   "cell_type": "code",
   "execution_count": 19,
   "metadata": {
    "ExecuteTime": {
     "end_time": "2023-09-06T17:15:51.890829Z",
     "start_time": "2023-09-06T17:15:51.859802Z"
    }
   },
   "outputs": [
    {
     "ename": "NameError",
     "evalue": "name 'log' is not defined",
     "output_type": "error",
     "traceback": [
      "\u001b[1;31m---------------------------------------------------------------------------\u001b[0m",
      "\u001b[1;31mNameError\u001b[0m                                 Traceback (most recent call last)",
      "Cell \u001b[1;32mIn[19], line 1\u001b[0m\n\u001b[1;32m----> 1\u001b[0m \u001b[43mlog\u001b[49m(\u001b[38;5;241m2.3\u001b[39m)\n",
      "\u001b[1;31mNameError\u001b[0m: name 'log' is not defined"
     ]
    }
   ],
   "source": [
    "log(2.3)"
   ]
  },
  {
   "cell_type": "code",
   "execution_count": 20,
   "metadata": {
    "ExecuteTime": {
     "end_time": "2023-09-06T17:15:52.510155Z",
     "start_time": "2023-09-06T17:15:52.499156Z"
    }
   },
   "outputs": [],
   "source": [
    "import math"
   ]
  },
  {
   "cell_type": "code",
   "execution_count": 21,
   "metadata": {
    "ExecuteTime": {
     "end_time": "2023-09-06T17:15:53.155425Z",
     "start_time": "2023-09-06T17:15:53.138677Z"
    }
   },
   "outputs": [
    {
     "data": {
      "text/plain": [
       "0.8329091229351039"
      ]
     },
     "execution_count": 21,
     "metadata": {},
     "output_type": "execute_result"
    }
   ],
   "source": [
    "math.log(2.3)"
   ]
  },
  {
   "cell_type": "code",
   "execution_count": 22,
   "metadata": {
    "ExecuteTime": {
     "end_time": "2023-09-06T17:15:53.901022Z",
     "start_time": "2023-09-06T17:15:53.883181Z"
    }
   },
   "outputs": [
    {
     "name": "stdout",
     "output_type": "stream",
     "text": [
      "Help on built-in function log in module math:\n",
      "\n",
      "log(...)\n",
      "    log(x, [base=math.e])\n",
      "    Return the logarithm of x to the given base.\n",
      "    \n",
      "    If the base not specified, returns the natural logarithm (base e) of x.\n",
      "\n"
     ]
    }
   ],
   "source": [
    "help(math.log)"
   ]
  },
  {
   "cell_type": "code",
   "execution_count": 23,
   "metadata": {
    "ExecuteTime": {
     "end_time": "2023-09-06T17:15:54.641293Z",
     "start_time": "2023-09-06T17:15:54.634293Z"
    }
   },
   "outputs": [],
   "source": [
    "math.log?"
   ]
  },
  {
   "cell_type": "code",
   "execution_count": 24,
   "metadata": {
    "ExecuteTime": {
     "end_time": "2023-09-06T17:15:59.927925Z",
     "start_time": "2023-09-06T17:15:59.907583Z"
    }
   },
   "outputs": [
    {
     "data": {
      "text/plain": [
       "0.8329091229351039"
      ]
     },
     "execution_count": 24,
     "metadata": {},
     "output_type": "execute_result"
    }
   ],
   "source": [
    "from math import log\n",
    "log(2.3)"
   ]
  },
  {
   "cell_type": "code",
   "execution_count": null,
   "metadata": {
    "ExecuteTime": {
     "end_time": "2023-09-05T18:40:08.435917Z",
     "start_time": "2023-09-05T18:40:08.422919Z"
    }
   },
   "outputs": [],
   "source": []
  },
  {
   "cell_type": "markdown",
   "metadata": {},
   "source": [
    "## Atribuir \"valores\" para as variáveis\n",
    "\n",
    "- Para poder usar uma variável nos códigos precisamos atribuir-lhe um nome\n",
    "- **Variável** - é um objeto que tem um *nome* e um *valor*\n",
    "- Cada variável tem um nome distinto\n",
    "- A atribuição faz-se usando o operador igual ``=``\n",
    "- Duas variáveis com o mesmo nome, assumem os valores da última atribuição\n",
    "- Os nomes das variáveis não podem conter espaços, caracteres unicode ou palavras reservadas de Python\n",
    "- Os nomes das variáveis são *case-sensitive*"
   ]
  },
  {
   "cell_type": "markdown",
   "metadata": {},
   "source": [
    "### Palavras reservadas\n",
    "\n",
    "- As *palavras reservadas* em Python (*Reserved keywords in Python*) - não podem ser utilizadas como nomes de variáveis\n",
    "\n",
    "| _ | _ | _ |\n",
    "|:---:|:---:|---:|\n",
    "|False|class|finally|\n",
    "|is|return|None|\n",
    "|continue|for|lambda|\n",
    "|try|True|def|\n",
    "|from| nonlocal| while|\n",
    "|and|del|global|\n",
    "|not|with|as|\n",
    "|elif|if|or|\n",
    "|yield|assert|else|\n",
    "|import|pass|break|\n",
    "|except|in|raise|\t "
   ]
  },
  {
   "cell_type": "code",
   "execution_count": 25,
   "metadata": {
    "ExecuteTime": {
     "end_time": "2023-09-06T17:16:02.291314Z",
     "start_time": "2023-09-06T17:16:02.284162Z"
    }
   },
   "outputs": [
    {
     "data": {
      "text/plain": [
       "5"
      ]
     },
     "execution_count": 25,
     "metadata": {},
     "output_type": "execute_result"
    }
   ],
   "source": [
    "# atribuir o valor 5 a variável a1\n",
    "a1 = 5\n",
    "a1"
   ]
  },
  {
   "cell_type": "code",
   "execution_count": 26,
   "metadata": {
    "ExecuteTime": {
     "end_time": "2023-09-06T17:16:02.788485Z",
     "start_time": "2023-09-06T17:16:02.770486Z"
    }
   },
   "outputs": [
    {
     "data": {
      "text/plain": [
       "5"
      ]
     },
     "execution_count": 26,
     "metadata": {},
     "output_type": "execute_result"
    }
   ],
   "source": [
    "a1"
   ]
  },
  {
   "cell_type": "code",
   "execution_count": 27,
   "metadata": {
    "ExecuteTime": {
     "end_time": "2023-09-06T17:16:03.040483Z",
     "start_time": "2023-09-06T17:16:03.034484Z"
    }
   },
   "outputs": [
    {
     "name": "stdout",
     "output_type": "stream",
     "text": [
      "5\n"
     ]
    }
   ],
   "source": [
    "print(a1)"
   ]
  },
  {
   "cell_type": "code",
   "execution_count": 28,
   "metadata": {
    "ExecuteTime": {
     "end_time": "2023-09-06T17:16:03.273051Z",
     "start_time": "2023-09-06T17:16:03.268040Z"
    }
   },
   "outputs": [
    {
     "ename": "SyntaxError",
     "evalue": "invalid syntax (2424077446.py, line 1)",
     "output_type": "error",
     "traceback": [
      "\u001b[1;36m  Cell \u001b[1;32mIn[28], line 1\u001b[1;36m\u001b[0m\n\u001b[1;33m    a?1=34\u001b[0m\n\u001b[1;37m     ^\u001b[0m\n\u001b[1;31mSyntaxError\u001b[0m\u001b[1;31m:\u001b[0m invalid syntax\n"
     ]
    }
   ],
   "source": [
    "a?1=34"
   ]
  },
  {
   "cell_type": "code",
   "execution_count": null,
   "metadata": {},
   "outputs": [],
   "source": []
  },
  {
   "cell_type": "code",
   "execution_count": 29,
   "metadata": {
    "ExecuteTime": {
     "end_time": "2023-09-06T17:16:03.665343Z",
     "start_time": "2023-09-06T17:16:03.651342Z"
    }
   },
   "outputs": [],
   "source": [
    "# atribuição múltipla\n",
    "x, y, u , v = 2, 5, -3, 0.19\n",
    "# y=5\n",
    "z=x+y-u+v"
   ]
  },
  {
   "cell_type": "code",
   "execution_count": 30,
   "metadata": {
    "ExecuteTime": {
     "end_time": "2023-09-06T17:16:03.866865Z",
     "start_time": "2023-09-06T17:16:03.854866Z"
    },
    "code_folding": []
   },
   "outputs": [
    {
     "name": "stdout",
     "output_type": "stream",
     "text": [
      "10.19\n"
     ]
    }
   ],
   "source": [
    "# desta forma fica guardada na memória a variável z=x+y=7\n",
    "# para visualizar o output utilizamos a função print\n",
    "print(z)"
   ]
  },
  {
   "cell_type": "code",
   "execution_count": 31,
   "metadata": {
    "ExecuteTime": {
     "end_time": "2023-09-06T17:16:04.084503Z",
     "start_time": "2023-09-06T17:16:04.065506Z"
    }
   },
   "outputs": [
    {
     "data": {
      "text/plain": [
       "7"
      ]
     },
     "execution_count": 31,
     "metadata": {},
     "output_type": "execute_result"
    }
   ],
   "source": [
    "i = 5      \n",
    "i = i+1    # atribuir mais uma unidade ao último valor da variável i\n",
    "i += 1 # a mesma coisa que na alinha anterior\n",
    "i"
   ]
  },
  {
   "cell_type": "code",
   "execution_count": 32,
   "metadata": {
    "ExecuteTime": {
     "end_time": "2023-09-06T17:16:04.273503Z",
     "start_time": "2023-09-06T17:16:04.260507Z"
    }
   },
   "outputs": [
    {
     "name": "stdout",
     "output_type": "stream",
     "text": [
      "7\n"
     ]
    }
   ],
   "source": [
    "print(i)"
   ]
  },
  {
   "cell_type": "code",
   "execution_count": 33,
   "metadata": {
    "ExecuteTime": {
     "end_time": "2023-09-06T17:16:04.490618Z",
     "start_time": "2023-09-06T17:16:04.477619Z"
    }
   },
   "outputs": [
    {
     "name": "stdout",
     "output_type": "stream",
     "text": [
      "2.786\n"
     ]
    },
    {
     "data": {
      "text/plain": [
       "float"
      ]
     },
     "execution_count": 33,
     "metadata": {},
     "output_type": "execute_result"
    }
   ],
   "source": [
    "# as variáveis numéricas podem ser de tipo int (inteiros) ou float (decimais)\n",
    "# por enquanto não vamos falar dos números complexos conjugados\n",
    "# type() é uma função Python que nós diz que tipo de dados temos \n",
    "\n",
    "a1=2.786    # tipo float\n",
    "print(a1)\n",
    "type(a1)\n"
   ]
  },
  {
   "cell_type": "code",
   "execution_count": null,
   "metadata": {
    "ExecuteTime": {
     "end_time": "2023-09-06T17:16:04.689229Z",
     "start_time": "2023-09-06T17:16:04.689229Z"
    }
   },
   "outputs": [],
   "source": [
    "a2=100      # tipo inteiro\n",
    "print(a2)\n",
    "type(a2)"
   ]
  },
  {
   "cell_type": "code",
   "execution_count": null,
   "metadata": {
    "ExecuteTime": {
     "end_time": "2023-09-06T17:16:04.918229Z",
     "start_time": "2023-09-06T17:16:04.918229Z"
    }
   },
   "outputs": [],
   "source": [
    "# transformar numeros inteiros em float e float em inteiros usando as funções 'int' e 'float'\n",
    "print(int(-2.8))\n",
    "print(float(2))\n",
    "print(int(12.54634555))\n",
    "print(float(-123.6666666))"
   ]
  },
  {
   "cell_type": "code",
   "execution_count": 34,
   "metadata": {
    "ExecuteTime": {
     "end_time": "2023-09-06T17:16:05.157227Z",
     "start_time": "2023-09-06T17:16:05.122228Z"
    }
   },
   "outputs": [
    {
     "ename": "NameError",
     "evalue": "name 'a2' is not defined",
     "output_type": "error",
     "traceback": [
      "\u001b[1;31m---------------------------------------------------------------------------\u001b[0m",
      "\u001b[1;31mNameError\u001b[0m                                 Traceback (most recent call last)",
      "Cell \u001b[1;32mIn[34], line 2\u001b[0m\n\u001b[0;32m      1\u001b[0m \u001b[38;5;66;03m# apagar (delete) variáveis com a função Python 'del'\u001b[39;00m\n\u001b[1;32m----> 2\u001b[0m \u001b[38;5;28;01mdel\u001b[39;00m a1, a2\n",
      "\u001b[1;31mNameError\u001b[0m: name 'a2' is not defined"
     ]
    }
   ],
   "source": [
    "# apagar (delete) variáveis com a função Python 'del'\n",
    "del a1, a2"
   ]
  },
  {
   "cell_type": "code",
   "execution_count": 35,
   "metadata": {
    "ExecuteTime": {
     "end_time": "2023-09-06T17:16:05.375520Z",
     "start_time": "2023-09-06T17:16:05.359523Z"
    }
   },
   "outputs": [
    {
     "ename": "NameError",
     "evalue": "name 'a2' is not defined",
     "output_type": "error",
     "traceback": [
      "\u001b[1;31m---------------------------------------------------------------------------\u001b[0m",
      "\u001b[1;31mNameError\u001b[0m                                 Traceback (most recent call last)",
      "Cell \u001b[1;32mIn[35], line 1\u001b[0m\n\u001b[1;32m----> 1\u001b[0m \u001b[43ma2\u001b[49m\n",
      "\u001b[1;31mNameError\u001b[0m: name 'a2' is not defined"
     ]
    }
   ],
   "source": [
    "a2"
   ]
  },
  {
   "cell_type": "code",
   "execution_count": 36,
   "metadata": {
    "ExecuteTime": {
     "end_time": "2023-09-06T17:16:05.581523Z",
     "start_time": "2023-09-06T17:16:05.570532Z"
    }
   },
   "outputs": [],
   "source": [
    "pi = 3.14159265359    # decimal\n"
   ]
  },
  {
   "cell_type": "code",
   "execution_count": 37,
   "metadata": {
    "ExecuteTime": {
     "end_time": "2023-09-06T17:16:05.782520Z",
     "start_time": "2023-09-06T17:16:05.766522Z"
    }
   },
   "outputs": [
    {
     "name": "stdout",
     "output_type": "stream",
     "text": [
      "3.14159265359\n"
     ]
    }
   ],
   "source": [
    "print(pi)"
   ]
  },
  {
   "cell_type": "code",
   "execution_count": 38,
   "metadata": {
    "ExecuteTime": {
     "end_time": "2023-09-06T17:16:06.048520Z",
     "start_time": "2023-09-06T17:16:06.029530Z"
    }
   },
   "outputs": [
    {
     "data": {
      "text/plain": [
       "3.1416"
      ]
     },
     "execution_count": 38,
     "metadata": {},
     "output_type": "execute_result"
    }
   ],
   "source": [
    "xr=round(pi,4)\n",
    "xr"
   ]
  },
  {
   "cell_type": "code",
   "execution_count": 39,
   "metadata": {
    "ExecuteTime": {
     "end_time": "2023-09-06T17:16:06.295375Z",
     "start_time": "2023-09-06T17:16:06.283377Z"
    }
   },
   "outputs": [
    {
     "name": "stdout",
     "output_type": "stream",
     "text": [
      "67\n"
     ]
    }
   ],
   "source": [
    "# atribuir um novo valor a variável pi\n",
    "pi = 67\n",
    "print(pi)"
   ]
  },
  {
   "cell_type": "markdown",
   "metadata": {},
   "source": [
    "## Strings/Words - Sequências \n",
    "\n",
    "- **String** = seguência de letras / números / caracteres\n",
    "- Representa-se entre aspas, ou aspas duplas "
   ]
  },
  {
   "cell_type": "code",
   "execution_count": 40,
   "metadata": {
    "ExecuteTime": {
     "end_time": "2023-09-06T17:16:07.149660Z",
     "start_time": "2023-09-06T17:16:07.138969Z"
    }
   },
   "outputs": [
    {
     "data": {
      "text/plain": [
       "'my string'"
      ]
     },
     "execution_count": 40,
     "metadata": {},
     "output_type": "execute_result"
    }
   ],
   "source": [
    "'my string'"
   ]
  },
  {
   "cell_type": "code",
   "execution_count": 41,
   "metadata": {
    "ExecuteTime": {
     "end_time": "2023-09-06T17:16:07.641886Z",
     "start_time": "2023-09-06T17:16:07.636882Z"
    }
   },
   "outputs": [
    {
     "data": {
      "text/plain": [
       "'I like Data Science'"
      ]
     },
     "execution_count": 41,
     "metadata": {},
     "output_type": "execute_result"
    }
   ],
   "source": [
    "\"I like Data Science\""
   ]
  },
  {
   "cell_type": "code",
   "execution_count": 42,
   "metadata": {
    "ExecuteTime": {
     "end_time": "2023-09-06T17:16:07.844625Z",
     "start_time": "2023-09-06T17:16:07.829622Z"
    }
   },
   "outputs": [
    {
     "data": {
      "text/plain": [
       "'I want Pizza'"
      ]
     },
     "execution_count": 42,
     "metadata": {},
     "output_type": "execute_result"
    }
   ],
   "source": [
    "s = \"\"\"I want Pizza\"\"\"\n",
    "s"
   ]
  },
  {
   "cell_type": "code",
   "execution_count": 43,
   "metadata": {
    "ExecuteTime": {
     "end_time": "2023-09-06T17:16:08.045843Z",
     "start_time": "2023-09-06T17:16:08.041836Z"
    }
   },
   "outputs": [],
   "source": [
    "# porque não aparece o output???"
   ]
  },
  {
   "cell_type": "code",
   "execution_count": 44,
   "metadata": {
    "ExecuteTime": {
     "end_time": "2023-09-06T17:16:08.247286Z",
     "start_time": "2023-09-06T17:16:08.240286Z"
    }
   },
   "outputs": [
    {
     "name": "stdout",
     "output_type": "stream",
     "text": [
      "I want Pizza\n"
     ]
    }
   ],
   "source": [
    "print(s)"
   ]
  },
  {
   "cell_type": "code",
   "execution_count": 45,
   "metadata": {
    "ExecuteTime": {
     "end_time": "2023-09-06T17:16:08.448121Z",
     "start_time": "2023-09-06T17:16:08.437114Z"
    }
   },
   "outputs": [
    {
     "data": {
      "text/plain": [
       "'I want Pizza'"
      ]
     },
     "execution_count": 45,
     "metadata": {},
     "output_type": "execute_result"
    }
   ],
   "source": [
    "\"\"\"I want Pizza\"\"\""
   ]
  },
  {
   "cell_type": "markdown",
   "metadata": {},
   "source": [
    "#### Operações com strings\n",
    "- adição ``+``\n",
    "- união ``join``\n",
    "- ``replace, count, find, split``"
   ]
  },
  {
   "cell_type": "code",
   "execution_count": 46,
   "metadata": {
    "ExecuteTime": {
     "end_time": "2023-09-06T17:16:08.866093Z",
     "start_time": "2023-09-06T17:16:08.846107Z"
    }
   },
   "outputs": [
    {
     "name": "stdout",
     "output_type": "stream",
     "text": [
      "datascience\n",
      "data science\n",
      "data science data science\n"
     ]
    }
   ],
   "source": [
    "# adicionar/juntar duas sequências\n",
    "f=\"data\"\n",
    "g=\"science\"\n",
    "print(f + g)    # string concatenation\n",
    "print(f + ' ' + g)    # string concatenation with space ' ' between words\n",
    "print(\" \".join([f, g, f, g]))   # juntar sequências "
   ]
  },
  {
   "cell_type": "code",
   "execution_count": null,
   "metadata": {
    "ExecuteTime": {
     "end_time": "2023-09-06T17:16:09.065892Z",
     "start_time": "2023-09-06T17:16:09.065892Z"
    }
   },
   "outputs": [],
   "source": [
    "# Upper Case a string - usamos a função 'upper' para escrever o string f em maiúsculas\n",
    "g.upper()"
   ]
  },
  {
   "cell_type": "code",
   "execution_count": null,
   "metadata": {
    "ExecuteTime": {
     "end_time": "2023-09-06T17:16:09.262033Z",
     "start_time": "2023-09-06T17:16:09.262033Z"
    }
   },
   "outputs": [],
   "source": [
    "num = 1\n",
    "name = 'Diana'"
   ]
  },
  {
   "cell_type": "code",
   "execution_count": 47,
   "metadata": {
    "ExecuteTime": {
     "end_time": "2023-09-06T17:16:09.505985Z",
     "start_time": "2023-09-06T17:16:09.476985Z"
    }
   },
   "outputs": [
    {
     "ename": "NameError",
     "evalue": "name 'num' is not defined",
     "output_type": "error",
     "traceback": [
      "\u001b[1;31m---------------------------------------------------------------------------\u001b[0m",
      "\u001b[1;31mNameError\u001b[0m                                 Traceback (most recent call last)",
      "Cell \u001b[1;32mIn[47], line 1\u001b[0m\n\u001b[1;32m----> 1\u001b[0m \u001b[38;5;28mprint\u001b[39m(\u001b[38;5;124m'\u001b[39m\u001b[38;5;124mMy number is: \u001b[39m\u001b[38;5;132;01m{one}\u001b[39;00m\u001b[38;5;124m, and my name is: \u001b[39m\u001b[38;5;132;01m{two}\u001b[39;00m\u001b[38;5;124m'\u001b[39m\u001b[38;5;241m.\u001b[39mformat(one\u001b[38;5;241m=\u001b[39m\u001b[43mnum\u001b[49m,two\u001b[38;5;241m=\u001b[39mname))\n",
      "\u001b[1;31mNameError\u001b[0m: name 'num' is not defined"
     ]
    }
   ],
   "source": [
    "print('My number is: {one}, and my name is: {two}'.format(one=num,two=name))"
   ]
  },
  {
   "cell_type": "code",
   "execution_count": 48,
   "metadata": {
    "ExecuteTime": {
     "end_time": "2023-09-06T17:16:10.158830Z",
     "start_time": "2023-09-06T17:16:10.138847Z"
    }
   },
   "outputs": [
    {
     "ename": "NameError",
     "evalue": "name 'num' is not defined",
     "output_type": "error",
     "traceback": [
      "\u001b[1;31m---------------------------------------------------------------------------\u001b[0m",
      "\u001b[1;31mNameError\u001b[0m                                 Traceback (most recent call last)",
      "Cell \u001b[1;32mIn[48], line 1\u001b[0m\n\u001b[1;32m----> 1\u001b[0m \u001b[38;5;28mprint\u001b[39m(\u001b[38;5;124m'\u001b[39m\u001b[38;5;124mMy number is: \u001b[39m\u001b[38;5;132;01m{}\u001b[39;00m\u001b[38;5;124m, and my name is: \u001b[39m\u001b[38;5;132;01m{}\u001b[39;00m\u001b[38;5;124m'\u001b[39m\u001b[38;5;241m.\u001b[39mformat(\u001b[43mnum\u001b[49m,name))\n",
      "\u001b[1;31mNameError\u001b[0m: name 'num' is not defined"
     ]
    }
   ],
   "source": [
    "print('My number is: {}, and my name is: {}'.format(num,name))"
   ]
  },
  {
   "cell_type": "code",
   "execution_count": 49,
   "metadata": {
    "ExecuteTime": {
     "end_time": "2023-09-06T17:16:10.669680Z",
     "start_time": "2023-09-06T17:16:10.652692Z"
    }
   },
   "outputs": [
    {
     "data": {
      "text/plain": [
       "'Nuno Is Learning'"
      ]
     },
     "execution_count": 49,
     "metadata": {},
     "output_type": "execute_result"
    }
   ],
   "source": [
    "string=\"Nuno Is Learning\"\n",
    "string"
   ]
  },
  {
   "cell_type": "code",
   "execution_count": 50,
   "metadata": {
    "ExecuteTime": {
     "end_time": "2023-09-06T17:16:11.207833Z",
     "start_time": "2023-09-06T17:16:11.195830Z"
    }
   },
   "outputs": [
    {
     "name": "stdout",
     "output_type": "stream",
     "text": [
      "Rita Is Learning\n"
     ]
    }
   ],
   "source": [
    "string=string.replace(\"Nuno\",\"Rita\")\n",
    "print(string)"
   ]
  },
  {
   "cell_type": "code",
   "execution_count": 51,
   "metadata": {
    "ExecuteTime": {
     "end_time": "2023-09-06T17:16:11.857365Z",
     "start_time": "2023-09-06T17:16:11.842524Z"
    }
   },
   "outputs": [
    {
     "data": {
      "text/plain": [
       "['Rita', 'Is', 'Learning']"
      ]
     },
     "execution_count": 51,
     "metadata": {},
     "output_type": "execute_result"
    }
   ],
   "source": [
    "string.split()"
   ]
  },
  {
   "cell_type": "code",
   "execution_count": 52,
   "metadata": {
    "ExecuteTime": {
     "end_time": "2023-09-06T17:16:12.244473Z",
     "start_time": "2023-09-06T17:16:12.227473Z"
    }
   },
   "outputs": [
    {
     "data": {
      "text/plain": [
       "2"
      ]
     },
     "execution_count": 52,
     "metadata": {},
     "output_type": "execute_result"
    }
   ],
   "source": [
    "string.count('n')"
   ]
  },
  {
   "cell_type": "code",
   "execution_count": 53,
   "metadata": {
    "ExecuteTime": {
     "end_time": "2023-09-06T17:16:12.464802Z",
     "start_time": "2023-09-06T17:16:12.449804Z"
    }
   },
   "outputs": [
    {
     "data": {
      "text/plain": [
       "5"
      ]
     },
     "execution_count": 53,
     "metadata": {},
     "output_type": "execute_result"
    }
   ],
   "source": [
    "string.find('I')"
   ]
  },
  {
   "cell_type": "markdown",
   "metadata": {},
   "source": [
    " ## Listas, Dicionários, Grupos, Conjuntos\n",
    " \n",
    "Lists, Dictionaries, Tuples, Sets\n",
    "\n"
   ]
  },
  {
   "cell_type": "markdown",
   "metadata": {},
   "source": [
    "### Lists - Listas\n",
    "\n",
    "* listas - uma coleção de objectos de tipos arbitrários, sem comprimento fixo\n",
    "* podem conter elementos heterogéneos\n",
    "* são **mutáveis**\n",
    "* **definem-se entre [ ]**\n",
    "* os elementos são ordenados e indexados por números inteiros\n",
    "* o índice (index) de uma lista começa sempre em 0 (**zero**) \n",
    "* Operações com listas\n",
    "    - inverter a ordem dos elementos na lista ``reverse``\n",
    "    - converter lower/uppercase para upper/lowercase ``lower, upper``\n",
    "    - adicionar novos elementos a uma lista ``append``\n",
    "    - mudar ou remover elementos de uma lista\n",
    "    - inexing and slicing\n",
    "    - ``len, sort, insert, remove, del, extend``"
   ]
  },
  {
   "cell_type": "code",
   "execution_count": 54,
   "metadata": {
    "ExecuteTime": {
     "end_time": "2023-09-06T17:16:14.659297Z",
     "start_time": "2023-09-06T17:16:14.643291Z"
    }
   },
   "outputs": [
    {
     "data": {
      "text/plain": [
       "[1, 2, 3]"
      ]
     },
     "execution_count": 54,
     "metadata": {},
     "output_type": "execute_result"
    }
   ],
   "source": [
    "# lista só de números inteiros\n",
    "[1,2,3]"
   ]
  },
  {
   "cell_type": "code",
   "execution_count": 55,
   "metadata": {
    "ExecuteTime": {
     "end_time": "2023-09-06T17:16:15.214621Z",
     "start_time": "2023-09-06T17:16:15.202630Z"
    }
   },
   "outputs": [
    {
     "data": {
      "text/plain": [
       "['mestrado', 1, [1, 2]]"
      ]
     },
     "execution_count": 55,
     "metadata": {},
     "output_type": "execute_result"
    }
   ],
   "source": [
    "# lista de elementos heterogéneos (strings, numbers and arrays) (seguências, números e vectores)\n",
    "['mestrado',1,[1,2]]"
   ]
  },
  {
   "cell_type": "code",
   "execution_count": 56,
   "metadata": {
    "ExecuteTime": {
     "end_time": "2023-09-06T17:16:15.742249Z",
     "start_time": "2023-09-06T17:16:15.731250Z"
    }
   },
   "outputs": [
    {
     "data": {
      "text/plain": [
       "[]"
      ]
     },
     "execution_count": 56,
     "metadata": {},
     "output_type": "execute_result"
    }
   ],
   "source": [
    "# definir uma lista vazia\n",
    "lista_vazia =[]\n",
    "lista_vazia"
   ]
  },
  {
   "cell_type": "code",
   "execution_count": 57,
   "metadata": {
    "ExecuteTime": {
     "end_time": "2023-09-06T17:16:16.285883Z",
     "start_time": "2023-09-06T17:16:16.266884Z"
    }
   },
   "outputs": [],
   "source": [
    "# associar um nome a lista\n",
    "my_list = ['a','b','c']"
   ]
  },
  {
   "cell_type": "code",
   "execution_count": 58,
   "metadata": {
    "ExecuteTime": {
     "end_time": "2023-09-06T17:16:16.765088Z",
     "start_time": "2023-09-06T17:16:16.755053Z"
    }
   },
   "outputs": [
    {
     "name": "stdout",
     "output_type": "stream",
     "text": [
      "['a', 'b', 'c']\n"
     ]
    }
   ],
   "source": [
    "print(my_list)"
   ]
  },
  {
   "cell_type": "code",
   "execution_count": 59,
   "metadata": {
    "ExecuteTime": {
     "end_time": "2023-09-06T17:16:17.058978Z",
     "start_time": "2023-09-06T17:16:17.050946Z"
    }
   },
   "outputs": [],
   "source": [
    "# adicionar o elemento 'd' na lista (no final) usando a função 'append'\n",
    "my_list.append('d')"
   ]
  },
  {
   "cell_type": "code",
   "execution_count": 60,
   "metadata": {
    "ExecuteTime": {
     "end_time": "2023-09-06T17:16:17.290710Z",
     "start_time": "2023-09-06T17:16:17.277707Z"
    }
   },
   "outputs": [
    {
     "name": "stdout",
     "output_type": "stream",
     "text": [
      "['a', 'b', 'c', 'd']\n"
     ]
    }
   ],
   "source": [
    "print(my_list)"
   ]
  },
  {
   "cell_type": "code",
   "execution_count": 61,
   "metadata": {
    "ExecuteTime": {
     "end_time": "2023-09-06T17:16:17.617184Z",
     "start_time": "2023-09-06T17:16:17.603183Z"
    }
   },
   "outputs": [
    {
     "data": {
      "text/plain": [
       "'a'"
      ]
     },
     "execution_count": 61,
     "metadata": {},
     "output_type": "execute_result"
    }
   ],
   "source": [
    "# acessar elemento(s) da lista usando o seu índice (index)\n",
    "# neste caso vai ser escolhido o primeiro elemento da lista (que tem índice 0 -zero)\n",
    "my_list[0]"
   ]
  },
  {
   "cell_type": "code",
   "execution_count": 62,
   "metadata": {
    "ExecuteTime": {
     "end_time": "2023-09-06T17:16:18.238908Z",
     "start_time": "2023-09-06T17:16:18.218904Z"
    }
   },
   "outputs": [
    {
     "data": {
      "text/plain": [
       "'b'"
      ]
     },
     "execution_count": 62,
     "metadata": {},
     "output_type": "execute_result"
    }
   ],
   "source": [
    "# o segundo elemento da lista, que tem indíce 1, ou seja\n",
    "my_list[1]"
   ]
  },
  {
   "cell_type": "code",
   "execution_count": 63,
   "metadata": {
    "ExecuteTime": {
     "end_time": "2023-09-06T17:16:18.875998Z",
     "start_time": "2023-09-06T17:16:18.858960Z"
    }
   },
   "outputs": [
    {
     "data": {
      "text/plain": [
       "['b', 'c', 'd']"
      ]
     },
     "execution_count": 63,
     "metadata": {},
     "output_type": "execute_result"
    }
   ],
   "source": [
    "# listar a partir do elemento 1 da lista (incluíndo o elemento da posição/index 1)\n",
    "my_list[1:]"
   ]
  },
  {
   "cell_type": "code",
   "execution_count": 64,
   "metadata": {
    "ExecuteTime": {
     "end_time": "2023-09-06T17:16:22.283415Z",
     "start_time": "2023-09-06T17:16:22.274390Z"
    }
   },
   "outputs": [
    {
     "data": {
      "text/plain": [
       "['d']"
      ]
     },
     "execution_count": 64,
     "metadata": {},
     "output_type": "execute_result"
    }
   ],
   "source": [
    "# listar a partir do elemento 3\n",
    "my_list[3:]"
   ]
  },
  {
   "cell_type": "code",
   "execution_count": 65,
   "metadata": {
    "ExecuteTime": {
     "end_time": "2023-09-06T17:16:22.808512Z",
     "start_time": "2023-09-06T17:16:22.795885Z"
    }
   },
   "outputs": [
    {
     "data": {
      "text/plain": [
       "['a', 'b']"
      ]
     },
     "execution_count": 65,
     "metadata": {},
     "output_type": "execute_result"
    }
   ],
   "source": [
    "# listar todos os elementos situado antes do elemento 2 da lista (excluíndo o elemento de índice 2)\n",
    "my_list[:2]"
   ]
  },
  {
   "cell_type": "code",
   "execution_count": 66,
   "metadata": {
    "ExecuteTime": {
     "end_time": "2023-09-06T17:16:23.553848Z",
     "start_time": "2023-09-06T17:16:23.538845Z"
    }
   },
   "outputs": [
    {
     "name": "stdout",
     "output_type": "stream",
     "text": [
      "['a', 'b', 'c', 'd', 'a', 'b', 'c', 'd', 'a', 'b', 'c', 'd', 'a', 'b', 'c', 'd', 'a', 'b', 'c', 'd', 'a', 'b', 'c', 'd', 'a', 'b', 'c', 'd', 'a', 'b', 'c', 'd', 'a', 'b', 'c', 'd', 'a', 'b', 'c', 'd', 'a', 'b', 'c', 'd', 'a', 'b', 'c', 'd', 'a', 'b', 'c', 'd', 'a', 'b', 'c', 'd', 'a', 'b', 'c', 'd', 'a', 'b', 'c', 'd', 'a', 'b', 'c', 'd', 'a', 'b', 'c', 'd', 'a', 'b', 'c', 'd', 'a', 'b', 'c', 'd', 'a', 'b', 'c', 'd', 'a', 'b', 'c', 'd', 'a', 'b', 'c', 'd', 'a', 'b', 'c', 'd', 'a', 'b', 'c', 'd', 'a', 'b', 'c', 'd', 'a', 'b', 'c', 'd', 'a', 'b', 'c', 'd', 'a', 'b', 'c', 'd', 'a', 'b', 'c', 'd']\n"
     ]
    }
   ],
   "source": [
    "# repetir a lista 30 vezes e formar uma nova lista com o nome 'my_new_list'\n",
    "my_new_list=my_list * 30\n",
    "print(my_new_list)"
   ]
  },
  {
   "cell_type": "code",
   "execution_count": 67,
   "metadata": {
    "ExecuteTime": {
     "end_time": "2023-09-06T17:16:26.904581Z",
     "start_time": "2023-09-06T17:16:26.890579Z"
    }
   },
   "outputs": [],
   "source": [
    "list2=[2, 100, \"hello\", 1.0, 'data_science']"
   ]
  },
  {
   "cell_type": "code",
   "execution_count": 68,
   "metadata": {
    "ExecuteTime": {
     "end_time": "2023-09-06T17:16:27.550152Z",
     "start_time": "2023-09-06T17:16:27.531159Z"
    }
   },
   "outputs": [
    {
     "name": "stdout",
     "output_type": "stream",
     "text": [
      "[2, 100, 'hello', 1.0, 'data_science']\n"
     ]
    }
   ],
   "source": [
    "print(list2)"
   ]
  },
  {
   "cell_type": "code",
   "execution_count": 69,
   "metadata": {
    "ExecuteTime": {
     "end_time": "2023-09-06T17:16:28.125706Z",
     "start_time": "2023-09-06T17:16:28.106674Z"
    }
   },
   "outputs": [
    {
     "data": {
      "text/plain": [
       "'data_science'"
      ]
     },
     "execution_count": 69,
     "metadata": {},
     "output_type": "execute_result"
    }
   ],
   "source": [
    "list2[4]"
   ]
  },
  {
   "cell_type": "code",
   "execution_count": 70,
   "metadata": {
    "ExecuteTime": {
     "end_time": "2023-09-06T17:16:30.940431Z",
     "start_time": "2023-09-06T17:16:30.930432Z"
    }
   },
   "outputs": [
    {
     "name": "stdout",
     "output_type": "stream",
     "text": [
      "n\n",
      "o\n"
     ]
    }
   ],
   "source": [
    "# indicar elementos da seguência começando do fim da seguência (usar -1,-2,-3...)\n",
    "\n",
    "language = 'Python'\n",
    "last_letter = language[-1]\n",
    "print(last_letter) # n\n",
    "second_last = language[-2]\n",
    "print(second_last) # o"
   ]
  },
  {
   "cell_type": "code",
   "execution_count": 71,
   "metadata": {
    "ExecuteTime": {
     "end_time": "2023-09-06T17:16:31.542768Z",
     "start_time": "2023-09-06T17:16:31.522742Z"
    }
   },
   "outputs": [
    {
     "name": "stdout",
     "output_type": "stream",
     "text": [
      "hon\n",
      "hon\n",
      "hon\n"
     ]
    }
   ],
   "source": [
    "# Slicing / troços de seguências\n",
    "\n",
    "language = 'Python'\n",
    "first_three = language[0:3] # starts at zero index and up to 3 but not include 3\n",
    "last_three = language[3:6]\n",
    "print(last_three) # hon\n",
    "# Another way\n",
    "last_three = language[-3:]\n",
    "print(last_three)   # hon\n",
    "last_three = language[3:]\n",
    "print(last_three)   # hon"
   ]
  },
  {
   "cell_type": "markdown",
   "metadata": {},
   "source": [
    "##############################################################################################\n",
    "\n",
    "- Definir os indices na palavra 'Python'\n",
    "\n",
    "|P|y|t|h|o|n|\n",
    "|:---:|:---:|:---:|:---:|:---:|:---:|\n",
    "|0|1|2|3|4|5|\n",
    "|-6|-5|-4|-3|-2|-1|\n",
    "\n",
    "- Para um objeto com `n` entradas (6 letras no caso da palavra Python)\n",
    "    - Indexação começa em `0` (sentido **forward**) e acaba em `(n-1)`\n",
    "    - Indexação começa em `-n` (sentido **backward**) e acaba em `-1`\n"
   ]
  },
  {
   "cell_type": "code",
   "execution_count": 72,
   "metadata": {
    "ExecuteTime": {
     "end_time": "2023-09-06T17:16:33.739952Z",
     "start_time": "2023-09-06T17:16:33.722927Z"
    },
    "code_folding": [],
    "run_control": {
     "marked": true
    }
   },
   "outputs": [
    {
     "data": {
      "text/plain": [
       "['ana', 'pedro', 'rui', 'luisa', 'nuno']"
      ]
     },
     "execution_count": 72,
     "metadata": {},
     "output_type": "execute_result"
    }
   ],
   "source": [
    "# mudar/adicionar um elemento na lista\n",
    "familia=['ana','pedro','rui','nuno']\n",
    "familia[2:3]=['rui','luisa']    # adicionar elemento na lista\n",
    "familia"
   ]
  },
  {
   "cell_type": "code",
   "execution_count": 73,
   "metadata": {
    "ExecuteTime": {
     "end_time": "2023-09-06T17:16:34.279280Z",
     "start_time": "2023-09-06T17:16:34.259280Z"
    }
   },
   "outputs": [
    {
     "data": {
      "text/plain": [
       "['ana', 'pedro', 'miguel', 'alex']"
      ]
     },
     "execution_count": 73,
     "metadata": {},
     "output_type": "execute_result"
    }
   ],
   "source": [
    "# mudar/adicionar um elemnto na lista\n",
    "familia=['ana','pedro','rui','nuno']\n",
    "familia[2:4]=['miguel','alex']    # mudar elemento na lista\n",
    "familia"
   ]
  },
  {
   "cell_type": "code",
   "execution_count": 74,
   "metadata": {
    "ExecuteTime": {
     "end_time": "2023-09-06T17:16:34.992399Z",
     "start_time": "2023-09-06T17:16:34.978373Z"
    }
   },
   "outputs": [
    {
     "data": {
      "text/plain": [
       "['ana', 'pedro', 'alex']"
      ]
     },
     "execution_count": 74,
     "metadata": {},
     "output_type": "execute_result"
    }
   ],
   "source": [
    "# remover elemento da lista usando a função 'del'\n",
    "del(familia[2])\n",
    "familia"
   ]
  },
  {
   "cell_type": "code",
   "execution_count": 75,
   "metadata": {
    "ExecuteTime": {
     "end_time": "2023-09-06T17:16:37.542092Z",
     "start_time": "2023-09-06T17:16:37.522091Z"
    }
   },
   "outputs": [
    {
     "data": {
      "text/plain": [
       "['ana', 'pedro', 'alex', 'dog', 'cat']"
      ]
     },
     "execution_count": 75,
     "metadata": {},
     "output_type": "execute_result"
    }
   ],
   "source": [
    "# adicionar 2 listas\n",
    "new_fam=familia+['dog','cat']\n",
    "new_fam"
   ]
  },
  {
   "cell_type": "code",
   "execution_count": 80,
   "metadata": {
    "ExecuteTime": {
     "end_time": "2023-09-06T17:51:33.770014Z",
     "start_time": "2023-09-06T17:51:33.746002Z"
    }
   },
   "outputs": [
    {
     "data": {
      "text/plain": [
       "[1, 2, 3, 4, 3, 6, 9, 1]"
      ]
     },
     "execution_count": 80,
     "metadata": {},
     "output_type": "execute_result"
    }
   ],
   "source": [
    "# juntar a lista x os elementos da lista y\n",
    "x=[1,2,3,4]\n",
    "y=[3,6,9,1]\n",
    "x.extend(y)\n",
    "x"
   ]
  },
  {
   "cell_type": "code",
   "execution_count": 82,
   "metadata": {
    "ExecuteTime": {
     "end_time": "2023-09-06T17:53:05.817844Z",
     "start_time": "2023-09-06T17:53:05.781842Z"
    }
   },
   "outputs": [
    {
     "data": {
      "text/plain": [
       "[1, 2, 10, 10, 3, 4, 3, 6, 9, 1]"
      ]
     },
     "execution_count": 82,
     "metadata": {},
     "output_type": "execute_result"
    }
   ],
   "source": [
    "# na lista x na posição/indice 2 vai ser inserido um novo elemento - valor 10\n",
    "# função 'insert'\n",
    "x.insert(2,10) \n",
    "\n",
    "# insert(index no, item to be inserted)\n",
    "x"
   ]
  },
  {
   "cell_type": "code",
   "execution_count": 85,
   "metadata": {
    "ExecuteTime": {
     "end_time": "2023-09-06T17:55:31.234961Z",
     "start_time": "2023-09-06T17:55:31.214957Z"
    }
   },
   "outputs": [
    {
     "data": {
      "text/plain": [
       "['apple', 'banana', 'cherry']"
      ]
     },
     "execution_count": 85,
     "metadata": {},
     "output_type": "execute_result"
    }
   ],
   "source": [
    "fruits = ['apple', 'banana', 'cherry']\n",
    "fruits"
   ]
  },
  {
   "cell_type": "code",
   "execution_count": 88,
   "metadata": {
    "ExecuteTime": {
     "end_time": "2023-09-06T17:55:53.415568Z",
     "start_time": "2023-09-06T17:55:53.394563Z"
    }
   },
   "outputs": [
    {
     "data": {
      "text/plain": [
       "['apple', 'banana', 'cherry', 'orange', 'orange', 'orange']"
      ]
     },
     "execution_count": 88,
     "metadata": {},
     "output_type": "execute_result"
    }
   ],
   "source": [
    "fruits.append(\"orange\")\n",
    "fruits"
   ]
  },
  {
   "cell_type": "code",
   "execution_count": 78,
   "metadata": {
    "ExecuteTime": {
     "end_time": "2023-09-06T17:45:41.557643Z",
     "start_time": "2023-09-06T17:45:41.530123Z"
    }
   },
   "outputs": [
    {
     "data": {
      "text/plain": [
       "[1, 2, 3, 4, 3, 6, 9, 1]"
      ]
     },
     "execution_count": 78,
     "metadata": {},
     "output_type": "execute_result"
    }
   ],
   "source": [
    "# remover da lista o elemento de indice 2 \n",
    "# função 'pop'\n",
    "x.pop(2) \n",
    "x"
   ]
  },
  {
   "cell_type": "code",
   "execution_count": 95,
   "metadata": {
    "ExecuteTime": {
     "end_time": "2023-09-06T18:00:37.262086Z",
     "start_time": "2023-09-06T18:00:37.254086Z"
    }
   },
   "outputs": [],
   "source": [
    "x=[1,2,3,3,3,4,3]"
   ]
  },
  {
   "cell_type": "code",
   "execution_count": 100,
   "metadata": {
    "ExecuteTime": {
     "end_time": "2023-09-06T18:01:02.038482Z",
     "start_time": "2023-09-06T18:01:02.026472Z"
    }
   },
   "outputs": [
    {
     "data": {
      "text/plain": [
       "[4, 2, 1]"
      ]
     },
     "execution_count": 100,
     "metadata": {},
     "output_type": "execute_result"
    }
   ],
   "source": [
    "# remover todos as entradas com valor igual a 3 da lista\n",
    "x.remove(3) \n",
    "x"
   ]
  },
  {
   "cell_type": "code",
   "execution_count": 101,
   "metadata": {
    "ExecuteTime": {
     "end_time": "2023-09-06T18:01:10.330787Z",
     "start_time": "2023-09-06T18:01:10.311787Z"
    }
   },
   "outputs": [
    {
     "data": {
      "text/plain": [
       "[1, 2, 4]"
      ]
     },
     "execution_count": 101,
     "metadata": {},
     "output_type": "execute_result"
    }
   ],
   "source": [
    "# inverter a ordem dos elementos da lista\n",
    "x.reverse()\n",
    "x"
   ]
  },
  {
   "cell_type": "code",
   "execution_count": 90,
   "metadata": {
    "ExecuteTime": {
     "end_time": "2023-09-06T17:57:17.441291Z",
     "start_time": "2023-09-06T17:57:17.421277Z"
    }
   },
   "outputs": [
    {
     "data": {
      "text/plain": [
       "[1, 2, 3]"
      ]
     },
     "execution_count": 90,
     "metadata": {},
     "output_type": "execute_result"
    }
   ],
   "source": [
    "x1=[1,2,3]\n",
    "x1"
   ]
  },
  {
   "cell_type": "code",
   "execution_count": 91,
   "metadata": {
    "ExecuteTime": {
     "end_time": "2023-09-06T17:57:35.113418Z",
     "start_time": "2023-09-06T17:57:35.095389Z"
    }
   },
   "outputs": [
    {
     "data": {
      "text/plain": [
       "[3, 2, 1]"
      ]
     },
     "execution_count": 91,
     "metadata": {},
     "output_type": "execute_result"
    }
   ],
   "source": [
    "x1.reverse()\n",
    "x1"
   ]
  },
  {
   "cell_type": "code",
   "execution_count": 107,
   "metadata": {
    "ExecuteTime": {
     "end_time": "2023-09-06T18:06:13.723294Z",
     "start_time": "2023-09-06T18:06:13.702276Z"
    }
   },
   "outputs": [
    {
     "data": {
      "text/plain": [
       "[1, 2, 4]"
      ]
     },
     "execution_count": 107,
     "metadata": {},
     "output_type": "execute_result"
    }
   ],
   "source": [
    "# ordenar os elementos da lista (do menor ao maior, ou na ordem alfabética)\n",
    "x.sort()\n",
    "x"
   ]
  },
  {
   "cell_type": "code",
   "execution_count": 108,
   "metadata": {
    "ExecuteTime": {
     "end_time": "2023-09-06T18:06:28.354412Z",
     "start_time": "2023-09-06T18:06:28.339414Z"
    }
   },
   "outputs": [
    {
     "data": {
      "text/plain": [
       "[0, 1, 4, 9, 16, 25, 36, 49, 64, 81]"
      ]
     },
     "execution_count": 108,
     "metadata": {},
     "output_type": "execute_result"
    }
   ],
   "source": [
    "# construir uma lista com base numa função\n",
    "list1=[x**2 for x in range(10)]\n",
    "list1"
   ]
  },
  {
   "cell_type": "code",
   "execution_count": 109,
   "metadata": {
    "ExecuteTime": {
     "end_time": "2023-09-06T18:06:29.389429Z",
     "start_time": "2023-09-06T18:06:29.378437Z"
    }
   },
   "outputs": [
    {
     "data": {
      "text/plain": [
       "[1, 2, 4]"
      ]
     },
     "execution_count": 109,
     "metadata": {},
     "output_type": "execute_result"
    }
   ],
   "source": [
    "x"
   ]
  },
  {
   "cell_type": "code",
   "execution_count": 110,
   "metadata": {
    "ExecuteTime": {
     "end_time": "2023-09-06T18:08:04.904073Z",
     "start_time": "2023-09-06T18:08:04.892075Z"
    }
   },
   "outputs": [
    {
     "data": {
      "text/plain": [
       "[1, 9, 25, 49, 81]"
      ]
     },
     "execution_count": 110,
     "metadata": {},
     "output_type": "execute_result"
    }
   ],
   "source": [
    "x15=[x ** 2 for x in range(1, 11) if x % 2 == 1]\n",
    "x15"
   ]
  },
  {
   "cell_type": "code",
   "execution_count": 111,
   "metadata": {
    "ExecuteTime": {
     "end_time": "2023-09-06T18:10:49.111316Z",
     "start_time": "2023-09-06T18:10:49.090743Z"
    }
   },
   "outputs": [
    {
     "data": {
      "text/plain": [
       "2"
      ]
     },
     "execution_count": 111,
     "metadata": {},
     "output_type": "execute_result"
    }
   ],
   "source": [
    "cc=[2,3]\n",
    "cc[0]"
   ]
  },
  {
   "cell_type": "code",
   "execution_count": 113,
   "metadata": {
    "ExecuteTime": {
     "end_time": "2023-09-06T18:13:37.080675Z",
     "start_time": "2023-09-06T18:13:37.070676Z"
    }
   },
   "outputs": [
    {
     "name": "stdout",
     "output_type": "stream",
     "text": [
      "first coordinate: [88.0, 1.1]\n",
      "second element of first coordinate: 0.6\n"
     ]
    }
   ],
   "source": [
    "coordinates = [[12.0, 13.3], [0.6, 18.0], [88.0, 1.1]]  # lista de dimensão dois\n",
    "print('first coordinate: {}'.format(coordinates[2]))\n",
    "print('second element of first coordinate: {}'.format(coordinates[1][0]))"
   ]
  },
  {
   "cell_type": "markdown",
   "metadata": {},
   "source": [
    "### Dicionários\n",
    "\n",
    "- Os dicionários são definidos por pares de valores.\n",
    "- Cada par consiste numa chave e o elemento associado (portanto os indices são as chaves), ``par=(key:value) = (chave: elemento)``. \n",
    "- São estruturas *mutáveis* (podemos alterar /modificar). \n",
    "- Os elementos não são ordenados.\n",
    "- Representa-se usando ``{ }``\n",
    "- Algumas funções importantes para manipular dicionários: ``clear, copy, items, keys, values``\n"
   ]
  },
  {
   "cell_type": "code",
   "execution_count": 114,
   "metadata": {
    "ExecuteTime": {
     "end_time": "2023-09-06T18:17:18.950422Z",
     "start_time": "2023-09-06T18:17:18.941420Z"
    }
   },
   "outputs": [],
   "source": [
    "# exemplo de dicionário (2 chaves e 2 valores)\n",
    "d = {'key1':'entry1','key2':'entry2'}\n"
   ]
  },
  {
   "cell_type": "code",
   "execution_count": 115,
   "metadata": {
    "ExecuteTime": {
     "end_time": "2023-09-06T18:17:20.284741Z",
     "start_time": "2023-09-06T18:17:20.278740Z"
    }
   },
   "outputs": [
    {
     "name": "stdout",
     "output_type": "stream",
     "text": [
      "{'key1': 'entry1', 'key2': 'entry2'}\n"
     ]
    }
   ],
   "source": [
    "print(d)"
   ]
  },
  {
   "cell_type": "code",
   "execution_count": 116,
   "metadata": {
    "ExecuteTime": {
     "end_time": "2023-09-06T18:17:42.228528Z",
     "start_time": "2023-09-06T18:17:42.218529Z"
    }
   },
   "outputs": [
    {
     "data": {
      "text/plain": [
       "'entry2'"
      ]
     },
     "execution_count": 116,
     "metadata": {},
     "output_type": "execute_result"
    }
   ],
   "source": [
    "d['key2']"
   ]
  },
  {
   "cell_type": "code",
   "execution_count": 117,
   "metadata": {
    "ExecuteTime": {
     "end_time": "2023-09-06T18:18:22.395390Z",
     "start_time": "2023-09-06T18:18:22.368646Z"
    }
   },
   "outputs": [
    {
     "name": "stdout",
     "output_type": "stream",
     "text": [
      "dict_keys(['key1', 'key2'])\n"
     ]
    }
   ],
   "source": [
    "print(d.keys())"
   ]
  },
  {
   "cell_type": "code",
   "execution_count": 118,
   "metadata": {
    "ExecuteTime": {
     "end_time": "2023-09-06T18:21:49.526707Z",
     "start_time": "2023-09-06T18:21:49.516676Z"
    }
   },
   "outputs": [],
   "source": [
    "# definimos um dicionário com 7 pares (key:value)\n",
    "person_1 = {\n",
    "    'first_name':'Ana',\n",
    "    'last_name':'Silva',\n",
    "    'age':25,\n",
    "    'country':'portugal',\n",
    "    'is_marred':True,\n",
    "    'skills':['JavaScript', 'R', 'Julia', 'MongoDB', 'Python'],\n",
    "    'address':{\n",
    "        'street':'ISCTE',\n",
    "        'zipcode':'1600'\n",
    "    }\n",
    "}"
   ]
  },
  {
   "cell_type": "code",
   "execution_count": 119,
   "metadata": {
    "ExecuteTime": {
     "end_time": "2023-09-06T18:22:00.374562Z",
     "start_time": "2023-09-06T18:22:00.363561Z"
    }
   },
   "outputs": [
    {
     "name": "stdout",
     "output_type": "stream",
     "text": [
      "{'first_name': 'Ana', 'last_name': 'Silva', 'age': 25, 'country': 'portugal', 'is_marred': True, 'skills': ['JavaScript', 'R', 'Julia', 'MongoDB', 'Python'], 'address': {'street': 'ISCTE', 'zipcode': '1600'}}\n"
     ]
    }
   ],
   "source": [
    "print(person_1)"
   ]
  },
  {
   "cell_type": "code",
   "execution_count": 120,
   "metadata": {
    "ExecuteTime": {
     "end_time": "2023-09-06T18:22:16.008705Z",
     "start_time": "2023-09-06T18:22:15.995703Z"
    }
   },
   "outputs": [
    {
     "name": "stdout",
     "output_type": "stream",
     "text": [
      "7\n"
     ]
    }
   ],
   "source": [
    "print(len(person_1))"
   ]
  },
  {
   "cell_type": "code",
   "execution_count": 121,
   "metadata": {
    "ExecuteTime": {
     "end_time": "2023-09-06T18:24:31.338068Z",
     "start_time": "2023-09-06T18:24:31.331061Z"
    }
   },
   "outputs": [
    {
     "name": "stdout",
     "output_type": "stream",
     "text": [
      "['JavaScript', 'R', 'Julia', 'MongoDB', 'Python']\n",
      "JavaScript\n"
     ]
    }
   ],
   "source": [
    "# isolar elementos do dicionário\n",
    "print(person_1['skills'])    \n",
    "print(person_1['skills'][0])  "
   ]
  },
  {
   "cell_type": "code",
   "execution_count": 122,
   "metadata": {
    "ExecuteTime": {
     "end_time": "2023-09-06T18:30:21.845803Z",
     "start_time": "2023-09-06T18:30:21.838805Z"
    }
   },
   "outputs": [
    {
     "name": "stdout",
     "output_type": "stream",
     "text": [
      "{'first_name': 'Ana', 'last_name': 'Silva', 'age': 25, 'country': 'portugal', 'is_marred': True, 'skills': ['JavaScript', 'R', 'Julia', 'MongoDB', 'Python', 'HTML'], 'address': {'street': 'ISCTE', 'zipcode': '1600'}}\n"
     ]
    }
   ],
   "source": [
    "# acrescentar elementos no dicionário\n",
    "person_1['skills'].append('HTML')\n",
    "print(person_1)"
   ]
  },
  {
   "cell_type": "code",
   "execution_count": 123,
   "metadata": {
    "ExecuteTime": {
     "end_time": "2023-09-06T18:30:41.421174Z",
     "start_time": "2023-09-06T18:30:41.410173Z"
    }
   },
   "outputs": [
    {
     "name": "stdout",
     "output_type": "stream",
     "text": [
      "dict_items([('first_name', 'Ana'), ('last_name', 'Silva'), ('age', 25), ('country', 'portugal'), ('is_marred', True), ('skills', ['JavaScript', 'R', 'Julia', 'MongoDB', 'Python', 'HTML']), ('address', {'street': 'ISCTE', 'zipcode': '1600'})])\n"
     ]
    }
   ],
   "source": [
    "# Mudar um dicionário para uma lista de itens\n",
    "print(person_1.items())"
   ]
  },
  {
   "cell_type": "code",
   "execution_count": 124,
   "metadata": {
    "ExecuteTime": {
     "end_time": "2023-09-06T18:31:48.461239Z",
     "start_time": "2023-09-06T18:31:48.443244Z"
    }
   },
   "outputs": [
    {
     "name": "stdout",
     "output_type": "stream",
     "text": [
      "dict_keys(['first_name', 'last_name', 'age', 'country', 'is_marred', 'skills', 'address'])\n"
     ]
    }
   ],
   "source": [
    "# print apenas as chaves (keys)\n",
    "print(person_1.keys())"
   ]
  },
  {
   "cell_type": "code",
   "execution_count": 125,
   "metadata": {
    "ExecuteTime": {
     "end_time": "2023-09-06T18:32:10.294508Z",
     "start_time": "2023-09-06T18:32:10.284503Z"
    }
   },
   "outputs": [
    {
     "name": "stdout",
     "output_type": "stream",
     "text": [
      "dict_values(['Ana', 'Silva', 25, 'portugal', True, ['JavaScript', 'R', 'Julia', 'MongoDB', 'Python', 'HTML'], {'street': 'ISCTE', 'zipcode': '1600'}])\n"
     ]
    }
   ],
   "source": [
    "# print apenas os valores (values)\n",
    "print(person_1.values())"
   ]
  },
  {
   "cell_type": "markdown",
   "metadata": {},
   "source": [
    "### Tuples\n",
    "\n",
    "- Os **Tuples** (grupos/vetores) são *imutáveis*. Uma vez criados, não podem ser alterados.\n",
    "- Os **Tuples** definem-se entre `( )`, não confundir com as **listas** que se definem entre `[ ]`\n",
    "- Os elementos de um vetor são ordenados\n",
    "- Suportam todas as operações das sequências"
   ]
  },
  {
   "cell_type": "code",
   "execution_count": 126,
   "metadata": {
    "ExecuteTime": {
     "end_time": "2023-09-06T18:33:46.370146Z",
     "start_time": "2023-09-06T18:33:46.358138Z"
    }
   },
   "outputs": [],
   "source": [
    "# definir o tuple com o nome t e de entradas numéros inteiros\n",
    "t = (1,2,3)"
   ]
  },
  {
   "cell_type": "code",
   "execution_count": 127,
   "metadata": {
    "ExecuteTime": {
     "end_time": "2023-09-06T18:33:47.766518Z",
     "start_time": "2023-09-06T18:33:47.756515Z"
    }
   },
   "outputs": [
    {
     "name": "stdout",
     "output_type": "stream",
     "text": [
      "(1, 2, 3)\n"
     ]
    }
   ],
   "source": [
    "print(t)"
   ]
  },
  {
   "cell_type": "code",
   "execution_count": 129,
   "metadata": {
    "ExecuteTime": {
     "end_time": "2023-09-06T18:35:58.714924Z",
     "start_time": "2023-09-06T18:35:58.680923Z"
    }
   },
   "outputs": [
    {
     "data": {
      "text/plain": [
       "1"
      ]
     },
     "execution_count": 129,
     "metadata": {},
     "output_type": "execute_result"
    }
   ],
   "source": [
    "# ver o primeiro elemento do Tuple (tal como nas listas, o primeiro elemento tem índice zero - 0)\n",
    "t[0]"
   ]
  },
  {
   "cell_type": "code",
   "execution_count": 134,
   "metadata": {
    "ExecuteTime": {
     "end_time": "2023-09-06T18:41:12.158966Z",
     "start_time": "2023-09-06T18:41:12.134983Z"
    }
   },
   "outputs": [
    {
     "data": {
      "text/plain": [
       "(2, 5, 7, '4ss', 8)"
      ]
     },
     "execution_count": 134,
     "metadata": {},
     "output_type": "execute_result"
    }
   ],
   "source": [
    "# definir o vetor x\n",
    "x=(2,5,7,'4ss',8)\n",
    "x"
   ]
  },
  {
   "cell_type": "code",
   "execution_count": 131,
   "metadata": {
    "ExecuteTime": {
     "end_time": "2023-09-06T18:36:24.061575Z",
     "start_time": "2023-09-06T18:36:24.011576Z"
    }
   },
   "outputs": [
    {
     "ename": "TypeError",
     "evalue": "'tuple' object does not support item assignment",
     "output_type": "error",
     "traceback": [
      "\u001b[1;31m---------------------------------------------------------------------------\u001b[0m",
      "\u001b[1;31mTypeError\u001b[0m                                 Traceback (most recent call last)",
      "Cell \u001b[1;32mIn[131], line 1\u001b[0m\n\u001b[1;32m----> 1\u001b[0m x[\u001b[38;5;241m1\u001b[39m]\u001b[38;5;241m=\u001b[39m\u001b[38;5;241m10\u001b[39m\n",
      "\u001b[1;31mTypeError\u001b[0m: 'tuple' object does not support item assignment"
     ]
    }
   ],
   "source": [
    "x[1]=10"
   ]
  },
  {
   "cell_type": "code",
   "execution_count": 132,
   "metadata": {
    "ExecuteTime": {
     "end_time": "2023-09-06T18:37:46.059890Z",
     "start_time": "2023-09-06T18:37:46.030907Z"
    }
   },
   "outputs": [
    {
     "data": {
      "text/plain": [
       "(1, 2, [3, 10])"
      ]
     },
     "execution_count": 132,
     "metadata": {},
     "output_type": "execute_result"
    }
   ],
   "source": [
    "# definir o vetor y\n",
    "# tem como entradas 2 números inteiros e uma lista de inteiros\n",
    "y=(1,2,[3,10])\n",
    "y"
   ]
  },
  {
   "cell_type": "code",
   "execution_count": 133,
   "metadata": {
    "ExecuteTime": {
     "end_time": "2023-09-06T18:39:34.614166Z",
     "start_time": "2023-09-06T18:39:34.604161Z"
    }
   },
   "outputs": [
    {
     "data": {
      "text/plain": [
       "(1, 2, [23456, 10])"
      ]
     },
     "execution_count": 133,
     "metadata": {},
     "output_type": "execute_result"
    }
   ],
   "source": [
    "# no vetor y, no elemento de índice 2 (que é uma lista), entrada de indice 0 (da lista) vai ser substituída pelo valor 23456\n",
    "y[2][0]=23456\n",
    "y"
   ]
  },
  {
   "cell_type": "code",
   "execution_count": 135,
   "metadata": {
    "ExecuteTime": {
     "end_time": "2023-09-06T18:42:41.621899Z",
     "start_time": "2023-09-06T18:42:41.587676Z"
    }
   },
   "outputs": [
    {
     "data": {
      "text/plain": [
       "4"
      ]
     },
     "execution_count": 135,
     "metadata": {},
     "output_type": "execute_result"
    }
   ],
   "source": [
    "# contar a frequência do valor 2 no vetor x\n",
    "x=(1,2,3,4,5,6,2,10,2,11,12,2)\n",
    "x.count(2)"
   ]
  },
  {
   "cell_type": "code",
   "execution_count": 138,
   "metadata": {
    "ExecuteTime": {
     "end_time": "2023-09-06T18:44:15.859768Z",
     "start_time": "2023-09-06T18:44:15.840775Z"
    }
   },
   "outputs": [
    {
     "data": {
      "text/plain": [
       "7"
      ]
     },
     "execution_count": 138,
     "metadata": {},
     "output_type": "execute_result"
    }
   ],
   "source": [
    "x.index(10)"
   ]
  },
  {
   "cell_type": "code",
   "execution_count": 139,
   "metadata": {
    "ExecuteTime": {
     "end_time": "2023-09-06T18:45:45.478376Z",
     "start_time": "2023-09-06T18:45:45.459376Z"
    }
   },
   "outputs": [
    {
     "name": "stdout",
     "output_type": "stream",
     "text": [
      "('welcome', 21.223, 'hello world', 70.2)\n",
      "hello world\n"
     ]
    }
   ],
   "source": [
    "mytup = ( 'welcome', 21.223, \"hello world\", 70.2  )\n",
    "print(mytup)\n",
    "print(mytup[2]) ## mostra o terceiro valor do tuple, pois o índice começa em 0"
   ]
  },
  {
   "cell_type": "code",
   "execution_count": 140,
   "metadata": {
    "ExecuteTime": {
     "end_time": "2023-09-06T18:46:10.461065Z",
     "start_time": "2023-09-06T18:46:10.445062Z"
    }
   },
   "outputs": [
    {
     "name": "stdout",
     "output_type": "stream",
     "text": [
      "[5, 8, 35, 40]\n"
     ]
    }
   ],
   "source": [
    "# usar a função pré-definida 'sorted', que ordena o tuple (crescente, alfabeticamente)\n",
    "age = (40,35,8,5)\n",
    "s = sorted(age)\n",
    "print(s)\n"
   ]
  },
  {
   "cell_type": "code",
   "execution_count": 141,
   "metadata": {
    "ExecuteTime": {
     "end_time": "2023-09-06T18:48:03.010426Z",
     "start_time": "2023-09-06T18:48:02.991435Z"
    }
   },
   "outputs": [
    {
     "name": "stdout",
     "output_type": "stream",
     "text": [
      "['apple', 'grapes', 'orange']\n"
     ]
    }
   ],
   "source": [
    "## sortar os elementos\n",
    "fruit = (\"orange\",\"apple\",\"grapes\")\n",
    "f = sorted(fruit)\n",
    "print(f)   ## output is list\n"
   ]
  },
  {
   "cell_type": "code",
   "execution_count": 144,
   "metadata": {
    "ExecuteTime": {
     "end_time": "2023-09-06T18:49:39.807239Z",
     "start_time": "2023-09-06T18:49:39.794636Z"
    }
   },
   "outputs": [
    {
     "name": "stdout",
     "output_type": "stream",
     "text": [
      "('apple', 'grapes', 'orange')\n"
     ]
    }
   ],
   "source": [
    "f1 = sorted(fruit)\n",
    "print(tuple(f1))   # output is tuple"
   ]
  },
  {
   "cell_type": "code",
   "execution_count": 145,
   "metadata": {
    "ExecuteTime": {
     "end_time": "2023-09-06T18:49:46.198515Z",
     "start_time": "2023-09-06T18:49:46.177512Z"
    }
   },
   "outputs": [
    {
     "data": {
      "text/plain": [
       "(4, 5, 66, 9)"
      ]
     },
     "execution_count": 145,
     "metadata": {},
     "output_type": "execute_result"
    }
   ],
   "source": [
    "# definir uma lista x e transformor num vetor (tuple) y\n",
    "x=[4,5,66,9]\n",
    "y=tuple(x)\n",
    "y"
   ]
  },
  {
   "cell_type": "markdown",
   "metadata": {},
   "source": [
    "### Sets - Conjuntos\n",
    "\n",
    "- Os conjuntos são elementos definidos entres `{ }` (não confundir com os dicionários que são pares de valores). \n",
    "- São equivalentes ao conceito matemático de conjunto.\n",
    "- Os elementos de um conjunto são todos distintos, não tem índice e não são ordenados.\n",
    "- Operações possíveis para conjuntos:\n",
    "    - ``add, remove, union, intersection, difference, subset, disjoint set``."
   ]
  },
  {
   "cell_type": "code",
   "execution_count": 146,
   "metadata": {
    "ExecuteTime": {
     "end_time": "2023-09-06T18:51:55.260712Z",
     "start_time": "2023-09-06T18:51:55.241721Z"
    }
   },
   "outputs": [
    {
     "data": {
      "text/plain": [
       "{1, 2, 3}"
      ]
     },
     "execution_count": 146,
     "metadata": {},
     "output_type": "execute_result"
    }
   ],
   "source": [
    "{1,2,3}"
   ]
  },
  {
   "cell_type": "code",
   "execution_count": 147,
   "metadata": {
    "ExecuteTime": {
     "end_time": "2023-09-06T18:52:07.772832Z",
     "start_time": "2023-09-06T18:52:07.756829Z"
    }
   },
   "outputs": [
    {
     "data": {
      "text/plain": [
       "{1, 2, 3}"
      ]
     },
     "execution_count": 147,
     "metadata": {},
     "output_type": "execute_result"
    }
   ],
   "source": [
    "{1,2,3,1,2,1,2,3,3,3,3,2,2,2,1,1,2}"
   ]
  },
  {
   "cell_type": "code",
   "execution_count": null,
   "metadata": {
    "ExecuteTime": {
     "end_time": "2023-09-02T19:55:44.028167Z",
     "start_time": "2023-09-02T19:55:44.014143Z"
    }
   },
   "outputs": [],
   "source": [
    "# como os elementos de um conjunto são distintos (não se podem repetir) autoeliminam-se todas as repetições"
   ]
  },
  {
   "cell_type": "code",
   "execution_count": 148,
   "metadata": {
    "ExecuteTime": {
     "end_time": "2023-09-06T18:53:09.590192Z",
     "start_time": "2023-09-06T18:53:09.565617Z"
    }
   },
   "outputs": [
    {
     "data": {
      "text/plain": [
       "4"
      ]
     },
     "execution_count": 148,
     "metadata": {},
     "output_type": "execute_result"
    }
   ],
   "source": [
    "fruits = {'banana', 'orange', 'mango', 'lemon'}\n",
    "len(fruits)"
   ]
  },
  {
   "cell_type": "code",
   "execution_count": 149,
   "metadata": {
    "ExecuteTime": {
     "end_time": "2023-09-06T18:53:57.023617Z",
     "start_time": "2023-09-06T18:53:57.006586Z"
    }
   },
   "outputs": [
    {
     "name": "stdout",
     "output_type": "stream",
     "text": [
      "{'lemon', 'orange', 'banana', 'mango', 'apple'}\n"
     ]
    }
   ],
   "source": [
    "# adicionar um novo elemento ao conjunto 'fruits'\n",
    "fruits.add('apple')\n",
    "print(fruits)"
   ]
  },
  {
   "cell_type": "code",
   "execution_count": 150,
   "metadata": {
    "ExecuteTime": {
     "end_time": "2023-09-06T18:54:22.745736Z",
     "start_time": "2023-09-06T18:54:22.739584Z"
    }
   },
   "outputs": [
    {
     "name": "stdout",
     "output_type": "stream",
     "text": [
      "{'lemon', 'orange', 'mango', 'apple'}\n"
     ]
    }
   ],
   "source": [
    "# remover um elemento do conjunto\n",
    "fruits.remove('banana')\n",
    "print(fruits)"
   ]
  },
  {
   "cell_type": "code",
   "execution_count": 152,
   "metadata": {
    "ExecuteTime": {
     "end_time": "2023-09-06T18:55:27.170404Z",
     "start_time": "2023-09-06T18:55:27.159392Z"
    }
   },
   "outputs": [
    {
     "name": "stdout",
     "output_type": "stream",
     "text": [
      "{'a4', 'a8', 'a1', 'a7', 'a6', 'a2', 'a3', 'a5'}\n"
     ]
    }
   ],
   "source": [
    "# union - união de dois conjuntos\n",
    "st1 = {'a1', 'a2', 'a3', 'a4'}\n",
    "st2 = {'a5', 'a6', 'a7', 'a8'}\n",
    "st3 = st1.union(st2)\n",
    "print(st3)"
   ]
  },
  {
   "cell_type": "code",
   "execution_count": 153,
   "metadata": {
    "ExecuteTime": {
     "end_time": "2023-09-06T18:56:51.081323Z",
     "start_time": "2023-09-06T18:56:51.065323Z"
    }
   },
   "outputs": [
    {
     "name": "stdout",
     "output_type": "stream",
     "text": [
      "{0, 2, 4, 6, 8, 10}\n"
     ]
    }
   ],
   "source": [
    "# intersection - intersecção de dois conjuntos\n",
    "set1 = {0, 1, 2, 3, 4, 5, 6, 7, 8, 9, 10}   # números inteiros\n",
    "set2 = {0, 2, 4, 6, 8, 10}    # números inteiros pares\n",
    "result=set1.intersection(set2)   # intersecção\n",
    "print(result)"
   ]
  },
  {
   "cell_type": "code",
   "execution_count": 154,
   "metadata": {
    "ExecuteTime": {
     "end_time": "2023-09-06T18:57:56.516659Z",
     "start_time": "2023-09-06T18:57:56.507642Z"
    }
   },
   "outputs": [
    {
     "data": {
      "text/plain": [
       "{'d', 'r'}"
      ]
     },
     "execution_count": 154,
     "metadata": {},
     "output_type": "execute_result"
    }
   ],
   "source": [
    "a = {x for x in 'abracadabra' if x not in 'abc'}\n",
    "a"
   ]
  },
  {
   "cell_type": "code",
   "execution_count": 155,
   "metadata": {
    "ExecuteTime": {
     "end_time": "2023-09-06T18:59:25.760661Z",
     "start_time": "2023-09-06T18:59:25.749662Z"
    }
   },
   "outputs": [
    {
     "data": {
      "text/plain": [
       "{18, 21, 24, 27}"
      ]
     },
     "execution_count": 155,
     "metadata": {},
     "output_type": "execute_result"
    }
   ],
   "source": [
    "x11={3*x for x in range(10) if x>5}\n",
    "x11"
   ]
  },
  {
   "cell_type": "markdown",
   "metadata": {},
   "source": [
    "### Resumo"
   ]
  },
  {
   "cell_type": "code",
   "execution_count": 156,
   "metadata": {
    "ExecuteTime": {
     "end_time": "2023-09-06T19:01:16.928820Z",
     "start_time": "2023-09-06T19:01:16.905813Z"
    }
   },
   "outputs": [],
   "source": [
    "List = ['Milk', 'Bread', 'Eggs', 'Eggs', True, False, {}, (), ['a', 'b', 'c']]\n",
    "Tuples = ('Milk', 'Bread', 'Eggs')\n",
    "Sets = {'Milk', 'Bread', 'Eggs'}\n",
    "Diccionary = {'Milk':'Meio-Gordo','Bread':'Integral', 'Eggs':'Bio'}\n",
    "String = 'Python for Everybody True'"
   ]
  },
  {
   "cell_type": "markdown",
   "metadata": {},
   "source": [
    "##  Operadores de comparação e Booleanos\n",
    "\n",
    "\n",
    "* Operadores de comparação: **<, <=, >, >=, ==, !=** (menor, menor igual, maior, maior iqual, igual, diferente)\n",
    "\n",
    "\n",
    "* Operadores Booleanos : **True, False**  "
   ]
  },
  {
   "cell_type": "code",
   "execution_count": 159,
   "metadata": {
    "ExecuteTime": {
     "end_time": "2023-09-06T19:06:10.887989Z",
     "start_time": "2023-09-06T19:06:10.868988Z"
    }
   },
   "outputs": [
    {
     "data": {
      "text/plain": [
       "False"
      ]
     },
     "execution_count": 159,
     "metadata": {},
     "output_type": "execute_result"
    }
   ],
   "source": [
    "1==2"
   ]
  },
  {
   "cell_type": "code",
   "execution_count": 160,
   "metadata": {
    "ExecuteTime": {
     "end_time": "2023-09-06T19:06:16.783527Z",
     "start_time": "2023-09-06T19:06:16.751243Z"
    }
   },
   "outputs": [
    {
     "data": {
      "text/plain": [
       "True"
      ]
     },
     "execution_count": 160,
     "metadata": {},
     "output_type": "execute_result"
    }
   ],
   "source": [
    "3.14==3.14"
   ]
  },
  {
   "cell_type": "code",
   "execution_count": 161,
   "metadata": {
    "ExecuteTime": {
     "end_time": "2023-09-06T19:06:23.658225Z",
     "start_time": "2023-09-06T19:06:23.648223Z"
    }
   },
   "outputs": [
    {
     "data": {
      "text/plain": [
       "False"
      ]
     },
     "execution_count": 161,
     "metadata": {},
     "output_type": "execute_result"
    }
   ],
   "source": [
    "'data_science'=='ciência_de_dados'"
   ]
  },
  {
   "cell_type": "code",
   "execution_count": 162,
   "metadata": {
    "ExecuteTime": {
     "end_time": "2023-09-06T19:06:36.370320Z",
     "start_time": "2023-09-06T19:06:36.359317Z"
    }
   },
   "outputs": [
    {
     "data": {
      "text/plain": [
       "True"
      ]
     },
     "execution_count": 162,
     "metadata": {},
     "output_type": "execute_result"
    }
   ],
   "source": [
    "1 < 2"
   ]
  },
  {
   "cell_type": "code",
   "execution_count": 163,
   "metadata": {
    "ExecuteTime": {
     "end_time": "2023-09-06T19:06:40.711806Z",
     "start_time": "2023-09-06T19:06:40.700811Z"
    }
   },
   "outputs": [
    {
     "data": {
      "text/plain": [
       "True"
      ]
     },
     "execution_count": 163,
     "metadata": {},
     "output_type": "execute_result"
    }
   ],
   "source": [
    "1 <= 4"
   ]
  },
  {
   "cell_type": "code",
   "execution_count": 164,
   "metadata": {
    "ExecuteTime": {
     "end_time": "2023-09-06T19:06:45.377769Z",
     "start_time": "2023-09-06T19:06:45.360769Z"
    }
   },
   "outputs": [
    {
     "data": {
      "text/plain": [
       "True"
      ]
     },
     "execution_count": 164,
     "metadata": {},
     "output_type": "execute_result"
    }
   ],
   "source": [
    "1 >= 1"
   ]
  },
  {
   "cell_type": "code",
   "execution_count": 165,
   "metadata": {
    "ExecuteTime": {
     "end_time": "2023-09-06T19:06:48.563870Z",
     "start_time": "2023-09-06T19:06:48.547872Z"
    }
   },
   "outputs": [
    {
     "data": {
      "text/plain": [
       "False"
      ]
     },
     "execution_count": 165,
     "metadata": {},
     "output_type": "execute_result"
    }
   ],
   "source": [
    "1>2"
   ]
  },
  {
   "cell_type": "code",
   "execution_count": 166,
   "metadata": {
    "ExecuteTime": {
     "end_time": "2023-09-06T19:07:39.845725Z",
     "start_time": "2023-09-06T19:07:39.829732Z"
    }
   },
   "outputs": [
    {
     "name": "stdout",
     "output_type": "stream",
     "text": [
      "False\n",
      "True\n",
      "True\n"
     ]
    }
   ],
   "source": [
    "# vamos usar a função pré-definida 'len' que mede o comprimento da string\n",
    "print(len('mango') == len('avocado'))  # False\n",
    "print(len('mango') != len('avocado'))  # True\n",
    "print(len('mango') < len('avocado'))   # True"
   ]
  },
  {
   "cell_type": "markdown",
   "metadata": {},
   "source": [
    "## Operadores lógicos\n",
    "\n",
    "- Os operadores lógicos são : **and, or, not**"
   ]
  },
  {
   "cell_type": "code",
   "execution_count": 167,
   "metadata": {
    "ExecuteTime": {
     "end_time": "2023-09-06T19:10:26.707480Z",
     "start_time": "2023-09-06T19:10:26.686927Z"
    }
   },
   "outputs": [
    {
     "data": {
      "text/plain": [
       "False"
      ]
     },
     "execution_count": 167,
     "metadata": {},
     "output_type": "execute_result"
    }
   ],
   "source": [
    "# Retorna True se as duas operações são verdadeiras (and)\n",
    "\n",
    "(1 > 2) and (2 < 3)"
   ]
  },
  {
   "cell_type": "code",
   "execution_count": 168,
   "metadata": {
    "ExecuteTime": {
     "end_time": "2023-09-06T19:10:39.165147Z",
     "start_time": "2023-09-06T19:10:39.158145Z"
    }
   },
   "outputs": [
    {
     "data": {
      "text/plain": [
       "True"
      ]
     },
     "execution_count": 168,
     "metadata": {},
     "output_type": "execute_result"
    }
   ],
   "source": [
    "# Retorna True se pelo menos uma das relações é verdadeira (or)\n",
    "\n",
    "(1 > 2) or (2 < 3)"
   ]
  },
  {
   "cell_type": "code",
   "execution_count": 170,
   "metadata": {
    "ExecuteTime": {
     "end_time": "2023-09-06T19:11:09.932114Z",
     "start_time": "2023-09-06T19:11:09.908112Z"
    }
   },
   "outputs": [
    {
     "data": {
      "text/plain": [
       "False"
      ]
     },
     "execution_count": 170,
     "metadata": {},
     "output_type": "execute_result"
    }
   ],
   "source": [
    "(1 == 2) and (2 == 3) and (4 == 4)"
   ]
  },
  {
   "cell_type": "code",
   "execution_count": 171,
   "metadata": {
    "ExecuteTime": {
     "end_time": "2023-09-06T19:11:15.832199Z",
     "start_time": "2023-09-06T19:11:15.810619Z"
    }
   },
   "outputs": [
    {
     "data": {
      "text/plain": [
       "True"
      ]
     },
     "execution_count": 171,
     "metadata": {},
     "output_type": "execute_result"
    }
   ],
   "source": [
    "# Retorna True se a operação é falsa, ou retorna False se a operação é verdadeira (negação not).\n",
    "\n",
    "not (2 == 3)"
   ]
  },
  {
   "cell_type": "markdown",
   "metadata": {},
   "source": [
    "## Exercícios"
   ]
  },
  {
   "cell_type": "markdown",
   "metadata": {},
   "source": [
    "1. Compute 4 elevate at 12.\n",
    "\n",
    "2. Write an equation that uses multiplication, division, an exponent, addition, and subtraction that is equal to 100.25.\n",
    "\n",
    "3. Answer these 3 questions without typing code. Then type code to check your answer.\n",
    "\n",
    "    (a) What is the value of the expression `4 * (6 + 5)`\n",
    "\n",
    "    (b) What is the value of the expression `4 * 6 + 5` \n",
    "\n",
    "    (c) What is the value of the expression `4 + 6 * 5` \n",
    "\n",
    "4. What is the type of the result of the expression `3 + 1.5 + 4`?\n",
    "\n",
    "5. Given the string 'hello' give an index command that returns 'e'. \n",
    "\n",
    "6. Given the string hello, give two methods of producing the letter 'o' using indexing.\n",
    "\n",
    "7. Given the following list, `lst = [1,2,[3,4],[5,[100,200,['hello']],23,11],1,7]`, and using indexing, isolate the word `'hello'`.\n",
    "\n",
    "8. Using keys and indexing, grab the 'hello' from the following dictionaries: `d = {'simple_key':'hello'}`\n",
    "\n",
    "9. What is the major difference between tuples and lists?\n",
    "\n",
    "10. Use a set to find the unique values of the list below: `list5 = [1,2,2,33,4,4,11,22,3,3,2]`"
   ]
  },
  {
   "cell_type": "code",
   "execution_count": null,
   "metadata": {},
   "outputs": [],
   "source": []
  }
 ],
 "metadata": {
  "anaconda-cloud": {},
  "hide_input": false,
  "kernelspec": {
   "display_name": "Python 3 (ipykernel)",
   "language": "python",
   "name": "python3"
  },
  "language_info": {
   "codemirror_mode": {
    "name": "ipython",
    "version": 3
   },
   "file_extension": ".py",
   "mimetype": "text/x-python",
   "name": "python",
   "nbconvert_exporter": "python",
   "pygments_lexer": "ipython3",
   "version": "3.10.9"
  },
  "latex_envs": {
   "LaTeX_envs_menu_present": true,
   "autoclose": false,
   "autocomplete": true,
   "bibliofile": "biblio.bib",
   "cite_by": "apalike",
   "current_citInitial": 1,
   "eqLabelWithNumbers": true,
   "eqNumInitial": 1,
   "hotkeys": {
    "equation": "Ctrl-E",
    "itemize": "Ctrl-I"
   },
   "labels_anchors": false,
   "latex_user_defs": false,
   "report_style_numbering": false,
   "user_envs_cfg": false
  },
  "nbTranslate": {
   "displayLangs": [
    "*"
   ],
   "hotkey": "alt-t",
   "langInMainMenu": true,
   "sourceLang": "en",
   "targetLang": "fr",
   "useGoogleTranslate": true
  },
  "toc": {
   "base_numbering": 1,
   "nav_menu": {},
   "number_sections": true,
   "sideBar": true,
   "skip_h1_title": false,
   "title_cell": "Table of Contents",
   "title_sidebar": "Contents",
   "toc_cell": false,
   "toc_position": {},
   "toc_section_display": true,
   "toc_window_display": false
  },
  "varInspector": {
   "cols": {
    "lenName": 16,
    "lenType": 16,
    "lenVar": 40
   },
   "kernels_config": {
    "python": {
     "delete_cmd_postfix": "",
     "delete_cmd_prefix": "del ",
     "library": "var_list.py",
     "varRefreshCmd": "print(var_dic_list())"
    },
    "r": {
     "delete_cmd_postfix": ") ",
     "delete_cmd_prefix": "rm(",
     "library": "var_list.r",
     "varRefreshCmd": "cat(var_dic_list()) "
    }
   },
   "types_to_exclude": [
    "module",
    "function",
    "builtin_function_or_method",
    "instance",
    "_Feature"
   ],
   "window_display": false
  }
 },
 "nbformat": 4,
 "nbformat_minor": 1
}
