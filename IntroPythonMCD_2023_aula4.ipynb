{
 "cells": [
  {
   "cell_type": "markdown",
   "id": "527f7f4e-4258-438f-aa32-71b290c0d449",
   "metadata": {},
   "source": [
    "<font size=\"5\">\n",
    " <div class=\"alert alert-block alert-info\"> <b>Módulo introdutório de Python - Aula 4<b>\n",
    "     </div>\n",
    "</font> \n",
    " \n",
    " \n",
    "    \n",
    "  <font size=\"4\"> Mestrado em Ciência de Dados </font>\n",
    "  \\vspace{.03in}\n",
    "  \n",
    "  \n",
    "  <font size=\"3\"> **Diana Aldea Mendes** </font>\n",
    "     \n",
    "  <font size=\"3\">ISCTE-IUL, 5-9 de setembro de 2023 </font>\n",
    "  \n",
    "   \n",
    "  <font size=\"3\"> *diana.mendes@iscte-iul.pt* </font> \n",
    "  "
   ]
  },
  {
   "cell_type": "markdown",
   "id": "f28fb5d8-36a9-4b92-9149-db63a3ecd710",
   "metadata": {},
   "source": [
    "<font size=\"5\"> \n",
    "    <div class=\"alert alert-warning\" role=\"alert\"> Today topics </div> </font> \n",
    "    \n",
    "**Pandas**\n",
    "- Series\n",
    "- DataFrames\n",
    "- Select and Index\n",
    "- Create columns/rows\n",
    "- Remove columns/rows\n",
    "- Conditional Selection\n",
    "- Sort\n",
    "- Operations\n",
    "- Rename\n",
    "- Duplicates\n",
    "- Replace\n",
    "- Missing Data\n",
    "- Combine DataFrames\n",
    "- Summarizing and Computing Descriptive Statistics\n",
    "- Correlation and Covariance\n",
    "- Group By\n",
    "- Apply Functions\n",
    "- Input and Output (IO)\n",
    "- Useful Functions"
   ]
  },
  {
   "cell_type": "markdown",
   "id": "d8db9ddf-6256-4d1d-8f85-97511617751c",
   "metadata": {},
   "source": [
    "## Installing and Importing\n",
    "To install:\n",
    "\n",
    "`conda install pandas`\n",
    "\n",
    "or\n",
    "\n",
    "`pip install pandas`"
   ]
  },
  {
   "cell_type": "code",
   "execution_count": null,
   "id": "61edbbd0-4bc3-401f-9971-a5fab98e584d",
   "metadata": {},
   "outputs": [],
   "source": [
    "import numpy as np\n",
    "import pandas as pd"
   ]
  },
  {
   "cell_type": "markdown",
   "id": "0122f620-50d8-4081-beb8-285ae36138a1",
   "metadata": {
    "tags": []
   },
   "source": [
    "## Series\n",
    "> A `Series` is a one-dimensional array-like object containing a sequence of values (of similar types to NumPy types) of the same type and an associated array of data labels, called its index. \n",
    "\n",
    "`Series` object is basically interchangeable with a one-dimensional NumPy array.\n",
    "\n",
    "The essential difference is the presence of the index: \n",
    "- While the Numpy Array has an *implicitly defined* integer index used to access the values, \n",
    "- The Pandas `Series` has an *explicitly defined* index associated with the values.\n",
    "\n",
    "- This explicit index definition gives the `Series` object additional capabilities. \n",
    "- For example, the index need not be an integer, but can consist of values of any desired type.\n",
    "- For example, if we wish, we can use strings as an index"
   ]
  },
  {
   "cell_type": "markdown",
   "id": "f5af9d8c-fa75-4f8a-a65d-730528a13fa2",
   "metadata": {},
   "source": [
    "### Create from list"
   ]
  },
  {
   "cell_type": "code",
   "execution_count": null,
   "id": "9fc6019f-1fe7-47ab-8be9-d08b0bf297e6",
   "metadata": {},
   "outputs": [],
   "source": [
    "# From list\n",
    "pd.Series([4, 7, -5, 3, 0, 2])"
   ]
  },
  {
   "cell_type": "markdown",
   "id": "658c76f5-b302-4940-ba98-800269e28018",
   "metadata": {},
   "source": [
    "### Create from ndarray"
   ]
  },
  {
   "cell_type": "code",
   "execution_count": null,
   "id": "c4c4ee20-cc4e-4ec5-81f6-7f331222041b",
   "metadata": {},
   "outputs": [],
   "source": [
    "# From ndarray\n",
    "arr = np.array([10,20,30])\n",
    "pd.Series(arr)"
   ]
  },
  {
   "cell_type": "markdown",
   "id": "f677d6cb-0730-4e4a-803f-a7ed4c1daee9",
   "metadata": {},
   "source": [
    "### Create from dictionary"
   ]
  },
  {
   "cell_type": "code",
   "execution_count": null,
   "id": "ce4441b3-ec5d-41fd-997c-64c61f988606",
   "metadata": {},
   "outputs": [],
   "source": [
    "# From dict\n",
    "my_dict = {'a':10,'b':20,'c':30}\n",
    "pd.Series(my_dict)"
   ]
  },
  {
   "cell_type": "markdown",
   "id": "904da56d-33eb-4e1f-9a3b-7ae63309d278",
   "metadata": {},
   "source": [
    "### Data and labels"
   ]
  },
  {
   "cell_type": "code",
   "execution_count": null,
   "id": "13344b6e-a2e9-40a1-ba47-861a5518a398",
   "metadata": {},
   "outputs": [],
   "source": [
    "my_series = pd.Series(data=[5,9,1],index=['a','b','c'])\n",
    "my_series"
   ]
  },
  {
   "cell_type": "markdown",
   "id": "efdaf8d6-a1be-451a-a4e2-df4dce6990ef",
   "metadata": {},
   "source": [
    "### Using an Index"
   ]
  },
  {
   "cell_type": "code",
   "execution_count": null,
   "id": "6c128643-97ba-4b43-82fb-099e7ae56bfa",
   "metadata": {
    "jupyter": {
     "outputs_hidden": false
    }
   },
   "outputs": [],
   "source": [
    "ser1 = pd.Series([7,5,3,1],index = ['USA', 'Germany','USSR', 'Japan'],name='Countries')        \n",
    "ser1"
   ]
  },
  {
   "cell_type": "code",
   "execution_count": null,
   "id": "9755eb75-5942-40c3-967c-b2f48c2f6b70",
   "metadata": {},
   "outputs": [],
   "source": [
    "ser1.Germany"
   ]
  },
  {
   "cell_type": "code",
   "execution_count": null,
   "id": "439460b3",
   "metadata": {},
   "outputs": [],
   "source": [
    "ser1[\"Japan\"]"
   ]
  },
  {
   "cell_type": "markdown",
   "id": "d0b3bc20-9984-4d9d-9d17-a418034980cf",
   "metadata": {
    "tags": []
   },
   "source": [
    "## DataFrames\n",
    "> DataFrames are the workhorse of pandas and are directly inspired by the R programming language. We can think of a DataFrame as a bunch of Series objects put together to share the same index. \n",
    "\n",
    "\n",
    "- Like the ``Series`` object discussed in the previous section, the ``DataFrame`` can be thought of either as a generalization of a NumPy array, or as a specialization of a Python dictionary.\n",
    "\n",
    "**DataFrame as a generalized NumPy array**\n",
    "\n",
    " - If a ``Series`` is an analog of a one-dimensional array with flexible indices, a ``DataFrame`` is an analog of a two-dimensional array with both flexible row indices and flexible column names.\n",
    " - Just as you might think of a two-dimensional array as an ordered sequence of aligned one-dimensional columns, you can think of a ``DataFrame`` as a sequence of aligned ``Series`` objects.\n",
    " - Here, by \"aligned\" we mean that they share the same index."
   ]
  },
  {
   "cell_type": "code",
   "execution_count": null,
   "id": "df53de47-731d-4b49-b1b8-3f9807b05ff4",
   "metadata": {},
   "outputs": [],
   "source": [
    "np.random.seed(10)\n",
    "randarr = np.random.randint(1,50,(7,5))\n",
    "randarr"
   ]
  },
  {
   "cell_type": "code",
   "execution_count": null,
   "id": "09f43c8f-bdca-4792-beea-fcc8d37f427e",
   "metadata": {},
   "outputs": [],
   "source": [
    "df = pd.DataFrame(randarr,index=[*\"ABCDEFG\"],columns=[*\"WXZYP\"])\n",
    "df"
   ]
  },
  {
   "cell_type": "code",
   "execution_count": null,
   "id": "95573080-4860-40f6-8bff-9ae968619c71",
   "metadata": {},
   "outputs": [],
   "source": [
    "df.index, df.columns"
   ]
  },
  {
   "cell_type": "code",
   "execution_count": null,
   "id": "836cd513-c20c-4bfe-8b42-421fd45ee8a6",
   "metadata": {},
   "outputs": [],
   "source": [
    "df.dtypes"
   ]
  },
  {
   "cell_type": "markdown",
   "id": "ca655f71-92c0-464c-88fa-50cdc383e9fc",
   "metadata": {
    "tags": []
   },
   "source": [
    "## Select and Index"
   ]
  },
  {
   "cell_type": "markdown",
   "id": "8e00b70d-8f47-49f0-a107-516220623fc5",
   "metadata": {},
   "source": [
    "### Columns"
   ]
  },
  {
   "cell_type": "code",
   "execution_count": null,
   "id": "c70c8767-0676-4ea6-8d50-be226d9e0f25",
   "metadata": {},
   "outputs": [],
   "source": [
    "# One\n",
    "df.W"
   ]
  },
  {
   "cell_type": "code",
   "execution_count": null,
   "id": "ccd92ffa-bf33-4f4a-b0e8-16e319503b1e",
   "metadata": {},
   "outputs": [],
   "source": [
    "# Multiple\n",
    "df[['W', 'Z']]"
   ]
  },
  {
   "cell_type": "markdown",
   "id": "17375496-1118-4d63-8638-9b892a15bee9",
   "metadata": {},
   "source": [
    "### Rows"
   ]
  },
  {
   "cell_type": "code",
   "execution_count": null,
   "id": "275f8e30-ce5b-48a6-8b17-f056ee7b7d89",
   "metadata": {},
   "outputs": [],
   "source": [
    "# Row by label\n",
    "df.loc['A']"
   ]
  },
  {
   "cell_type": "code",
   "execution_count": null,
   "id": "e846fc0d-1ff2-4caf-886a-ccce054c81ef",
   "metadata": {},
   "outputs": [],
   "source": [
    "# Row by index\n",
    "df.iloc[0:2]"
   ]
  },
  {
   "cell_type": "markdown",
   "id": "9771e106-daa9-49ad-933b-fff0f61aa423",
   "metadata": {},
   "source": [
    "### Both"
   ]
  },
  {
   "cell_type": "code",
   "execution_count": null,
   "id": "cc4adde8-6010-4732-b5dd-08eb290b6cc0",
   "metadata": {},
   "outputs": [],
   "source": [
    "df.iloc[0:3,-2:]"
   ]
  },
  {
   "cell_type": "code",
   "execution_count": null,
   "id": "3307e8c9-dc2b-4b32-aedc-e9253c0d3f67",
   "metadata": {},
   "outputs": [],
   "source": [
    "df.loc[['A','B'], ['W', 'Y']]"
   ]
  },
  {
   "cell_type": "markdown",
   "id": "cd84eede-999f-41d7-a43f-8a398d74cf67",
   "metadata": {},
   "source": [
    "## Create columns/rows"
   ]
  },
  {
   "cell_type": "code",
   "execution_count": null,
   "id": "3009c30d-2f8f-4f66-b5f9-99745458ea08",
   "metadata": {},
   "outputs": [],
   "source": [
    "df['new'] = np.arange(7)\n",
    "df"
   ]
  },
  {
   "cell_type": "code",
   "execution_count": null,
   "id": "5022fc51-1e4d-418e-9954-d3091c4eaec8",
   "metadata": {},
   "outputs": [],
   "source": [
    "df.assign(new2 = np.random.randint(0,10,7))"
   ]
  },
  {
   "cell_type": "code",
   "execution_count": null,
   "id": "719b4a07-f9be-4c2b-b9b5-5c2f425103cd",
   "metadata": {},
   "outputs": [],
   "source": [
    "# Adding a row. \n",
    "df.loc[\"L\"] = np.arange(10,16) # Can also use append"
   ]
  },
  {
   "cell_type": "code",
   "execution_count": null,
   "id": "e91641fd-9f2f-4b50-9471-547973633339",
   "metadata": {},
   "outputs": [],
   "source": [
    "df"
   ]
  },
  {
   "cell_type": "markdown",
   "id": "0b24d60a-0845-4df9-8206-c5318ef0063c",
   "metadata": {},
   "source": [
    "## Remove columns/rows"
   ]
  },
  {
   "cell_type": "code",
   "execution_count": null,
   "id": "5015571b-dc04-4502-846a-bd44c1ef430f",
   "metadata": {},
   "outputs": [],
   "source": [
    "df.drop('new',axis=1,inplace=True)\n",
    "df"
   ]
  },
  {
   "cell_type": "code",
   "execution_count": null,
   "id": "1c4a78e3-4db2-4d97-8291-4a5ce1c9dc9f",
   "metadata": {},
   "outputs": [],
   "source": [
    "df.drop('F',axis=0,inplace=True)\n",
    "df"
   ]
  },
  {
   "cell_type": "markdown",
   "id": "ae305107-f590-4750-b866-c2c59e809c5f",
   "metadata": {},
   "source": [
    "## Conditional Selection"
   ]
  },
  {
   "cell_type": "code",
   "execution_count": null,
   "id": "b7eddda8-0816-40ae-bad7-1856327f8f9e",
   "metadata": {},
   "outputs": [],
   "source": [
    "df>10"
   ]
  },
  {
   "cell_type": "code",
   "execution_count": null,
   "id": "b8e44084-2183-4826-b26e-3049799057c7",
   "metadata": {},
   "outputs": [],
   "source": [
    "df[df>10]"
   ]
  },
  {
   "cell_type": "code",
   "execution_count": null,
   "id": "78a18eaa-15a5-4b0c-a1ce-6649c8f63217",
   "metadata": {},
   "outputs": [],
   "source": [
    "df[df.W > 10][['W','Y']]"
   ]
  },
  {
   "cell_type": "code",
   "execution_count": null,
   "id": "44fff05b-cdea-4a69-b73f-d586abd74a37",
   "metadata": {},
   "outputs": [],
   "source": [
    "df[(df.W > 10) & (df.Y > 10)]"
   ]
  },
  {
   "cell_type": "code",
   "execution_count": null,
   "id": "4be6684a-edb1-41fd-95bc-5f39cc0590af",
   "metadata": {},
   "outputs": [],
   "source": [
    "df[(df > 10).all(axis=1)]"
   ]
  },
  {
   "cell_type": "code",
   "execution_count": null,
   "id": "464ad19f-9a0a-4fc9-85ab-f513c4091d8f",
   "metadata": {},
   "outputs": [],
   "source": [
    "df[(df > 10).any(axis=1)]"
   ]
  },
  {
   "cell_type": "markdown",
   "id": "db595f60-c2cf-4690-96fa-33647aeb94b0",
   "metadata": {},
   "source": [
    "## Sort"
   ]
  },
  {
   "cell_type": "markdown",
   "id": "5af6bf5d-7adc-4d25-8c9c-ab59251c639d",
   "metadata": {},
   "source": [
    "### Index"
   ]
  },
  {
   "cell_type": "code",
   "execution_count": null,
   "id": "a7d42d1c-4b3f-4607-a684-7cd10e16d2e4",
   "metadata": {},
   "outputs": [],
   "source": [
    "df.sort_index(ascending=False)"
   ]
  },
  {
   "cell_type": "markdown",
   "id": "7c8383e1-1d4e-4a90-94aa-9b2d6262aece",
   "metadata": {},
   "source": [
    "### Columns"
   ]
  },
  {
   "cell_type": "code",
   "execution_count": null,
   "id": "479c608c-e532-4248-aa5e-e5e13566355b",
   "metadata": {},
   "outputs": [],
   "source": [
    "df.sort_index(axis=1,ascending=False)"
   ]
  },
  {
   "cell_type": "markdown",
   "id": "e9e6828b-7263-4afc-b81a-fcb971b5929f",
   "metadata": {},
   "source": [
    "### Values"
   ]
  },
  {
   "cell_type": "code",
   "execution_count": null,
   "id": "06cb0661-e1ae-46f2-a151-7382acf88659",
   "metadata": {},
   "outputs": [],
   "source": [
    "df.sort_values('W')"
   ]
  },
  {
   "cell_type": "markdown",
   "id": "525dd878-54a2-4295-8076-dcba0eeb0e67",
   "metadata": {},
   "source": [
    "## Operations"
   ]
  },
  {
   "cell_type": "code",
   "execution_count": null,
   "id": "eac72c22-cdac-41d5-8bd3-4e69898af486",
   "metadata": {},
   "outputs": [],
   "source": [
    "df['K'] = df.W * df.Y\n",
    "df"
   ]
  },
  {
   "cell_type": "code",
   "execution_count": null,
   "id": "d4b559ac-385e-488b-b7b9-1e45d47ad781",
   "metadata": {},
   "outputs": [],
   "source": [
    "df.W * 2"
   ]
  },
  {
   "cell_type": "markdown",
   "id": "7ae5bd45-7d03-4e9b-8f54-4c2b00d28d71",
   "metadata": {},
   "source": [
    "## Rename"
   ]
  },
  {
   "cell_type": "code",
   "execution_count": null,
   "id": "ccadec75-cdd4-4f38-b00f-ac9766ca1b13",
   "metadata": {},
   "outputs": [],
   "source": [
    "df.rename(index={'A':'AA'},columns={'Y':'YY'})"
   ]
  },
  {
   "cell_type": "markdown",
   "id": "042164e1-f2e9-4745-a0d7-e2d4bb36dc86",
   "metadata": {},
   "source": [
    "## Duplicates"
   ]
  },
  {
   "cell_type": "code",
   "execution_count": null,
   "id": "843c1e75-6911-4bc3-9785-b442e054dbfe",
   "metadata": {},
   "outputs": [],
   "source": [
    "df_dup = pd.DataFrame({\"k1\": [\"one\", \"two\"] * 3 + [\"two\"],\"k2\": [1, 1, 2, 3, 3, 4, 4]})\n",
    "df_dup"
   ]
  },
  {
   "cell_type": "code",
   "execution_count": null,
   "id": "076949c3-69eb-40bf-9363-c00f8926d80c",
   "metadata": {},
   "outputs": [],
   "source": [
    "df_dup.duplicated()"
   ]
  },
  {
   "cell_type": "code",
   "execution_count": null,
   "id": "ca1b97b0-5688-414c-af02-b17af8e24da3",
   "metadata": {},
   "outputs": [],
   "source": [
    "df_dup.drop_duplicates()"
   ]
  },
  {
   "cell_type": "markdown",
   "id": "3713893a-7641-4476-ad3f-1310131692d2",
   "metadata": {},
   "source": [
    "## Replace"
   ]
  },
  {
   "cell_type": "code",
   "execution_count": null,
   "id": "fc646c56-a65d-40d8-a246-ccb34d3b560a",
   "metadata": {},
   "outputs": [],
   "source": [
    "df_rep = pd.Series([1., -999., 2., -999., -1000., 3.])\n",
    "df_rep"
   ]
  },
  {
   "cell_type": "code",
   "execution_count": null,
   "id": "0beea66b-f452-4edf-a5db-bf1ba25063cf",
   "metadata": {},
   "outputs": [],
   "source": [
    "df_rep.replace([-999, -1000], np.nan)"
   ]
  },
  {
   "cell_type": "markdown",
   "id": "3824223e-2b73-465c-9df3-abe525cffae6",
   "metadata": {},
   "source": [
    "## Missing Data\n",
    "Apply some functions to deal with missing values\n",
    "- ``isnull()``\n",
    "- ``dropna()``\n",
    "- ``fillna()``"
   ]
  },
  {
   "cell_type": "code",
   "execution_count": null,
   "id": "21377d58-4cef-479f-bcb6-90d971e4a4f9",
   "metadata": {
    "tags": []
   },
   "outputs": [],
   "source": [
    "df2 = pd.DataFrame([[np.nan, 2, np.nan, 2],\n",
    "        [3, 4, np.nan, 1],\n",
    "        [np.nan, np.nan, np.nan, 1],\n",
    "        [np.nan, 3, np.nan, 4],\n",
    "        [1, 3, 3, 4]],\n",
    "        columns=list(\"ABCD\"))\n",
    "df2"
   ]
  },
  {
   "cell_type": "code",
   "execution_count": null,
   "id": "6a537049-8c80-4749-bbce-7220b5c5feae",
   "metadata": {},
   "outputs": [],
   "source": [
    "df2.isnull().sum()"
   ]
  },
  {
   "cell_type": "code",
   "execution_count": null,
   "id": "a789130b-9ca0-4384-a75d-58a546f1d2a4",
   "metadata": {},
   "outputs": [],
   "source": [
    "df2.dropna()"
   ]
  },
  {
   "cell_type": "code",
   "execution_count": null,
   "id": "2642263a-aab9-475f-8b02-8aa2ec9ef262",
   "metadata": {},
   "outputs": [],
   "source": [
    "df2.dropna(axis=1)"
   ]
  },
  {
   "cell_type": "code",
   "execution_count": null,
   "id": "32b8096e-cc16-4117-90fc-d191f81be5c2",
   "metadata": {},
   "outputs": [],
   "source": [
    "df2.dropna(thresh=2)"
   ]
  },
  {
   "cell_type": "code",
   "execution_count": null,
   "id": "3d035b2f-f4c8-4273-a4e5-a32e91c4a435",
   "metadata": {},
   "outputs": [],
   "source": [
    "df2.fillna(value='NO VALUE')"
   ]
  },
  {
   "cell_type": "code",
   "execution_count": null,
   "id": "6b5c64ae-35f1-482c-9bea-7cdd94418b99",
   "metadata": {},
   "outputs": [],
   "source": [
    "df2.A.fillna(value=df2.A.mean())"
   ]
  },
  {
   "cell_type": "code",
   "execution_count": null,
   "id": "6b1f1635-820b-4a81-ae87-f58fd31b0723",
   "metadata": {},
   "outputs": [],
   "source": [
    "df2.fillna(value=df2.mean())"
   ]
  },
  {
   "cell_type": "code",
   "execution_count": null,
   "id": "1dd2b13a-b950-44b7-9572-e9ec21326593",
   "metadata": {},
   "outputs": [],
   "source": [
    "# pad / ffill: propagate last valid observation forward to next valid\n",
    "df2.fillna(method='backfill')"
   ]
  },
  {
   "cell_type": "code",
   "execution_count": null,
   "id": "6922d061-7330-4eb6-9654-216b6af6d98b",
   "metadata": {},
   "outputs": [],
   "source": [
    "# backfill / bfill: use next valid observation to fill gap.\n",
    "df2.fillna(method='pad')"
   ]
  },
  {
   "cell_type": "markdown",
   "id": "ae655042-c6e8-4e98-9f4d-5a4c779ad2e2",
   "metadata": {},
   "source": [
    "## Combine DataFrames\n",
    "\n",
    "- ``merge()`` for combining data on common columns or indices\n",
    "- ``join()`` for combining data on a key column or an index\n",
    "- ``concat()`` for combining DataFrames across rows or columns\n",
    "\n",
    "\n",
    "- The ``concat()`` function performs concatenation operations along an axis while performing optional set logic (union or intersection) of the indexes on the other axes. \n",
    "\n",
    "- The `how` is perhaps the most powerful, but most conceptually difficult of the arguments in these functions.\n",
    "- This argument controls which values from the key column(s) appear in the output.\n",
    "- The 4 possible options for this argument are summarized below.\n",
    "\n",
    "    - `left`: Default and what we described above. It uses the keys from the `left` DataFrame.  \n",
    "    - `right`: Output will contain all keys from `right`.  \n",
    "    - `inner`: The output will only contain keys that appear in *both* `left` and `right`.  \n",
    "    - `outer`: The output will contain any key found in either `left` or `right`.  \n"
   ]
  },
  {
   "cell_type": "markdown",
   "id": "ec5d0fc0-13fc-4a9c-9580-b46dc6171095",
   "metadata": {},
   "source": [
    "### Concatenation"
   ]
  },
  {
   "cell_type": "code",
   "execution_count": null,
   "id": "9b71ca2f-f4bc-47c3-aae2-977116faccce",
   "metadata": {},
   "outputs": [],
   "source": [
    "dfc1 = pd.DataFrame({'A': ['A0', 'A1', 'A2', 'A3'],\n",
    "                        'B': ['B0', 'B1', 'B2', 'B3'],\n",
    "                        'C': ['C0', 'C1', 'C2', 'C3'],\n",
    "                        'D': ['D0', 'D1', 'D2', 'D3']})\n",
    "\n",
    "dfc2 = pd.DataFrame({'A': ['A4', 'A5', 'A6', 'A7'],\n",
    "                        'B': ['B4', 'B5', 'B6', 'B7'],\n",
    "                        'C': ['C4', 'C5', 'C6', 'C7'],\n",
    "                        'D': ['D4', 'D5', 'D6', 'D7']}) \n",
    "\n",
    "dfc3 = pd.DataFrame({'A': ['A8', 'A9', 'A10', 'A11'],\n",
    "                        'B': ['B8', 'B9', 'B10', 'B11'],\n",
    "                        'C': ['C8', 'C9', 'C10', 'C11'],\n",
    "                        'D': ['D8', 'D9', 'D10', 'D11']})"
   ]
  },
  {
   "cell_type": "code",
   "execution_count": null,
   "id": "798fb08d-811c-47f8-92e3-799a257af3f8",
   "metadata": {},
   "outputs": [],
   "source": [
    "pd.concat([dfc1, dfc2, dfc3], ignore_index=True)"
   ]
  },
  {
   "cell_type": "markdown",
   "id": "d654d0b8-af94-455c-86e5-e8fcf2ab2a99",
   "metadata": {},
   "source": [
    "### Merging\n",
    "Join based on column"
   ]
  },
  {
   "cell_type": "code",
   "execution_count": null,
   "id": "e55098d4-af49-4832-b989-311e1fb3ebf6",
   "metadata": {},
   "outputs": [],
   "source": [
    "left = pd.DataFrame({'Key':['K0','K1','K2','K3'],\n",
    "                     'A':['A0','A1','A2','A3'],\n",
    "                     'B':['B0','B1','B2','B3']})\n",
    "\n",
    "right = pd.DataFrame({'Key':['K0','K1','K2','K3'],\n",
    "                      'C':['C4','C5','C6','C7'],\n",
    "                      'D':['D4','D5','D6','D7']})"
   ]
  },
  {
   "cell_type": "code",
   "execution_count": null,
   "id": "5142374a-b431-42f5-8ff7-b482326ac367",
   "metadata": {},
   "outputs": [],
   "source": [
    "display(left, right)"
   ]
  },
  {
   "cell_type": "code",
   "execution_count": null,
   "id": "75e6967c-9bd8-4154-9424-245bb2731aed",
   "metadata": {},
   "outputs": [],
   "source": [
    "pd.merge(left,right, how='inner', on='Key')"
   ]
  },
  {
   "cell_type": "markdown",
   "id": "f2b60665-df76-42f7-948a-ff9a6d42ec51",
   "metadata": {},
   "source": [
    "### Joining\n",
    "Join based on Index"
   ]
  },
  {
   "cell_type": "code",
   "execution_count": null,
   "id": "7126809b-c363-41dd-a688-b6f7bc322a38",
   "metadata": {},
   "outputs": [],
   "source": [
    "left = pd.DataFrame({'A': ['A0', 'A1', 'A2'],\n",
    "                     'B': ['B0', 'B1', 'B2']},\n",
    "                      index=['K0', 'K1', 'K2']) \n",
    "\n",
    "right = pd.DataFrame({'C': ['C0', 'C2', 'C3'],\n",
    "                    'D': ['D0', 'D2', 'D3']},\n",
    "                      index=['K0', 'K2', 'K3'])"
   ]
  },
  {
   "cell_type": "code",
   "execution_count": null,
   "id": "e7a7efa9-fbc5-4904-bed1-f84dbdaa700b",
   "metadata": {},
   "outputs": [],
   "source": [
    "display(left,right)"
   ]
  },
  {
   "cell_type": "code",
   "execution_count": null,
   "id": "70328f74-e421-4da7-b9f9-97e98f40090c",
   "metadata": {},
   "outputs": [],
   "source": [
    "left.join(right,how='inner')"
   ]
  },
  {
   "cell_type": "code",
   "execution_count": null,
   "id": "d1590617-0f6a-4d40-8022-1e5aefc6ab73",
   "metadata": {},
   "outputs": [],
   "source": [
    "left.join(right,how='outer')"
   ]
  },
  {
   "cell_type": "markdown",
   "id": "9efc30fa-b086-4096-b833-867f7d815aca",
   "metadata": {},
   "source": [
    "## Summarizing and Computing Descriptive Statistics"
   ]
  },
  {
   "cell_type": "code",
   "execution_count": null,
   "id": "52287a09-b1e7-493e-88a0-98e52679607d",
   "metadata": {},
   "outputs": [],
   "source": [
    "df3 = pd.DataFrame([[1, np.nan], [7, 4],[np.nan, np.nan], [2, 3]],\n",
    "                  index=[\"a\", \"b\", \"c\", \"d\"],\n",
    "                  columns=[\"one\", \"two\"])\n",
    "df3"
   ]
  },
  {
   "cell_type": "markdown",
   "id": "009f4c88-8f31-48f4-aa55-fc53e30603a8",
   "metadata": {},
   "source": [
    "### Information about DataFrame"
   ]
  },
  {
   "cell_type": "code",
   "execution_count": null,
   "id": "c556c560-63bd-4eee-8675-9a1576c999e7",
   "metadata": {},
   "outputs": [],
   "source": [
    "df3.info()"
   ]
  },
  {
   "cell_type": "markdown",
   "id": "1f0ab378-9c7c-481d-825f-d4d7accd8006",
   "metadata": {},
   "source": [
    "### Compute set of summary statistics"
   ]
  },
  {
   "cell_type": "code",
   "execution_count": null,
   "id": "78a331d5-64df-43c5-bccf-00ca58eda640",
   "metadata": {},
   "outputs": [],
   "source": [
    "df3.describe()"
   ]
  },
  {
   "cell_type": "code",
   "execution_count": null,
   "id": "d4dc14b7-7089-43b1-97be-451255f804eb",
   "metadata": {},
   "outputs": [],
   "source": [
    "df3.count()"
   ]
  },
  {
   "cell_type": "code",
   "execution_count": null,
   "id": "4f9c660b-93a5-4762-bae4-025150f22019",
   "metadata": {},
   "outputs": [],
   "source": [
    "df3.sum()"
   ]
  },
  {
   "cell_type": "code",
   "execution_count": null,
   "id": "a1ee6a57-3d2d-473e-8a5e-75029e86202a",
   "metadata": {},
   "outputs": [],
   "source": [
    "df3.sum(axis='columns')"
   ]
  },
  {
   "cell_type": "code",
   "execution_count": null,
   "id": "26a10234-e4cb-4f81-86a3-8310f0868001",
   "metadata": {},
   "outputs": [],
   "source": [
    "df3.mean()"
   ]
  },
  {
   "cell_type": "markdown",
   "id": "1b032edc-7e0e-4192-8646-736bdce1941d",
   "metadata": {},
   "source": [
    "## Correlation and Covariance"
   ]
  },
  {
   "cell_type": "code",
   "execution_count": null,
   "id": "e820bc98-bbcf-449b-8480-79ae75c1aea7",
   "metadata": {},
   "outputs": [],
   "source": [
    "# Read \n",
    "mpg = pd.read_csv('https://raw.githubusercontent.com/mwaskom/seaborn-data/master/mpg.csv')\n",
    "mpg.head()"
   ]
  },
  {
   "cell_type": "code",
   "execution_count": null,
   "id": "c4f9be5a-2789-472e-812c-849631dcaf48",
   "metadata": {},
   "outputs": [],
   "source": [
    "mpg.corr()"
   ]
  },
  {
   "cell_type": "code",
   "execution_count": null,
   "id": "32a9a28e-b620-43f1-8dcb-2179ad97c3dd",
   "metadata": {},
   "outputs": [],
   "source": [
    "mpg.corrwith(mpg.horsepower)"
   ]
  },
  {
   "cell_type": "markdown",
   "id": "93f6222b-4ce0-43f6-b419-8a2a18686849",
   "metadata": {},
   "source": [
    "## Group By\n",
    "The groupby method allows you to group rows of data together and call aggregate functions"
   ]
  },
  {
   "cell_type": "code",
   "execution_count": null,
   "id": "ed9b831e-6d57-4250-b219-09b285e3f7c5",
   "metadata": {},
   "outputs": [],
   "source": [
    "data = {'Company':['GOOG','GOOG','MSFT','MSFT','FB','FB'],\n",
    "       'Person':['Sam','Charlie','Amy','Vanessa','Carl','Sarah'],\n",
    "       'Sales':[200,120,340,124,243,350]}\n",
    "\n",
    "df_group = pd.DataFrame(data)\n",
    "df_group"
   ]
  },
  {
   "cell_type": "code",
   "execution_count": null,
   "id": "ea9cebcf-6e0f-4774-acb1-a1e12fc8297f",
   "metadata": {},
   "outputs": [],
   "source": [
    "df_group.groupby('Company').sum(numeric_only=True)"
   ]
  },
  {
   "cell_type": "code",
   "execution_count": null,
   "id": "b22a3da0-9bc7-463a-9d2c-fcd9e980d24e",
   "metadata": {},
   "outputs": [],
   "source": [
    "df_group.groupby('Company').sum(numeric_only=True)"
   ]
  },
  {
   "cell_type": "code",
   "execution_count": null,
   "id": "f50e5e6c-80d4-4a9d-977c-bdef048f84fc",
   "metadata": {},
   "outputs": [],
   "source": [
    "df_group.groupby('Company').min()"
   ]
  },
  {
   "cell_type": "code",
   "execution_count": null,
   "id": "c8f22156-016d-4dda-acc3-8f286d7e0a56",
   "metadata": {},
   "outputs": [],
   "source": [
    "df_group.groupby('Company').max()"
   ]
  },
  {
   "cell_type": "code",
   "execution_count": null,
   "id": "9cf98115-b147-41fe-84e5-5a2bcd587ad8",
   "metadata": {},
   "outputs": [],
   "source": [
    "df_group.groupby('Company').count()"
   ]
  },
  {
   "cell_type": "code",
   "execution_count": null,
   "id": "2fa04184-dc2b-41dd-a885-d5a111c7c243",
   "metadata": {},
   "outputs": [],
   "source": [
    "df_group.groupby('Company').describe()"
   ]
  },
  {
   "cell_type": "markdown",
   "id": "29ce028a-cafb-4dff-972e-ee9f1e6f2e44",
   "metadata": {},
   "source": [
    "## Apply Functions"
   ]
  },
  {
   "cell_type": "code",
   "execution_count": null,
   "id": "2a88ce77-8cad-4368-b88b-7048566e4f26",
   "metadata": {},
   "outputs": [],
   "source": [
    "def times2(x):\n",
    "    return x*2"
   ]
  },
  {
   "cell_type": "code",
   "execution_count": null,
   "id": "f239b16e-e5f1-45dc-a5e7-1dd60e496eac",
   "metadata": {},
   "outputs": [],
   "source": [
    "df"
   ]
  },
  {
   "cell_type": "code",
   "execution_count": null,
   "id": "09d18df2-57a6-43e8-af8b-6131e80f68a8",
   "metadata": {},
   "outputs": [],
   "source": [
    "df.W.apply(times2)"
   ]
  },
  {
   "cell_type": "code",
   "execution_count": null,
   "id": "d84584e8-3c64-439f-8a71-61cdf52a0d8d",
   "metadata": {},
   "outputs": [],
   "source": [
    "df.W.apply(lambda x: x*2)"
   ]
  },
  {
   "cell_type": "markdown",
   "id": "1432c90d-024e-4848-803e-3c92a5aae11e",
   "metadata": {},
   "source": [
    "## Input and Output (IO)\n",
    "Supports many sources:\n",
    "https://pandas.pydata.org/docs/user_guide/io.html\n",
    "\n",
    "-  Excel, R, Matlab, SAS, xlmx, csv, txt, sql, stata, dat, mat, hdf, html, json, etc..."
   ]
  },
  {
   "cell_type": "markdown",
   "id": "e0866572",
   "metadata": {},
   "source": [
    "### Import  Excel file to Pandas - Python\n",
    "\n",
    "\n",
    "``# import file from Excel\n",
    "df = pd.read_excel('sample.xlsx',sheetname='sheet1')`` \n",
    "\n",
    "``# save Pandas/Python file to Excel\n",
    "df.to_excel('sample.xlsx',sheetname='new_sheet')``\n"
   ]
  },
  {
   "cell_type": "code",
   "execution_count": null,
   "id": "a41713ce",
   "metadata": {},
   "outputs": [],
   "source": [
    "# importar o ficheiro de dados de Excel (gapminder.xlsx)\n",
    "# usamos o mesmo raciocínio: nome_bibliotec.nome_função\n",
    "# neste caso pd.read_excel (pd - nome da biblioteca, read_excel - função de pandas que indique que temos de importar dados de Excel)\n",
    "# para podermos trabalhar com o ficheiro/tabela de dados, temos de lhe associar um nome\n",
    "\n",
    "df_countries = pd.read_excel('gapminder.xlsx')"
   ]
  },
  {
   "cell_type": "code",
   "execution_count": null,
   "id": "babab1e4",
   "metadata": {},
   "outputs": [],
   "source": [
    "df_countries.tail()"
   ]
  },
  {
   "cell_type": "code",
   "execution_count": null,
   "id": "866d9df1",
   "metadata": {},
   "outputs": [],
   "source": [
    "df_countries.info()"
   ]
  },
  {
   "cell_type": "markdown",
   "id": "2037df46-05f2-43fd-b4c3-a40f8b13ff70",
   "metadata": {},
   "source": [
    "### Import  CSV file to Pandas - Python"
   ]
  },
  {
   "cell_type": "code",
   "execution_count": null,
   "id": "7e7adbb2-3e63-4f94-8971-073caf9c0e8d",
   "metadata": {},
   "outputs": [],
   "source": [
    "# Read\n",
    "titanic = pd.read_csv(\"titanic.csv\")\n",
    "titanic.head()"
   ]
  },
  {
   "cell_type": "code",
   "execution_count": null,
   "id": "79321490-bc2d-44b6-b223-549f5afb3d45",
   "metadata": {},
   "outputs": [],
   "source": [
    "# Save\n",
    "titanic.to_csv('titanic2.csv',index=False)"
   ]
  },
  {
   "cell_type": "markdown",
   "id": "ff8cd105",
   "metadata": {},
   "source": [
    "### Other examples"
   ]
  },
  {
   "cell_type": "code",
   "execution_count": null,
   "id": "f1b01341",
   "metadata": {},
   "outputs": [],
   "source": [
    "### import data from Github\n",
    "hr_data = pd.read_csv('https://raw.githubusercontent.com/zekelabs/data-science-complete-tutorial/master/Data/HR_comma_sep.csv.txt')"
   ]
  },
  {
   "cell_type": "code",
   "execution_count": null,
   "id": "630ea810",
   "metadata": {},
   "outputs": [],
   "source": [
    "hr_data.head()"
   ]
  },
  {
   "cell_type": "code",
   "execution_count": null,
   "id": "f23297f2",
   "metadata": {},
   "outputs": [],
   "source": [
    "## Import json file\n",
    "data2 = pd.read_json('https://raw.githubusercontent.com/zekelabs/data-science-complete-tutorial/master/Data/movie.json.txt')\n",
    "data2.head()"
   ]
  },
  {
   "cell_type": "code",
   "execution_count": null,
   "id": "63441f14",
   "metadata": {},
   "outputs": [],
   "source": [
    "## import data from Wikipédia\n",
    "\n",
    "url ='https://en.wikipedia.org/wiki/Wikipedia:Fundraising_statistics'\n",
    "data = pd.read_html(url)"
   ]
  },
  {
   "cell_type": "code",
   "execution_count": null,
   "id": "a0a8f220",
   "metadata": {},
   "outputs": [],
   "source": [
    "data[0].head()"
   ]
  },
  {
   "cell_type": "code",
   "execution_count": null,
   "id": "0f88a2f1",
   "metadata": {},
   "outputs": [],
   "source": []
  },
  {
   "cell_type": "code",
   "execution_count": null,
   "id": "1f82378c",
   "metadata": {},
   "outputs": [],
   "source": []
  },
  {
   "cell_type": "markdown",
   "id": "cc75e6c4-7d0c-495c-ad2a-eb245fde4ef8",
   "metadata": {
    "tags": []
   },
   "source": [
    "## References\n",
    "(1) Wes McKinney (2022), Python for Data Analysis, Third Edition, O’Reilly Media, Inc. \n",
    "(book and code: https://wesmckinney.com/book/, https://github.com/wesm/pydata-book/) \n",
    "\n",
    "(2) Python Documentation (https://docs.python.org/3/)\n",
    "\n",
    "(3) Numpy Documentation (https://numpy.org/doc/stable/)\n",
    "\n",
    "(4) Pandas Documentation (https://pandas.pydata.org/docs/)\n",
    "\n",
    "(5) Pandas User Guide (https://pandas.pydata.org/docs/user_guide/index.html#user-guide)"
   ]
  }
 ],
 "metadata": {
  "hide_input": false,
  "kernelspec": {
   "display_name": "Python 3 (ipykernel)",
   "language": "python",
   "name": "python3"
  },
  "language_info": {
   "codemirror_mode": {
    "name": "ipython",
    "version": 3
   },
   "file_extension": ".py",
   "mimetype": "text/x-python",
   "name": "python",
   "nbconvert_exporter": "python",
   "pygments_lexer": "ipython3",
   "version": "3.9.7"
  },
  "latex_envs": {
   "LaTeX_envs_menu_present": true,
   "autoclose": false,
   "autocomplete": true,
   "bibliofile": "biblio.bib",
   "cite_by": "apalike",
   "current_citInitial": 1,
   "eqLabelWithNumbers": true,
   "eqNumInitial": 1,
   "hotkeys": {
    "equation": "Ctrl-E",
    "itemize": "Ctrl-I"
   },
   "labels_anchors": false,
   "latex_user_defs": false,
   "report_style_numbering": false,
   "user_envs_cfg": false
  },
  "nbTranslate": {
   "displayLangs": [
    "*"
   ],
   "hotkey": "alt-t",
   "langInMainMenu": true,
   "sourceLang": "en",
   "targetLang": "fr",
   "useGoogleTranslate": true
  },
  "toc-autonumbering": false,
  "toc-showmarkdowntxt": false,
  "toc-showtags": false,
  "varInspector": {
   "cols": {
    "lenName": 16,
    "lenType": 16,
    "lenVar": 40
   },
   "kernels_config": {
    "python": {
     "delete_cmd_postfix": "",
     "delete_cmd_prefix": "del ",
     "library": "var_list.py",
     "varRefreshCmd": "print(var_dic_list())"
    },
    "r": {
     "delete_cmd_postfix": ") ",
     "delete_cmd_prefix": "rm(",
     "library": "var_list.r",
     "varRefreshCmd": "cat(var_dic_list()) "
    }
   },
   "types_to_exclude": [
    "module",
    "function",
    "builtin_function_or_method",
    "instance",
    "_Feature"
   ],
   "window_display": false
  }
 },
 "nbformat": 4,
 "nbformat_minor": 5
}
