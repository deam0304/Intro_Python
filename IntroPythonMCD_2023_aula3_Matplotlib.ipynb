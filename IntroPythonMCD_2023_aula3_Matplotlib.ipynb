{
 "cells": [
  {
   "cell_type": "markdown",
   "id": "527f7f4e-4258-438f-aa32-71b290c0d449",
   "metadata": {},
   "source": [
    "<font size=\"5\">\n",
    " <div class=\"alert alert-block alert-info\"> <b>Módulo introdutório de Python - Aula 3<b>\n",
    "     </div>\n",
    "</font> \n",
    " \n",
    " \\vspace{.1in}\n",
    "     \n",
    "    \n",
    "  <font size=\"4\"> Mestrado em Ciência de Dados </font>\n",
    "  \\vspace{.03in}\n",
    "  \n",
    "  \n",
    "  <font size=\"3\"> **Diana Aldea Mendes** </font>\n",
    "     \\vspace{.02in}\n",
    "  <font size=\"3\">ISCTE-IUL, 5-9 de setembro de 2023 </font>\n",
    "  \\vspace{.03in}\n",
    "  \n",
    "   \n",
    "  <font size=\"3\"> *diana.mendes@iscte-iul.pt* </font> \n",
    "  \\vspace{.03in}"
   ]
  },
  {
   "cell_type": "markdown",
   "id": "f28fb5d8-36a9-4b92-9149-db63a3ecd710",
   "metadata": {},
   "source": [
    "<font size=\"5\"> \n",
    "    <div class=\"alert alert-warning\" role=\"alert\"> Today topics </div> </font> \n",
    "  \\vspace{.03in}\n",
    "  \n",
    "**Matplotlib**\n",
    "- Installing and Importing\n",
    "- Simple plot using pyplot-style\n",
    "- Plots using OO-style\n",
    "- Multiple Plots\n",
    "- Figure size, aspect ratio and DPI\n",
    "- Titles, labels and legends\n",
    "- Line and marker styles\n",
    "- Real example\n",
    "- Plot types\n",
    "- Saving figure"
   ]
  },
  {
   "cell_type": "markdown",
   "id": "41c9f5ed-f442-4228-a081-dd4e8579063c",
   "metadata": {
    "tags": []
   },
   "source": [
    "## Matplotlib\n",
    "> Matplotlib is a comprehensive library for creating static, animated, and interactive visualizations in Python. Matplotlib makes easy things easy and hard things possible. \n",
    "- Most popular ploting library for Python\n",
    "- Full control over every aspect of a figure/plot\n",
    "- Generally easy to get started for simple plots\n",
    "- Support for custom labels and texts\n",
    "- High-quality output in many formats\n",
    "- Very customizable in general\n",
    "- Example gallery: https://matplotlib.org/stable/gallery/index.html"
   ]
  },
  {
   "cell_type": "markdown",
   "id": "d8db9ddf-6256-4d1d-8f85-97511617751c",
   "metadata": {},
   "source": [
    "## Installing and Importing\n",
    "To install:\n",
    "\n",
    "`conda install matplotlib`\n",
    "\n",
    "or\n",
    "\n",
    "`pip install matplotlib`"
   ]
  },
  {
   "cell_type": "code",
   "execution_count": null,
   "id": "61edbbd0-4bc3-401f-9971-a5fab98e584d",
   "metadata": {
    "ExecuteTime": {
     "end_time": "2023-09-07T16:36:41.988502Z",
     "start_time": "2023-09-07T16:36:41.193159Z"
    }
   },
   "outputs": [],
   "source": [
    "import numpy as np\n",
    "import matplotlib.pyplot as plt\n",
    "%matplotlib inline"
   ]
  },
  {
   "cell_type": "markdown",
   "id": "1c7a57e4-115e-47da-97b7-22f60a0aac60",
   "metadata": {},
   "source": [
    "Note: If you are not using Jupyter Notebook you need to do `plt.show()` to show plots."
   ]
  },
  {
   "cell_type": "markdown",
   "id": "1949a0b3-7a72-4f56-84bc-11fe1f4ed97d",
   "metadata": {},
   "source": [
    "## Simple plot using pyplot-style\n",
    "> pyplot-style can be very convenient for quick interactive work.\n",
    "\n",
    "**pyplot-style (`plt.`)**\n",
    "- `plt.plot(x, x, label='linear') # Plot some data on the axes.`\n",
    "- `plt.plot(x, x**2, label='quadratic')`\n",
    "- `plt.plot(x, x**3, label='cubic')`\n",
    "- `plt.xlabel('x label')`\n",
    "- `plt.ylabel('y label')`\n",
    "- `plt.title(\"pyplot style\")`\n",
    "- `plt.legend()`\n"
   ]
  },
  {
   "cell_type": "code",
   "execution_count": null,
   "id": "af9aa0ee-2b7e-428a-aa0d-5166640ab060",
   "metadata": {
    "ExecuteTime": {
     "end_time": "2023-09-07T16:36:43.010648Z",
     "start_time": "2023-09-07T16:36:42.789261Z"
    }
   },
   "outputs": [],
   "source": [
    "x = np.linspace(0,5,4) # ??\n",
    "y = x ** 2\n",
    "z = x ** 3\n",
    "\n",
    "plt.plot(x,y,'g', label=\"x²\")\n",
    "plt.plot(x,z,'r', label=\"x³\")\n",
    "plt.xlabel('X Axis')\n",
    "plt.ylabel('Y Axis')\n",
    "plt.title('My first plot')\n",
    "plt.legend(loc=\"lower right\")"
   ]
  },
  {
   "cell_type": "markdown",
   "id": "45fb5923-78d9-4a63-b634-efe4d23efcb0",
   "metadata": {
    "tags": []
   },
   "source": [
    "## Plot using OO-style\n",
    "> More control with Object Oriented (OO). Useful for complicated plots.\n",
    "\n",
    "**Figure** (fig) keeps track of all **Artists** (axs)\n",
    "\n",
    "**oo-style (oriented-style) (`ax.`)**\n",
    "\n",
    "- `fig, ax = plt.subplots()` # Create a figure and an axes.\n",
    "- `ax.plot(x, x, label='linear')` # Plot some data on the axes.\n",
    "- `ax.plot(x, x**2, label='quadratic')` # Plot more data on the axes...\n",
    "- `ax.plot(x, x**3, label='cubic')` # ... and some more.\n",
    "- `ax.set_xlim([min,max])` # Add x-axis range\n",
    "- `ax.set_ylim([min,max])` # Add y-axis range\n",
    "- `ax.set_xlabel('x label')` # Add an x-label to the axes.\n",
    "- `ax.set_ylabel('y label')` # Add a y-label to the axes.\n",
    "- `ax.set_title(\"oo-style Plot\")` # Add a title to the axes.\n",
    "- `ax.legend()` # Add a legend.\n",
    "- `ax.plot(data, linestyle, color, marker)` # Sets data and styles of subplot ax.\n",
    "- `ax.set_xticks()` # Sets list of X-ticks, analogously for Y-axis.\n",
    "- `ax.set_xlabel()` # Sets the X-label.\n",
    "- `ax.set_title()` # Sets the subplot title.\n",
    "\n"
   ]
  },
  {
   "cell_type": "code",
   "execution_count": null,
   "id": "2620c991-f446-4043-9eed-40d8e8696ac6",
   "metadata": {
    "ExecuteTime": {
     "end_time": "2023-09-07T16:36:44.651208Z",
     "start_time": "2023-09-07T16:36:44.150373Z"
    }
   },
   "outputs": [],
   "source": [
    "x = np.linspace(-np.pi,np.pi,100)\n",
    "fig = plt.figure()\n",
    "\n",
    "ax1 = fig.add_axes([0.1, 0.1, 1, 1]) # left, bottom, width, height (range 0 to 1)\n",
    "ax1.plot(x,np.sin(x))\n",
    "ax1.set_title('sin')\n",
    "ax1.set_xticks([-np.pi, -np.pi/2, 0, np.pi/2,np.pi])\n",
    "ax1.set_xticklabels([\"$-\\\\pi$\",\"$-\\\\frac{\\pi}{2}$\",0,\"$\\\\frac{\\pi}{2}$\",\"$\\\\pi$\"])\n",
    "ax1.set_yticks([1,0,-1])\n",
    "\n",
    "ax2 = fig.add_axes([0.7,0.2,0.3,0.3])\n",
    "ax2.plot(x,np.cos(x))\n",
    "ax2.set_title('cos');\n",
    "\n",
    "ax3 = fig.add_axes([0.2,0.7,0.4,0.3])\n",
    "ax3.plot(x,np.tan(x))\n",
    "ax3.set_title('tan');"
   ]
  },
  {
   "cell_type": "markdown",
   "id": "bf237866-e2a2-42d5-beb7-c79ce6d495fa",
   "metadata": {},
   "source": [
    "## Anatomy of a figure\n",
    "<img src=\"https://matplotlib.org/stable/_images/anatomy.png\" width=\"600\" height=\"600\">"
   ]
  },
  {
   "cell_type": "markdown",
   "id": "fcbc585b-6763-4e41-bddd-f49df63ca975",
   "metadata": {},
   "source": [
    "## Multiple Plots"
   ]
  },
  {
   "cell_type": "code",
   "execution_count": null,
   "id": "11f335c6-718b-4aea-8c4a-c48b60094902",
   "metadata": {
    "ExecuteTime": {
     "end_time": "2023-09-07T16:37:15.086743Z",
     "start_time": "2023-09-07T16:37:14.710175Z"
    },
    "tags": []
   },
   "outputs": [],
   "source": [
    "fig, axs = plt.subplots(2,2) # Automatic axes manager\n",
    "\n",
    "fig.tight_layout() # Solves overlapping\n",
    "fig.set_facecolor(\"lightgrey\")\n",
    "\n",
    "axs[0,0].plot([1,2,3,4,5], color='g',linewidth=2,alpha=0.5,linestyle='--',marker='o',markersize=5,\n",
    "       markerfacecolor='r')\n",
    "axs[0,0].set_xlim(0,3)\n",
    "axs[0,0].grid(True)\n",
    "\n",
    "axs[0,1].plot([3,2,1,0,0,-1], 'b*')\n",
    "axs[0,1].set_title(\"Blue Stars\")\n",
    "\n",
    "axs[1,0].plot(np.arange(-100,100), 'c--')\n",
    "axs[1,0].plot([0,0,100,0],[0,100,0,0], 'k')\n",
    "axs[1,0].set_xlabel(\"My X label\")\n",
    "\n",
    "axs[1,1].plot([1,2,2,3], [1,2,3,4], 'ms')"
   ]
  },
  {
   "cell_type": "markdown",
   "id": "f22c1c1d-0678-4450-af1b-e1b49b35af50",
   "metadata": {},
   "source": [
    "## Figure size, aspect ratio and DPI"
   ]
  },
  {
   "cell_type": "markdown",
   "id": "47c38ac9-0fdf-41c9-be56-6b3983e375b4",
   "metadata": {},
   "source": [
    "Matplotlib allows the aspect ratio, DPI and figure size to be specified when the Figure object is created. You can use the `figsize` and `dpi` keyword arguments. \n",
    "* `figsize` is a tuple of the width and height of the figure in inches\n",
    "* `dpi` is the dots-per-inch (pixel per inch). \n",
    "\n",
    "For example:"
   ]
  },
  {
   "cell_type": "code",
   "execution_count": null,
   "id": "da26fa58-2eab-4915-9c3f-dc84acbdde1c",
   "metadata": {
    "ExecuteTime": {
     "end_time": "2023-09-07T16:37:16.958845Z",
     "start_time": "2023-09-07T16:37:16.942085Z"
    },
    "jupyter": {
     "outputs_hidden": false
    }
   },
   "outputs": [],
   "source": [
    "fig = plt.figure(figsize=(8,4), dpi=100)"
   ]
  },
  {
   "cell_type": "markdown",
   "id": "95139aed-6c08-4e9b-8821-bb072348fbf8",
   "metadata": {},
   "source": [
    "## Titles, labels and legends\n",
    "### Figure titles\n",
    "- `ax.set_title(\"title\")`\n",
    "\n",
    "### Axis lables\n",
    "- `ax.set_xlabel(\"x\")`\n",
    "- `ax.set_ylabel(\"y\")`"
   ]
  },
  {
   "cell_type": "markdown",
   "id": "f4894cbe-08ab-4e54-9302-4929a736b6f3",
   "metadata": {},
   "source": [
    "### Legends\n",
    "- `ax.plot(x, y, label=\"my function\")`\n",
    "- `ax.legend()`"
   ]
  },
  {
   "cell_type": "markdown",
   "id": "2d94ba46-556c-4aff-ab3d-06e00d6624b4",
   "metadata": {},
   "source": [
    "## Line and marker styles\n",
    "color or c → any matplotlib color\n",
    "\n",
    "    b — blue\n",
    "    c — cyan\n",
    "    g — green\n",
    "    k — black\n",
    "    m — magenta\n",
    "    r — red\n",
    "    w — white\n",
    "    y — yellow\n",
    "\n",
    "linestyle or ls →\n",
    "\n",
    "    [solid → '-' ]\n",
    "    [dashed → '--' ]\n",
    "    [dashdot → '-.' ]\n",
    "    [dotted → ':' ]\n",
    "\n",
    "linewidth or lw → It can be any float value to increase the width of the line\n",
    "\n",
    "Marker Styles\n",
    "\n",
    "    . — point marker\n",
    "    , — Pixel marker\n",
    "    v — Triangle down a marker\n",
    "    ^ — Triangle up a marker\n",
    "    < — Triangle left marker\n",
    "    1 — Tripod down a marker\n",
    "    s — Square marker\n",
    "    p — Pentagon marker\n",
    "    '*' — Star marker\n",
    "\n"
   ]
  },
  {
   "cell_type": "code",
   "execution_count": null,
   "id": "46417606-0649-4267-bb32-dcc47f549ca7",
   "metadata": {
    "ExecuteTime": {
     "end_time": "2023-09-07T16:39:43.721585Z",
     "start_time": "2023-09-07T16:39:43.541775Z"
    }
   },
   "outputs": [],
   "source": [
    "x = np.arange(0,5)\n",
    "\n",
    "fig, ax = plt.subplots()\n",
    "ax.plot(x, x+1, color=\"red\", linewidth=0.25)\n",
    "ax.plot(x, x+2, color=\"red\", linewidth=0.50)\n",
    "ax.plot(x, x+3, color=\"red\", linewidth=1.00)\n",
    "ax.plot(x, x+4, color=\"red\", linewidth=2.00)\n",
    "\n",
    "# possible linestype options ‘-‘, ‘–’, ‘-.’, ‘:’, ‘steps’\n",
    "ax.plot(x, x+5, color=\"green\", lw=3, linestyle='-')\n",
    "ax.plot(x, x+6, color=\"green\", lw=3, ls='-.')\n",
    "ax.plot(x, x+7, color=\"green\", lw=3, ls=':')\n",
    "\n",
    "# custom dash\n",
    "line, = ax.plot(x, x+8, color=\"black\", lw=1.50)\n",
    "line.set_dashes([5, 10, 15, 10]) # format: line length, space length, ...\n",
    "\n",
    "# possible marker symbols: marker = '+', 'o', '*', 's', ',', '.', '1', '2', '3', '4', ...\n",
    "ax.plot(x, x+ 9, color=\"blue\", lw=3, ls='-', marker='+')\n",
    "ax.plot(x, x+10, color=\"blue\", lw=3, ls='--', marker='o')\n",
    "ax.plot(x, x+11, color=\"blue\", lw=3, ls='-', marker='s')\n",
    "ax.plot(x, x+12, color=\"#FF00FF\", lw=3, ls='--', marker='1')\n",
    "\n",
    "# marker size and color\n",
    "ax.plot(x, x+13, color=\"purple\", lw=1, ls='-', marker='o', markersize=2)\n",
    "ax.plot(x, x+14, color=\"purple\", lw=1, ls='-', marker='o', markersize=4)\n",
    "ax.plot(x, x+15, color=\"purple\", lw=1, ls='-', marker='o', markersize=8, markerfacecolor=\"red\")\n",
    "ax.plot(x, x+16, color=\"purple\", lw=1, ls='-', marker='s', markersize=8, \n",
    "        markerfacecolor=\"yellow\", markeredgewidth=3, markeredgecolor=\"green\");"
   ]
  },
  {
   "cell_type": "markdown",
   "id": "edbd134b-4757-42e7-be80-72d8ed3ce087",
   "metadata": {},
   "source": [
    "## Plot Types\n",
    "There are many specialized plots we can create, such as barplots, histograms, scatter plots, and much more."
   ]
  },
  {
   "cell_type": "markdown",
   "id": "2d545cb6-d845-4633-b131-f2d3f1002c54",
   "metadata": {},
   "source": [
    "### Scatter Plot"
   ]
  },
  {
   "cell_type": "code",
   "execution_count": null,
   "id": "828a9d59-664e-471d-b6c5-e5d3c31f0faa",
   "metadata": {
    "ExecuteTime": {
     "end_time": "2023-09-07T16:39:45.659594Z",
     "start_time": "2023-09-07T16:39:45.533944Z"
    },
    "tags": []
   },
   "outputs": [],
   "source": [
    "# data\n",
    "np.random.seed(3)\n",
    "x = np.random.randint(1,10,20)\n",
    "y = np.random.randint(1,10,20)\n",
    "\n",
    "# size and color\n",
    "sizes = np.random.uniform(50, 500, len(x))\n",
    "colors = np.random.uniform(0, 100, len(x))\n",
    "\n",
    "# plot\n",
    "fig, ax = plt.subplots()\n",
    "\n",
    "ax.set(xlim=(0, 10), xticks=np.arange(0, 11),\n",
    "       ylim=(0, 10), yticks=np.arange(0, 11))\n",
    "\n",
    "ax.scatter(x, y, s=sizes, c=colors, vmin=0, vmax=100)\n",
    "\n",
    "plt.show()"
   ]
  },
  {
   "cell_type": "markdown",
   "id": "c912e5d6-f20c-4f63-835e-33bcf5498389",
   "metadata": {},
   "source": [
    "### Bar Plot"
   ]
  },
  {
   "cell_type": "code",
   "execution_count": null,
   "id": "f6533e0e-092d-445e-85a4-ce612adbcb5d",
   "metadata": {
    "ExecuteTime": {
     "end_time": "2023-09-07T16:39:46.883377Z",
     "start_time": "2023-09-07T16:39:46.718738Z"
    }
   },
   "outputs": [],
   "source": [
    "# data\n",
    "x = ['maths', 'data science', 'computation', 'statistics']\n",
    "y = [75, 99, 86, 66]\n",
    "\n",
    "fig, (ax1, ax2) = plt.subplots(2,1)\n",
    "\n",
    "ax1.bar(x,y,color=['y','b','k','r'])\n",
    "ax2.barh(x,y,color=['y','b','k','r'])\n",
    "\n",
    "plt.show()"
   ]
  },
  {
   "cell_type": "markdown",
   "id": "75c3fa38-4cfa-4aa8-81c6-19799c181841",
   "metadata": {},
   "source": [
    "### Histogram"
   ]
  },
  {
   "cell_type": "code",
   "execution_count": null,
   "id": "c76307bb-b66b-4e7f-bf26-1d7a188ed297",
   "metadata": {
    "ExecuteTime": {
     "end_time": "2023-09-07T16:39:48.145134Z",
     "start_time": "2023-09-07T16:39:47.926133Z"
    }
   },
   "outputs": [],
   "source": [
    "# data\n",
    "data = np.random.standard_normal(1000)\n",
    "\n",
    "# plot\n",
    "plt.hist(data,100,color=\"b\",alpha=0.4)\n",
    "plt.show()"
   ]
  },
  {
   "cell_type": "markdown",
   "id": "0b3105d7-1337-45d6-8f21-6d5eee6da18b",
   "metadata": {},
   "source": [
    "### Box Plot"
   ]
  },
  {
   "cell_type": "code",
   "execution_count": null,
   "id": "7aa3dbb5-762c-4cc1-abc4-0bf29052eabe",
   "metadata": {
    "ExecuteTime": {
     "end_time": "2023-09-07T16:39:49.349754Z",
     "start_time": "2023-09-07T16:39:49.262500Z"
    }
   },
   "outputs": [],
   "source": [
    "# data\n",
    "np.random.seed(10) \n",
    "data = np.random.normal(100, 20, 200) \n",
    "   \n",
    "# Creating plot \n",
    "plt.boxplot(data) \n",
    "  \n",
    "# show plot \n",
    "plt.show() "
   ]
  },
  {
   "cell_type": "markdown",
   "id": "d0e6a859-5493-41c0-8d75-e931dc66aeb5",
   "metadata": {},
   "source": [
    "### Pie Chart"
   ]
  },
  {
   "cell_type": "code",
   "execution_count": null,
   "id": "1ab19266-5daa-40b8-a5c9-9670d0634a0b",
   "metadata": {
    "ExecuteTime": {
     "end_time": "2023-09-07T16:39:50.615402Z",
     "start_time": "2023-09-07T16:39:50.487346Z"
    }
   },
   "outputs": [],
   "source": [
    "cars = ['AUDI', 'BMW', 'FORD',\n",
    "        'TESLA', 'JAGUAR', 'MERCEDES']\n",
    "  \n",
    "data = [23, 17, 35, 29, 12, 41]\n",
    "\n",
    "explode = (0.0, 0.0, 0.2, 0.0, 0.0, 0.0)\n",
    "  \n",
    "# Creating color parameters\n",
    "colors = ( \"orange\", \"cyan\", \"brown\",\n",
    "          \"grey\", \"indigo\", \"beige\")\n",
    "  \n",
    "# Creating plot\n",
    "fig = plt.figure(figsize =(10, 7))\n",
    "plt.pie(data, labels = cars,explode=explode,colors=colors,shadow=True)\n",
    "  \n",
    "# show plot\n",
    "plt.show()"
   ]
  },
  {
   "cell_type": "markdown",
   "id": "b4917d8a-9756-4543-bbdc-c4b10fcab93a",
   "metadata": {},
   "source": [
    "### More plot types\n",
    "https://matplotlib.org/stable/plot_types/basic/"
   ]
  },
  {
   "cell_type": "markdown",
   "id": "740572f5-7f4b-4b47-9adc-21d31900352e",
   "metadata": {},
   "source": [
    "## Real example"
   ]
  },
  {
   "cell_type": "code",
   "execution_count": null,
   "id": "892811c9-383f-41cf-8f03-73745a59418b",
   "metadata": {
    "ExecuteTime": {
     "end_time": "2023-09-07T16:39:53.112298Z",
     "start_time": "2023-09-07T16:39:52.958102Z"
    }
   },
   "outputs": [],
   "source": [
    "import pandas as pd\n",
    "gas = pd.read_csv('gas_prices.csv')\n",
    "\n",
    "plt.title('Gas Prices over Time (in USD)')\n",
    "\n",
    "plt.plot(gas.Year, gas.USA, 'b.-', label='United States')\n",
    "plt.plot(gas.Year, gas.Canada, 'r.-', label='Canada')\n",
    "plt.plot(gas.Year, gas['South Korea'], 'g.-', label='South Korea')\n",
    "plt.plot(gas.Year, gas.Australia, 'y.-', label='Australia')\n",
    "\n",
    "plt.xticks(gas.Year[::2].tolist()+[2011])\n",
    "\n",
    "plt.xlabel('Year')\n",
    "plt.ylabel('US Dollars')\n",
    "\n",
    "plt.legend()\n",
    "plt.show()"
   ]
  },
  {
   "cell_type": "markdown",
   "id": "ac8adebe-ae75-47ee-8265-437f7da52ccd",
   "metadata": {},
   "source": [
    "## Saving figures\n",
    "> Matplotlib can generate high-quality output in a number formats, including PNG, JPG, EPS, SVG, PGF and PDF. \n",
    "\n",
    "\n",
    "Use: `fig.savefig(\"filename.png\")`"
   ]
  },
  {
   "cell_type": "markdown",
   "id": "cc75e6c4-7d0c-495c-ad2a-eb245fde4ef8",
   "metadata": {
    "tags": []
   },
   "source": [
    "## References\n",
    "(1) Wes McKinney (2022), Python for Data Analysis, Third Edition, O’Reilly Media, Inc. \n",
    "(book and code: https://wesmckinney.com/book/, https://github.com/wesm/pydata-book/) \n",
    "\n",
    "(2) Python Documentation (https://docs.python.org/3/)\n",
    "\n",
    "(3) Numpy Documentation (https://numpy.org/doc/stable/)\n",
    "\n",
    "(4) Matplotlib Documentation (https://matplotlib.org/stable/)"
   ]
  },
  {
   "cell_type": "code",
   "execution_count": null,
   "id": "6318dee1",
   "metadata": {},
   "outputs": [],
   "source": []
  }
 ],
 "metadata": {
  "hide_input": false,
  "kernelspec": {
   "display_name": "Python 3 (ipykernel)",
   "language": "python",
   "name": "python3"
  },
  "language_info": {
   "codemirror_mode": {
    "name": "ipython",
    "version": 3
   },
   "file_extension": ".py",
   "mimetype": "text/x-python",
   "name": "python",
   "nbconvert_exporter": "python",
   "pygments_lexer": "ipython3",
   "version": "3.10.9"
  },
  "latex_envs": {
   "LaTeX_envs_menu_present": true,
   "autoclose": false,
   "autocomplete": true,
   "bibliofile": "biblio.bib",
   "cite_by": "apalike",
   "current_citInitial": 1,
   "eqLabelWithNumbers": true,
   "eqNumInitial": 1,
   "hotkeys": {
    "equation": "Ctrl-E",
    "itemize": "Ctrl-I"
   },
   "labels_anchors": false,
   "latex_user_defs": false,
   "report_style_numbering": false,
   "user_envs_cfg": false
  },
  "nbTranslate": {
   "displayLangs": [
    "*"
   ],
   "hotkey": "alt-t",
   "langInMainMenu": true,
   "sourceLang": "en",
   "targetLang": "fr",
   "useGoogleTranslate": true
  },
  "toc": {
   "base_numbering": 1,
   "nav_menu": {},
   "number_sections": true,
   "sideBar": true,
   "skip_h1_title": false,
   "title_cell": "Table of Contents",
   "title_sidebar": "Contents",
   "toc_cell": false,
   "toc_position": {},
   "toc_section_display": true,
   "toc_window_display": false
  },
  "varInspector": {
   "cols": {
    "lenName": 16,
    "lenType": 16,
    "lenVar": 40
   },
   "kernels_config": {
    "python": {
     "delete_cmd_postfix": "",
     "delete_cmd_prefix": "del ",
     "library": "var_list.py",
     "varRefreshCmd": "print(var_dic_list())"
    },
    "r": {
     "delete_cmd_postfix": ") ",
     "delete_cmd_prefix": "rm(",
     "library": "var_list.r",
     "varRefreshCmd": "cat(var_dic_list()) "
    }
   },
   "types_to_exclude": [
    "module",
    "function",
    "builtin_function_or_method",
    "instance",
    "_Feature"
   ],
   "window_display": false
  }
 },
 "nbformat": 4,
 "nbformat_minor": 5
}
